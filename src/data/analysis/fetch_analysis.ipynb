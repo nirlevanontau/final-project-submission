{
 "cells": [
  {
   "cell_type": "code",
   "execution_count": 521,
   "metadata": {},
   "outputs": [],
   "source": [
    "import pandas as pd\n",
    "import glob\n",
    "import plotly.express as px"
   ]
  },
  {
   "cell_type": "code",
   "execution_count": 522,
   "metadata": {},
   "outputs": [
    {
     "data": {
      "text/html": [
       "<div>\n",
       "<style scoped>\n",
       "    .dataframe tbody tr th:only-of-type {\n",
       "        vertical-align: middle;\n",
       "    }\n",
       "\n",
       "    .dataframe tbody tr th {\n",
       "        vertical-align: top;\n",
       "    }\n",
       "\n",
       "    .dataframe thead th {\n",
       "        text-align: right;\n",
       "    }\n",
       "</style>\n",
       "<table border=\"1\" class=\"dataframe\">\n",
       "  <thead>\n",
       "    <tr style=\"text-align: right;\">\n",
       "      <th></th>\n",
       "      <th>fetch_tool</th>\n",
       "      <th>type_tool</th>\n",
       "    </tr>\n",
       "  </thead>\n",
       "  <tbody>\n",
       "    <tr>\n",
       "      <th>0</th>\n",
       "      <td>REACH_FORK</td>\n",
       "      <td>0</td>\n",
       "    </tr>\n",
       "    <tr>\n",
       "      <th>1</th>\n",
       "      <td>PALLET_JACK</td>\n",
       "      <td>1</td>\n",
       "    </tr>\n",
       "    <tr>\n",
       "      <th>2</th>\n",
       "      <td>ORDER_PICKER</td>\n",
       "      <td>2</td>\n",
       "    </tr>\n",
       "    <tr>\n",
       "      <th>3</th>\n",
       "      <td>CROSS_DOCK</td>\n",
       "      <td>3</td>\n",
       "    </tr>\n",
       "  </tbody>\n",
       "</table>\n",
       "</div>"
      ],
      "text/plain": [
       "     fetch_tool  type_tool\n",
       "0    REACH_FORK          0\n",
       "1   PALLET_JACK          1\n",
       "2  ORDER_PICKER          2\n",
       "3    CROSS_DOCK          3"
      ]
     },
     "execution_count": 522,
     "metadata": {},
     "output_type": "execute_result"
    }
   ],
   "source": [
    "# from the ../ids/ folder import the tool_ids.csv\n",
    "tool_df = pd.read_csv( '../ids/tool_ids.csv', usecols=['fetch_tool', 'fetch_tool_id'])\n",
    "# rename the fetch_tool_id column to type_tool\n",
    "tool_df = tool_df.rename(columns={'fetch_tool_id': 'type_tool'})\n",
    "tool_df"
   ]
  },
  {
   "cell_type": "code",
   "execution_count": 523,
   "metadata": {},
   "outputs": [
    {
     "data": {
      "text/html": [
       "<div>\n",
       "<style scoped>\n",
       "    .dataframe tbody tr th:only-of-type {\n",
       "        vertical-align: middle;\n",
       "    }\n",
       "\n",
       "    .dataframe tbody tr th {\n",
       "        vertical-align: top;\n",
       "    }\n",
       "\n",
       "    .dataframe thead th {\n",
       "        text-align: right;\n",
       "    }\n",
       "</style>\n",
       "<table border=\"1\" class=\"dataframe\">\n",
       "  <thead>\n",
       "    <tr style=\"text-align: right;\">\n",
       "      <th></th>\n",
       "      <th>t_now</th>\n",
       "      <th>employee</th>\n",
       "      <th>tool</th>\n",
       "      <th>type_tool</th>\n",
       "      <th>task_time</th>\n",
       "      <th>num_of_items</th>\n",
       "      <th>num_of_aisles</th>\n",
       "      <th>positions</th>\n",
       "      <th>placement</th>\n",
       "    </tr>\n",
       "  </thead>\n",
       "  <tbody>\n",
       "    <tr>\n",
       "      <th>0</th>\n",
       "      <td>2021-01-01 08:00:00</td>\n",
       "      <td>1</td>\n",
       "      <td>3</td>\n",
       "      <td>1</td>\n",
       "      <td>46.0</td>\n",
       "      <td>1</td>\n",
       "      <td>1</td>\n",
       "      <td>Current</td>\n",
       "      <td>Current</td>\n",
       "    </tr>\n",
       "    <tr>\n",
       "      <th>1</th>\n",
       "      <td>2021-01-01 08:03:15</td>\n",
       "      <td>4</td>\n",
       "      <td>7</td>\n",
       "      <td>2</td>\n",
       "      <td>175.0</td>\n",
       "      <td>1</td>\n",
       "      <td>1</td>\n",
       "      <td>Current</td>\n",
       "      <td>Current</td>\n",
       "    </tr>\n",
       "    <tr>\n",
       "      <th>2</th>\n",
       "      <td>2021-01-01 08:04:04</td>\n",
       "      <td>1</td>\n",
       "      <td>3</td>\n",
       "      <td>1</td>\n",
       "      <td>95.0</td>\n",
       "      <td>1</td>\n",
       "      <td>1</td>\n",
       "      <td>Current</td>\n",
       "      <td>Current</td>\n",
       "    </tr>\n",
       "    <tr>\n",
       "      <th>3</th>\n",
       "      <td>2021-01-01 08:05:17</td>\n",
       "      <td>2</td>\n",
       "      <td>2</td>\n",
       "      <td>1</td>\n",
       "      <td>70.0</td>\n",
       "      <td>1</td>\n",
       "      <td>1</td>\n",
       "      <td>Current</td>\n",
       "      <td>Current</td>\n",
       "    </tr>\n",
       "    <tr>\n",
       "      <th>4</th>\n",
       "      <td>2021-01-01 08:07:30</td>\n",
       "      <td>1</td>\n",
       "      <td>3</td>\n",
       "      <td>1</td>\n",
       "      <td>62.0</td>\n",
       "      <td>1</td>\n",
       "      <td>1</td>\n",
       "      <td>Current</td>\n",
       "      <td>Current</td>\n",
       "    </tr>\n",
       "    <tr>\n",
       "      <th>...</th>\n",
       "      <td>...</td>\n",
       "      <td>...</td>\n",
       "      <td>...</td>\n",
       "      <td>...</td>\n",
       "      <td>...</td>\n",
       "      <td>...</td>\n",
       "      <td>...</td>\n",
       "      <td>...</td>\n",
       "      <td>...</td>\n",
       "    </tr>\n",
       "    <tr>\n",
       "      <th>21050</th>\n",
       "      <td>2021-02-25 08:09:12</td>\n",
       "      <td>0</td>\n",
       "      <td>0</td>\n",
       "      <td>3</td>\n",
       "      <td>0.0</td>\n",
       "      <td>9819</td>\n",
       "      <td>1</td>\n",
       "      <td>Current</td>\n",
       "      <td>Current</td>\n",
       "    </tr>\n",
       "    <tr>\n",
       "      <th>21051</th>\n",
       "      <td>2021-02-25 08:09:27</td>\n",
       "      <td>0</td>\n",
       "      <td>0</td>\n",
       "      <td>3</td>\n",
       "      <td>0.0</td>\n",
       "      <td>9820</td>\n",
       "      <td>1</td>\n",
       "      <td>Current</td>\n",
       "      <td>Current</td>\n",
       "    </tr>\n",
       "    <tr>\n",
       "      <th>21052</th>\n",
       "      <td>2021-02-25 08:10:10</td>\n",
       "      <td>1</td>\n",
       "      <td>3</td>\n",
       "      <td>1</td>\n",
       "      <td>96.0</td>\n",
       "      <td>1</td>\n",
       "      <td>1</td>\n",
       "      <td>Current</td>\n",
       "      <td>Current</td>\n",
       "    </tr>\n",
       "    <tr>\n",
       "      <th>21053</th>\n",
       "      <td>2021-02-25 08:11:14</td>\n",
       "      <td>2</td>\n",
       "      <td>2</td>\n",
       "      <td>1</td>\n",
       "      <td>67.0</td>\n",
       "      <td>1</td>\n",
       "      <td>1</td>\n",
       "      <td>Current</td>\n",
       "      <td>Current</td>\n",
       "    </tr>\n",
       "    <tr>\n",
       "      <th>21054</th>\n",
       "      <td>2021-02-25 08:11:37</td>\n",
       "      <td>0</td>\n",
       "      <td>0</td>\n",
       "      <td>3</td>\n",
       "      <td>0.0</td>\n",
       "      <td>9821</td>\n",
       "      <td>1</td>\n",
       "      <td>Current</td>\n",
       "      <td>Current</td>\n",
       "    </tr>\n",
       "  </tbody>\n",
       "</table>\n",
       "<p>21055 rows × 9 columns</p>\n",
       "</div>"
      ],
      "text/plain": [
       "                     t_now  employee  tool  type_tool  task_time   \n",
       "0      2021-01-01 08:00:00         1     3          1       46.0  \\\n",
       "1      2021-01-01 08:03:15         4     7          2      175.0   \n",
       "2      2021-01-01 08:04:04         1     3          1       95.0   \n",
       "3      2021-01-01 08:05:17         2     2          1       70.0   \n",
       "4      2021-01-01 08:07:30         1     3          1       62.0   \n",
       "...                    ...       ...   ...        ...        ...   \n",
       "21050  2021-02-25 08:09:12         0     0          3        0.0   \n",
       "21051  2021-02-25 08:09:27         0     0          3        0.0   \n",
       "21052  2021-02-25 08:10:10         1     3          1       96.0   \n",
       "21053  2021-02-25 08:11:14         2     2          1       67.0   \n",
       "21054  2021-02-25 08:11:37         0     0          3        0.0   \n",
       "\n",
       "       num_of_items  num_of_aisles positions placement  \n",
       "0                 1              1   Current   Current  \n",
       "1                 1              1   Current   Current  \n",
       "2                 1              1   Current   Current  \n",
       "3                 1              1   Current   Current  \n",
       "4                 1              1   Current   Current  \n",
       "...             ...            ...       ...       ...  \n",
       "21050          9819              1   Current   Current  \n",
       "21051          9820              1   Current   Current  \n",
       "21052             1              1   Current   Current  \n",
       "21053             1              1   Current   Current  \n",
       "21054          9821              1   Current   Current  \n",
       "\n",
       "[21055 rows x 9 columns]"
      ]
     },
     "execution_count": 523,
     "metadata": {},
     "output_type": "execute_result"
    }
   ],
   "source": [
    "Current_positions_results_df = pd.read_csv('../original/results/fetch_tasks_results.csv')\n",
    "Current_positions_results_df['positions'] = 'Current'\n",
    "Current_positions_results_df['placement'] = 'Current'\n",
    "Current_positions_results_df"
   ]
  },
  {
   "cell_type": "code",
   "execution_count": 524,
   "metadata": {},
   "outputs": [
    {
     "data": {
      "text/plain": [
       "['..\\\\placement1\\\\results\\\\fetch_tasks_results.csv',\n",
       " '..\\\\placement2\\\\results\\\\fetch_tasks_results.csv',\n",
       " '..\\\\placement3\\\\results\\\\fetch_tasks_results.csv',\n",
       " '..\\\\placement4\\\\results\\\\fetch_tasks_results.csv',\n",
       " '..\\\\placement5\\\\results\\\\fetch_tasks_results.csv',\n",
       " '..\\\\placement6\\\\results\\\\fetch_tasks_results.csv',\n",
       " '..\\\\placement7\\\\results\\\\fetch_tasks_results.csv']"
      ]
     },
     "execution_count": 524,
     "metadata": {},
     "output_type": "execute_result"
    }
   ],
   "source": [
    "fetch_task_results_paths_list = glob.glob(r'../placement*/results/fetch_tasks_results.csv', recursive=True)\n",
    "fetch_task_results_paths_list"
   ]
  },
  {
   "cell_type": "code",
   "execution_count": 525,
   "metadata": {},
   "outputs": [
    {
     "data": {
      "text/plain": [
       "'1'"
      ]
     },
     "execution_count": 525,
     "metadata": {},
     "output_type": "execute_result"
    }
   ],
   "source": [
    "# from the first item in fetch_task_results_paths_list, fetch the digit after 'placement' and before '/'\n",
    "placement_number = fetch_task_results_paths_list[0].split('placement')[1].split('\\\\')[0]\n",
    "placement_number"
   ]
  },
  {
   "cell_type": "code",
   "execution_count": 526,
   "metadata": {},
   "outputs": [
    {
     "data": {
      "text/html": [
       "<div>\n",
       "<style scoped>\n",
       "    .dataframe tbody tr th:only-of-type {\n",
       "        vertical-align: middle;\n",
       "    }\n",
       "\n",
       "    .dataframe tbody tr th {\n",
       "        vertical-align: top;\n",
       "    }\n",
       "\n",
       "    .dataframe thead th {\n",
       "        text-align: right;\n",
       "    }\n",
       "</style>\n",
       "<table border=\"1\" class=\"dataframe\">\n",
       "  <thead>\n",
       "    <tr style=\"text-align: right;\">\n",
       "      <th></th>\n",
       "      <th>t_now</th>\n",
       "      <th>employee</th>\n",
       "      <th>tool</th>\n",
       "      <th>type_tool</th>\n",
       "      <th>task_time</th>\n",
       "      <th>num_of_items</th>\n",
       "      <th>num_of_aisles</th>\n",
       "      <th>placement</th>\n",
       "      <th>positions</th>\n",
       "    </tr>\n",
       "  </thead>\n",
       "  <tbody>\n",
       "    <tr>\n",
       "      <th>0</th>\n",
       "      <td>2021-01-01 08:00:00</td>\n",
       "      <td>1</td>\n",
       "      <td>3</td>\n",
       "      <td>1</td>\n",
       "      <td>55.0</td>\n",
       "      <td>1</td>\n",
       "      <td>1</td>\n",
       "      <td>1</td>\n",
       "      <td>Improved</td>\n",
       "    </tr>\n",
       "    <tr>\n",
       "      <th>1</th>\n",
       "      <td>2021-01-01 08:03:15</td>\n",
       "      <td>4</td>\n",
       "      <td>7</td>\n",
       "      <td>2</td>\n",
       "      <td>167.0</td>\n",
       "      <td>1</td>\n",
       "      <td>1</td>\n",
       "      <td>1</td>\n",
       "      <td>Improved</td>\n",
       "    </tr>\n",
       "    <tr>\n",
       "      <th>2</th>\n",
       "      <td>2021-01-01 08:04:04</td>\n",
       "      <td>1</td>\n",
       "      <td>3</td>\n",
       "      <td>1</td>\n",
       "      <td>79.0</td>\n",
       "      <td>1</td>\n",
       "      <td>1</td>\n",
       "      <td>1</td>\n",
       "      <td>Improved</td>\n",
       "    </tr>\n",
       "    <tr>\n",
       "      <th>3</th>\n",
       "      <td>2021-01-01 08:05:17</td>\n",
       "      <td>2</td>\n",
       "      <td>2</td>\n",
       "      <td>1</td>\n",
       "      <td>65.0</td>\n",
       "      <td>1</td>\n",
       "      <td>1</td>\n",
       "      <td>1</td>\n",
       "      <td>Improved</td>\n",
       "    </tr>\n",
       "    <tr>\n",
       "      <th>4</th>\n",
       "      <td>2021-01-01 08:07:30</td>\n",
       "      <td>1</td>\n",
       "      <td>3</td>\n",
       "      <td>1</td>\n",
       "      <td>58.0</td>\n",
       "      <td>1</td>\n",
       "      <td>1</td>\n",
       "      <td>1</td>\n",
       "      <td>Improved</td>\n",
       "    </tr>\n",
       "    <tr>\n",
       "      <th>...</th>\n",
       "      <td>...</td>\n",
       "      <td>...</td>\n",
       "      <td>...</td>\n",
       "      <td>...</td>\n",
       "      <td>...</td>\n",
       "      <td>...</td>\n",
       "      <td>...</td>\n",
       "      <td>...</td>\n",
       "      <td>...</td>\n",
       "    </tr>\n",
       "    <tr>\n",
       "      <th>10242</th>\n",
       "      <td>2021-01-31 14:22:16</td>\n",
       "      <td>0</td>\n",
       "      <td>0</td>\n",
       "      <td>3</td>\n",
       "      <td>0.0</td>\n",
       "      <td>661</td>\n",
       "      <td>1</td>\n",
       "      <td>7</td>\n",
       "      <td>Improved</td>\n",
       "    </tr>\n",
       "    <tr>\n",
       "      <th>10243</th>\n",
       "      <td>2021-01-31 14:23:05</td>\n",
       "      <td>1</td>\n",
       "      <td>3</td>\n",
       "      <td>1</td>\n",
       "      <td>54.0</td>\n",
       "      <td>1</td>\n",
       "      <td>1</td>\n",
       "      <td>7</td>\n",
       "      <td>Improved</td>\n",
       "    </tr>\n",
       "    <tr>\n",
       "      <th>10244</th>\n",
       "      <td>2021-01-31 14:23:35</td>\n",
       "      <td>2</td>\n",
       "      <td>2</td>\n",
       "      <td>1</td>\n",
       "      <td>98.0</td>\n",
       "      <td>1</td>\n",
       "      <td>1</td>\n",
       "      <td>7</td>\n",
       "      <td>Improved</td>\n",
       "    </tr>\n",
       "    <tr>\n",
       "      <th>10245</th>\n",
       "      <td>2021-01-31 14:23:53</td>\n",
       "      <td>0</td>\n",
       "      <td>0</td>\n",
       "      <td>3</td>\n",
       "      <td>0.0</td>\n",
       "      <td>662</td>\n",
       "      <td>1</td>\n",
       "      <td>7</td>\n",
       "      <td>Improved</td>\n",
       "    </tr>\n",
       "    <tr>\n",
       "      <th>10246</th>\n",
       "      <td>2021-01-31 14:24:20</td>\n",
       "      <td>4</td>\n",
       "      <td>7</td>\n",
       "      <td>2</td>\n",
       "      <td>208.0</td>\n",
       "      <td>2</td>\n",
       "      <td>2</td>\n",
       "      <td>7</td>\n",
       "      <td>Improved</td>\n",
       "    </tr>\n",
       "  </tbody>\n",
       "</table>\n",
       "<p>105608 rows × 9 columns</p>\n",
       "</div>"
      ],
      "text/plain": [
       "                     t_now  employee  tool  type_tool  task_time   \n",
       "0      2021-01-01 08:00:00         1     3          1       55.0  \\\n",
       "1      2021-01-01 08:03:15         4     7          2      167.0   \n",
       "2      2021-01-01 08:04:04         1     3          1       79.0   \n",
       "3      2021-01-01 08:05:17         2     2          1       65.0   \n",
       "4      2021-01-01 08:07:30         1     3          1       58.0   \n",
       "...                    ...       ...   ...        ...        ...   \n",
       "10242  2021-01-31 14:22:16         0     0          3        0.0   \n",
       "10243  2021-01-31 14:23:05         1     3          1       54.0   \n",
       "10244  2021-01-31 14:23:35         2     2          1       98.0   \n",
       "10245  2021-01-31 14:23:53         0     0          3        0.0   \n",
       "10246  2021-01-31 14:24:20         4     7          2      208.0   \n",
       "\n",
       "       num_of_items  num_of_aisles placement positions  \n",
       "0                 1              1         1  Improved  \n",
       "1                 1              1         1  Improved  \n",
       "2                 1              1         1  Improved  \n",
       "3                 1              1         1  Improved  \n",
       "4                 1              1         1  Improved  \n",
       "...             ...            ...       ...       ...  \n",
       "10242           661              1         7  Improved  \n",
       "10243             1              1         7  Improved  \n",
       "10244             1              1         7  Improved  \n",
       "10245           662              1         7  Improved  \n",
       "10246             2              2         7  Improved  \n",
       "\n",
       "[105608 rows x 9 columns]"
      ]
     },
     "execution_count": 526,
     "metadata": {},
     "output_type": "execute_result"
    }
   ],
   "source": [
    "df_list = []\n",
    "for path in fetch_task_results_paths_list:\n",
    "    df = pd.read_csv(path)\n",
    "    df['placement'] = path.split('placement')[1].split('\\\\')[0]\n",
    "    df['positions'] = 'Improved'\n",
    "    df_list.append(df)\n",
    "# concatenate the list of dataframes into one dataframe\n",
    "improved_positions_results_df = pd.concat(df_list)\n",
    "improved_positions_results_df"
   ]
  },
  {
   "cell_type": "code",
   "execution_count": 527,
   "metadata": {},
   "outputs": [
    {
     "data": {
      "text/html": [
       "<div>\n",
       "<style scoped>\n",
       "    .dataframe tbody tr th:only-of-type {\n",
       "        vertical-align: middle;\n",
       "    }\n",
       "\n",
       "    .dataframe tbody tr th {\n",
       "        vertical-align: top;\n",
       "    }\n",
       "\n",
       "    .dataframe thead th {\n",
       "        text-align: right;\n",
       "    }\n",
       "</style>\n",
       "<table border=\"1\" class=\"dataframe\">\n",
       "  <thead>\n",
       "    <tr style=\"text-align: right;\">\n",
       "      <th></th>\n",
       "      <th>t_now</th>\n",
       "      <th>employee</th>\n",
       "      <th>tool</th>\n",
       "      <th>type_tool</th>\n",
       "      <th>task_time</th>\n",
       "      <th>num_of_items</th>\n",
       "      <th>num_of_aisles</th>\n",
       "      <th>positions</th>\n",
       "      <th>placement</th>\n",
       "    </tr>\n",
       "  </thead>\n",
       "  <tbody>\n",
       "    <tr>\n",
       "      <th>0</th>\n",
       "      <td>2021-01-01 08:00:00</td>\n",
       "      <td>1</td>\n",
       "      <td>3</td>\n",
       "      <td>1</td>\n",
       "      <td>46.0</td>\n",
       "      <td>1</td>\n",
       "      <td>1</td>\n",
       "      <td>Current</td>\n",
       "      <td>Current</td>\n",
       "    </tr>\n",
       "    <tr>\n",
       "      <th>1</th>\n",
       "      <td>2021-01-01 08:03:15</td>\n",
       "      <td>4</td>\n",
       "      <td>7</td>\n",
       "      <td>2</td>\n",
       "      <td>175.0</td>\n",
       "      <td>1</td>\n",
       "      <td>1</td>\n",
       "      <td>Current</td>\n",
       "      <td>Current</td>\n",
       "    </tr>\n",
       "    <tr>\n",
       "      <th>2</th>\n",
       "      <td>2021-01-01 08:04:04</td>\n",
       "      <td>1</td>\n",
       "      <td>3</td>\n",
       "      <td>1</td>\n",
       "      <td>95.0</td>\n",
       "      <td>1</td>\n",
       "      <td>1</td>\n",
       "      <td>Current</td>\n",
       "      <td>Current</td>\n",
       "    </tr>\n",
       "    <tr>\n",
       "      <th>3</th>\n",
       "      <td>2021-01-01 08:05:17</td>\n",
       "      <td>2</td>\n",
       "      <td>2</td>\n",
       "      <td>1</td>\n",
       "      <td>70.0</td>\n",
       "      <td>1</td>\n",
       "      <td>1</td>\n",
       "      <td>Current</td>\n",
       "      <td>Current</td>\n",
       "    </tr>\n",
       "    <tr>\n",
       "      <th>4</th>\n",
       "      <td>2021-01-01 08:07:30</td>\n",
       "      <td>1</td>\n",
       "      <td>3</td>\n",
       "      <td>1</td>\n",
       "      <td>62.0</td>\n",
       "      <td>1</td>\n",
       "      <td>1</td>\n",
       "      <td>Current</td>\n",
       "      <td>Current</td>\n",
       "    </tr>\n",
       "    <tr>\n",
       "      <th>...</th>\n",
       "      <td>...</td>\n",
       "      <td>...</td>\n",
       "      <td>...</td>\n",
       "      <td>...</td>\n",
       "      <td>...</td>\n",
       "      <td>...</td>\n",
       "      <td>...</td>\n",
       "      <td>...</td>\n",
       "      <td>...</td>\n",
       "    </tr>\n",
       "    <tr>\n",
       "      <th>10242</th>\n",
       "      <td>2021-01-31 14:22:16</td>\n",
       "      <td>0</td>\n",
       "      <td>0</td>\n",
       "      <td>3</td>\n",
       "      <td>0.0</td>\n",
       "      <td>661</td>\n",
       "      <td>1</td>\n",
       "      <td>Improved</td>\n",
       "      <td>7</td>\n",
       "    </tr>\n",
       "    <tr>\n",
       "      <th>10243</th>\n",
       "      <td>2021-01-31 14:23:05</td>\n",
       "      <td>1</td>\n",
       "      <td>3</td>\n",
       "      <td>1</td>\n",
       "      <td>54.0</td>\n",
       "      <td>1</td>\n",
       "      <td>1</td>\n",
       "      <td>Improved</td>\n",
       "      <td>7</td>\n",
       "    </tr>\n",
       "    <tr>\n",
       "      <th>10244</th>\n",
       "      <td>2021-01-31 14:23:35</td>\n",
       "      <td>2</td>\n",
       "      <td>2</td>\n",
       "      <td>1</td>\n",
       "      <td>98.0</td>\n",
       "      <td>1</td>\n",
       "      <td>1</td>\n",
       "      <td>Improved</td>\n",
       "      <td>7</td>\n",
       "    </tr>\n",
       "    <tr>\n",
       "      <th>10245</th>\n",
       "      <td>2021-01-31 14:23:53</td>\n",
       "      <td>0</td>\n",
       "      <td>0</td>\n",
       "      <td>3</td>\n",
       "      <td>0.0</td>\n",
       "      <td>662</td>\n",
       "      <td>1</td>\n",
       "      <td>Improved</td>\n",
       "      <td>7</td>\n",
       "    </tr>\n",
       "    <tr>\n",
       "      <th>10246</th>\n",
       "      <td>2021-01-31 14:24:20</td>\n",
       "      <td>4</td>\n",
       "      <td>7</td>\n",
       "      <td>2</td>\n",
       "      <td>208.0</td>\n",
       "      <td>2</td>\n",
       "      <td>2</td>\n",
       "      <td>Improved</td>\n",
       "      <td>7</td>\n",
       "    </tr>\n",
       "  </tbody>\n",
       "</table>\n",
       "<p>123902 rows × 9 columns</p>\n",
       "</div>"
      ],
      "text/plain": [
       "                    t_now  employee  tool  type_tool  task_time  num_of_items   \n",
       "0     2021-01-01 08:00:00         1     3          1       46.0             1  \\\n",
       "1     2021-01-01 08:03:15         4     7          2      175.0             1   \n",
       "2     2021-01-01 08:04:04         1     3          1       95.0             1   \n",
       "3     2021-01-01 08:05:17         2     2          1       70.0             1   \n",
       "4     2021-01-01 08:07:30         1     3          1       62.0             1   \n",
       "...                   ...       ...   ...        ...        ...           ...   \n",
       "10242 2021-01-31 14:22:16         0     0          3        0.0           661   \n",
       "10243 2021-01-31 14:23:05         1     3          1       54.0             1   \n",
       "10244 2021-01-31 14:23:35         2     2          1       98.0             1   \n",
       "10245 2021-01-31 14:23:53         0     0          3        0.0           662   \n",
       "10246 2021-01-31 14:24:20         4     7          2      208.0             2   \n",
       "\n",
       "       num_of_aisles positions placement  \n",
       "0                  1   Current   Current  \n",
       "1                  1   Current   Current  \n",
       "2                  1   Current   Current  \n",
       "3                  1   Current   Current  \n",
       "4                  1   Current   Current  \n",
       "...              ...       ...       ...  \n",
       "10242              1  Improved         7  \n",
       "10243              1  Improved         7  \n",
       "10244              1  Improved         7  \n",
       "10245              1  Improved         7  \n",
       "10246              2  Improved         7  \n",
       "\n",
       "[123902 rows x 9 columns]"
      ]
     },
     "execution_count": 527,
     "metadata": {},
     "output_type": "execute_result"
    }
   ],
   "source": [
    "# concat the Current_positions_results_dfand  improved_positions_results_df:\n",
    "fetch_task_results_df = pd.concat([Current_positions_results_df, improved_positions_results_df])\n",
    "MAX_DATETIME = pd.to_datetime('2021-02-22')\n",
    "# change t_now to datetime\n",
    "fetch_task_results_df['t_now'] = pd.to_datetime(fetch_task_results_df['t_now'])\n",
    "fetch_task_results_df = fetch_task_results_df[fetch_task_results_df['t_now'] < MAX_DATETIME]\n",
    "fetch_task_results_df"
   ]
  },
  {
   "cell_type": "code",
   "execution_count": 528,
   "metadata": {},
   "outputs": [
    {
     "data": {
      "text/html": [
       "<div>\n",
       "<style scoped>\n",
       "    .dataframe tbody tr th:only-of-type {\n",
       "        vertical-align: middle;\n",
       "    }\n",
       "\n",
       "    .dataframe tbody tr th {\n",
       "        vertical-align: top;\n",
       "    }\n",
       "\n",
       "    .dataframe thead th {\n",
       "        text-align: right;\n",
       "    }\n",
       "</style>\n",
       "<table border=\"1\" class=\"dataframe\">\n",
       "  <thead>\n",
       "    <tr style=\"text-align: right;\">\n",
       "      <th></th>\n",
       "      <th>t_now</th>\n",
       "      <th>employee</th>\n",
       "      <th>tool</th>\n",
       "      <th>type_tool</th>\n",
       "      <th>task_time</th>\n",
       "      <th>num_of_items</th>\n",
       "      <th>num_of_aisles</th>\n",
       "      <th>positions</th>\n",
       "      <th>placement</th>\n",
       "      <th>fetch_tool</th>\n",
       "    </tr>\n",
       "  </thead>\n",
       "  <tbody>\n",
       "    <tr>\n",
       "      <th>0</th>\n",
       "      <td>2021-01-01 08:00:00</td>\n",
       "      <td>1</td>\n",
       "      <td>3</td>\n",
       "      <td>1</td>\n",
       "      <td>46.0</td>\n",
       "      <td>1</td>\n",
       "      <td>1</td>\n",
       "      <td>Current</td>\n",
       "      <td>Current</td>\n",
       "      <td>PALLET_JACK</td>\n",
       "    </tr>\n",
       "    <tr>\n",
       "      <th>1</th>\n",
       "      <td>2021-01-01 08:04:04</td>\n",
       "      <td>1</td>\n",
       "      <td>3</td>\n",
       "      <td>1</td>\n",
       "      <td>95.0</td>\n",
       "      <td>1</td>\n",
       "      <td>1</td>\n",
       "      <td>Current</td>\n",
       "      <td>Current</td>\n",
       "      <td>PALLET_JACK</td>\n",
       "    </tr>\n",
       "    <tr>\n",
       "      <th>2</th>\n",
       "      <td>2021-01-01 08:05:17</td>\n",
       "      <td>2</td>\n",
       "      <td>2</td>\n",
       "      <td>1</td>\n",
       "      <td>70.0</td>\n",
       "      <td>1</td>\n",
       "      <td>1</td>\n",
       "      <td>Current</td>\n",
       "      <td>Current</td>\n",
       "      <td>PALLET_JACK</td>\n",
       "    </tr>\n",
       "    <tr>\n",
       "      <th>3</th>\n",
       "      <td>2021-01-01 08:07:30</td>\n",
       "      <td>1</td>\n",
       "      <td>3</td>\n",
       "      <td>1</td>\n",
       "      <td>62.0</td>\n",
       "      <td>1</td>\n",
       "      <td>1</td>\n",
       "      <td>Current</td>\n",
       "      <td>Current</td>\n",
       "      <td>PALLET_JACK</td>\n",
       "    </tr>\n",
       "    <tr>\n",
       "      <th>4</th>\n",
       "      <td>2021-01-01 08:08:01</td>\n",
       "      <td>2</td>\n",
       "      <td>2</td>\n",
       "      <td>1</td>\n",
       "      <td>79.0</td>\n",
       "      <td>1</td>\n",
       "      <td>1</td>\n",
       "      <td>Current</td>\n",
       "      <td>Current</td>\n",
       "      <td>PALLET_JACK</td>\n",
       "    </tr>\n",
       "    <tr>\n",
       "      <th>...</th>\n",
       "      <td>...</td>\n",
       "      <td>...</td>\n",
       "      <td>...</td>\n",
       "      <td>...</td>\n",
       "      <td>...</td>\n",
       "      <td>...</td>\n",
       "      <td>...</td>\n",
       "      <td>...</td>\n",
       "      <td>...</td>\n",
       "      <td>...</td>\n",
       "    </tr>\n",
       "    <tr>\n",
       "      <th>123897</th>\n",
       "      <td>2021-01-31 14:21:54</td>\n",
       "      <td>0</td>\n",
       "      <td>0</td>\n",
       "      <td>3</td>\n",
       "      <td>0.0</td>\n",
       "      <td>658</td>\n",
       "      <td>1</td>\n",
       "      <td>Improved</td>\n",
       "      <td>7</td>\n",
       "      <td>CROSS_DOCK</td>\n",
       "    </tr>\n",
       "    <tr>\n",
       "      <th>123898</th>\n",
       "      <td>2021-01-31 14:22:07</td>\n",
       "      <td>0</td>\n",
       "      <td>0</td>\n",
       "      <td>3</td>\n",
       "      <td>0.0</td>\n",
       "      <td>659</td>\n",
       "      <td>1</td>\n",
       "      <td>Improved</td>\n",
       "      <td>7</td>\n",
       "      <td>CROSS_DOCK</td>\n",
       "    </tr>\n",
       "    <tr>\n",
       "      <th>123899</th>\n",
       "      <td>2021-01-31 14:22:13</td>\n",
       "      <td>0</td>\n",
       "      <td>0</td>\n",
       "      <td>3</td>\n",
       "      <td>0.0</td>\n",
       "      <td>660</td>\n",
       "      <td>1</td>\n",
       "      <td>Improved</td>\n",
       "      <td>7</td>\n",
       "      <td>CROSS_DOCK</td>\n",
       "    </tr>\n",
       "    <tr>\n",
       "      <th>123900</th>\n",
       "      <td>2021-01-31 14:22:16</td>\n",
       "      <td>0</td>\n",
       "      <td>0</td>\n",
       "      <td>3</td>\n",
       "      <td>0.0</td>\n",
       "      <td>661</td>\n",
       "      <td>1</td>\n",
       "      <td>Improved</td>\n",
       "      <td>7</td>\n",
       "      <td>CROSS_DOCK</td>\n",
       "    </tr>\n",
       "    <tr>\n",
       "      <th>123901</th>\n",
       "      <td>2021-01-31 14:23:53</td>\n",
       "      <td>0</td>\n",
       "      <td>0</td>\n",
       "      <td>3</td>\n",
       "      <td>0.0</td>\n",
       "      <td>662</td>\n",
       "      <td>1</td>\n",
       "      <td>Improved</td>\n",
       "      <td>7</td>\n",
       "      <td>CROSS_DOCK</td>\n",
       "    </tr>\n",
       "  </tbody>\n",
       "</table>\n",
       "<p>123902 rows × 10 columns</p>\n",
       "</div>"
      ],
      "text/plain": [
       "                     t_now  employee  tool  type_tool  task_time   \n",
       "0      2021-01-01 08:00:00         1     3          1       46.0  \\\n",
       "1      2021-01-01 08:04:04         1     3          1       95.0   \n",
       "2      2021-01-01 08:05:17         2     2          1       70.0   \n",
       "3      2021-01-01 08:07:30         1     3          1       62.0   \n",
       "4      2021-01-01 08:08:01         2     2          1       79.0   \n",
       "...                    ...       ...   ...        ...        ...   \n",
       "123897 2021-01-31 14:21:54         0     0          3        0.0   \n",
       "123898 2021-01-31 14:22:07         0     0          3        0.0   \n",
       "123899 2021-01-31 14:22:13         0     0          3        0.0   \n",
       "123900 2021-01-31 14:22:16         0     0          3        0.0   \n",
       "123901 2021-01-31 14:23:53         0     0          3        0.0   \n",
       "\n",
       "        num_of_items  num_of_aisles positions placement   fetch_tool  \n",
       "0                  1              1   Current   Current  PALLET_JACK  \n",
       "1                  1              1   Current   Current  PALLET_JACK  \n",
       "2                  1              1   Current   Current  PALLET_JACK  \n",
       "3                  1              1   Current   Current  PALLET_JACK  \n",
       "4                  1              1   Current   Current  PALLET_JACK  \n",
       "...              ...            ...       ...       ...          ...  \n",
       "123897           658              1  Improved         7   CROSS_DOCK  \n",
       "123898           659              1  Improved         7   CROSS_DOCK  \n",
       "123899           660              1  Improved         7   CROSS_DOCK  \n",
       "123900           661              1  Improved         7   CROSS_DOCK  \n",
       "123901           662              1  Improved         7   CROSS_DOCK  \n",
       "\n",
       "[123902 rows x 10 columns]"
      ]
     },
     "execution_count": 528,
     "metadata": {},
     "output_type": "execute_result"
    }
   ],
   "source": [
    "# merge with the tool_df dataframe on the type_tool column\n",
    "fetch_task_results_df = fetch_task_results_df.merge(tool_df, on='type_tool')\n",
    "fetch_task_results_df"
   ]
  },
  {
   "cell_type": "code",
   "execution_count": 529,
   "metadata": {},
   "outputs": [],
   "source": [
    "# export the t_now, employee, tool, tool_id, task_time, positions, placement columns to a csv file\n",
    "fetch_task_results_df[['t_now', 'employee', 'tool', 'type_tool', 'task_time', 'positions', 'placement']].to_csv('fetch_task_durations.csv', index=False)"
   ]
  },
  {
   "cell_type": "code",
   "execution_count": 530,
   "metadata": {},
   "outputs": [
    {
     "data": {
      "text/plain": [
       "<Axes: xlabel='fetch_tool'>"
      ]
     },
     "execution_count": 530,
     "metadata": {},
     "output_type": "execute_result"
    },
    {
     "data": {
      "image/png": "[encoded data removed]",
      "text/plain": [
       "<Figure size 640x480 with 1 Axes>"
      ]
     },
     "metadata": {},
     "output_type": "display_data"
    }
   ],
   "source": [
    "# show the percentage of fetch tasks for each fetch_tool using a plot\n",
    "fetch_task_results_df['fetch_tool'].value_counts(normalize=True).plot(kind='bar')"
   ]
  },
  {
   "cell_type": "code",
   "execution_count": 531,
   "metadata": {},
   "outputs": [
    {
     "data": {
      "text/html": [
       "<div>\n",
       "<style scoped>\n",
       "    .dataframe tbody tr th:only-of-type {\n",
       "        vertical-align: middle;\n",
       "    }\n",
       "\n",
       "    .dataframe tbody tr th {\n",
       "        vertical-align: top;\n",
       "    }\n",
       "\n",
       "    .dataframe thead th {\n",
       "        text-align: right;\n",
       "    }\n",
       "</style>\n",
       "<table border=\"1\" class=\"dataframe\">\n",
       "  <thead>\n",
       "    <tr style=\"text-align: right;\">\n",
       "      <th></th>\n",
       "      <th>t_now</th>\n",
       "      <th>employee</th>\n",
       "      <th>tool</th>\n",
       "      <th>type_tool</th>\n",
       "      <th>task_time</th>\n",
       "      <th>num_of_items</th>\n",
       "      <th>num_of_aisles</th>\n",
       "      <th>positions</th>\n",
       "      <th>placement</th>\n",
       "      <th>fetch_tool</th>\n",
       "      <th>fetch_type</th>\n",
       "      <th>date</th>\n",
       "    </tr>\n",
       "  </thead>\n",
       "  <tbody>\n",
       "    <tr>\n",
       "      <th>0</th>\n",
       "      <td>2021-01-01 08:00:00</td>\n",
       "      <td>1</td>\n",
       "      <td>3</td>\n",
       "      <td>1</td>\n",
       "      <td>46.0</td>\n",
       "      <td>1</td>\n",
       "      <td>1</td>\n",
       "      <td>Current</td>\n",
       "      <td>Current</td>\n",
       "      <td>PALLET_JACK</td>\n",
       "      <td>floor</td>\n",
       "      <td>2021-01-01</td>\n",
       "    </tr>\n",
       "    <tr>\n",
       "      <th>1</th>\n",
       "      <td>2021-01-01 08:04:04</td>\n",
       "      <td>1</td>\n",
       "      <td>3</td>\n",
       "      <td>1</td>\n",
       "      <td>95.0</td>\n",
       "      <td>1</td>\n",
       "      <td>1</td>\n",
       "      <td>Current</td>\n",
       "      <td>Current</td>\n",
       "      <td>PALLET_JACK</td>\n",
       "      <td>floor</td>\n",
       "      <td>2021-01-01</td>\n",
       "    </tr>\n",
       "    <tr>\n",
       "      <th>2</th>\n",
       "      <td>2021-01-01 08:05:17</td>\n",
       "      <td>2</td>\n",
       "      <td>2</td>\n",
       "      <td>1</td>\n",
       "      <td>70.0</td>\n",
       "      <td>1</td>\n",
       "      <td>1</td>\n",
       "      <td>Current</td>\n",
       "      <td>Current</td>\n",
       "      <td>PALLET_JACK</td>\n",
       "      <td>floor</td>\n",
       "      <td>2021-01-01</td>\n",
       "    </tr>\n",
       "    <tr>\n",
       "      <th>3</th>\n",
       "      <td>2021-01-01 08:07:30</td>\n",
       "      <td>1</td>\n",
       "      <td>3</td>\n",
       "      <td>1</td>\n",
       "      <td>62.0</td>\n",
       "      <td>1</td>\n",
       "      <td>1</td>\n",
       "      <td>Current</td>\n",
       "      <td>Current</td>\n",
       "      <td>PALLET_JACK</td>\n",
       "      <td>floor</td>\n",
       "      <td>2021-01-01</td>\n",
       "    </tr>\n",
       "    <tr>\n",
       "      <th>4</th>\n",
       "      <td>2021-01-01 08:08:01</td>\n",
       "      <td>2</td>\n",
       "      <td>2</td>\n",
       "      <td>1</td>\n",
       "      <td>79.0</td>\n",
       "      <td>1</td>\n",
       "      <td>1</td>\n",
       "      <td>Current</td>\n",
       "      <td>Current</td>\n",
       "      <td>PALLET_JACK</td>\n",
       "      <td>floor</td>\n",
       "      <td>2021-01-01</td>\n",
       "    </tr>\n",
       "    <tr>\n",
       "      <th>...</th>\n",
       "      <td>...</td>\n",
       "      <td>...</td>\n",
       "      <td>...</td>\n",
       "      <td>...</td>\n",
       "      <td>...</td>\n",
       "      <td>...</td>\n",
       "      <td>...</td>\n",
       "      <td>...</td>\n",
       "      <td>...</td>\n",
       "      <td>...</td>\n",
       "      <td>...</td>\n",
       "      <td>...</td>\n",
       "    </tr>\n",
       "    <tr>\n",
       "      <th>123897</th>\n",
       "      <td>2021-01-31 14:21:54</td>\n",
       "      <td>0</td>\n",
       "      <td>0</td>\n",
       "      <td>3</td>\n",
       "      <td>0.0</td>\n",
       "      <td>658</td>\n",
       "      <td>1</td>\n",
       "      <td>Improved</td>\n",
       "      <td>7</td>\n",
       "      <td>CROSS_DOCK</td>\n",
       "      <td>floor</td>\n",
       "      <td>2021-01-31</td>\n",
       "    </tr>\n",
       "    <tr>\n",
       "      <th>123898</th>\n",
       "      <td>2021-01-31 14:22:07</td>\n",
       "      <td>0</td>\n",
       "      <td>0</td>\n",
       "      <td>3</td>\n",
       "      <td>0.0</td>\n",
       "      <td>659</td>\n",
       "      <td>1</td>\n",
       "      <td>Improved</td>\n",
       "      <td>7</td>\n",
       "      <td>CROSS_DOCK</td>\n",
       "      <td>floor</td>\n",
       "      <td>2021-01-31</td>\n",
       "    </tr>\n",
       "    <tr>\n",
       "      <th>123899</th>\n",
       "      <td>2021-01-31 14:22:13</td>\n",
       "      <td>0</td>\n",
       "      <td>0</td>\n",
       "      <td>3</td>\n",
       "      <td>0.0</td>\n",
       "      <td>660</td>\n",
       "      <td>1</td>\n",
       "      <td>Improved</td>\n",
       "      <td>7</td>\n",
       "      <td>CROSS_DOCK</td>\n",
       "      <td>floor</td>\n",
       "      <td>2021-01-31</td>\n",
       "    </tr>\n",
       "    <tr>\n",
       "      <th>123900</th>\n",
       "      <td>2021-01-31 14:22:16</td>\n",
       "      <td>0</td>\n",
       "      <td>0</td>\n",
       "      <td>3</td>\n",
       "      <td>0.0</td>\n",
       "      <td>661</td>\n",
       "      <td>1</td>\n",
       "      <td>Improved</td>\n",
       "      <td>7</td>\n",
       "      <td>CROSS_DOCK</td>\n",
       "      <td>floor</td>\n",
       "      <td>2021-01-31</td>\n",
       "    </tr>\n",
       "    <tr>\n",
       "      <th>123901</th>\n",
       "      <td>2021-01-31 14:23:53</td>\n",
       "      <td>0</td>\n",
       "      <td>0</td>\n",
       "      <td>3</td>\n",
       "      <td>0.0</td>\n",
       "      <td>662</td>\n",
       "      <td>1</td>\n",
       "      <td>Improved</td>\n",
       "      <td>7</td>\n",
       "      <td>CROSS_DOCK</td>\n",
       "      <td>floor</td>\n",
       "      <td>2021-01-31</td>\n",
       "    </tr>\n",
       "  </tbody>\n",
       "</table>\n",
       "<p>123902 rows × 12 columns</p>\n",
       "</div>"
      ],
      "text/plain": [
       "                     t_now  employee  tool  type_tool  task_time   \n",
       "0      2021-01-01 08:00:00         1     3          1       46.0  \\\n",
       "1      2021-01-01 08:04:04         1     3          1       95.0   \n",
       "2      2021-01-01 08:05:17         2     2          1       70.0   \n",
       "3      2021-01-01 08:07:30         1     3          1       62.0   \n",
       "4      2021-01-01 08:08:01         2     2          1       79.0   \n",
       "...                    ...       ...   ...        ...        ...   \n",
       "123897 2021-01-31 14:21:54         0     0          3        0.0   \n",
       "123898 2021-01-31 14:22:07         0     0          3        0.0   \n",
       "123899 2021-01-31 14:22:13         0     0          3        0.0   \n",
       "123900 2021-01-31 14:22:16         0     0          3        0.0   \n",
       "123901 2021-01-31 14:23:53         0     0          3        0.0   \n",
       "\n",
       "        num_of_items  num_of_aisles positions placement   fetch_tool   \n",
       "0                  1              1   Current   Current  PALLET_JACK  \\\n",
       "1                  1              1   Current   Current  PALLET_JACK   \n",
       "2                  1              1   Current   Current  PALLET_JACK   \n",
       "3                  1              1   Current   Current  PALLET_JACK   \n",
       "4                  1              1   Current   Current  PALLET_JACK   \n",
       "...              ...            ...       ...       ...          ...   \n",
       "123897           658              1  Improved         7   CROSS_DOCK   \n",
       "123898           659              1  Improved         7   CROSS_DOCK   \n",
       "123899           660              1  Improved         7   CROSS_DOCK   \n",
       "123900           661              1  Improved         7   CROSS_DOCK   \n",
       "123901           662              1  Improved         7   CROSS_DOCK   \n",
       "\n",
       "       fetch_type        date  \n",
       "0           floor  2021-01-01  \n",
       "1           floor  2021-01-01  \n",
       "2           floor  2021-01-01  \n",
       "3           floor  2021-01-01  \n",
       "4           floor  2021-01-01  \n",
       "...           ...         ...  \n",
       "123897      floor  2021-01-31  \n",
       "123898      floor  2021-01-31  \n",
       "123899      floor  2021-01-31  \n",
       "123900      floor  2021-01-31  \n",
       "123901      floor  2021-01-31  \n",
       "\n",
       "[123902 rows x 12 columns]"
      ]
     },
     "execution_count": 531,
     "metadata": {},
     "output_type": "execute_result"
    }
   ],
   "source": [
    "# add a new column to the dataframe called 'fetch_type' which will be 'floor' if the fetch_tool is 'PALLET_JACK' or 'CROSS_DOCK' and 'high' otherwise\n",
    "fetch_task_results_df['fetch_type'] = fetch_task_results_df['fetch_tool'].apply(lambda x: 'floor' if x in ['PALLET_JACK', 'CROSS_DOCK'] else 'high')\n",
    "# add a date column to the dataframe\n",
    "fetch_task_results_df['date'] = pd.to_datetime(fetch_task_results_df['t_now']).dt.date\n",
    "fetch_task_results_df"
   ]
  },
  {
   "cell_type": "code",
   "execution_count": 580,
   "metadata": {},
   "outputs": [
    {
     "data": {
      "application/vnd.plotly.v1+json": {
       "config": {
        "plotlyServerURL": "https://plot.ly"
       },
       "data": [
        {
         "hovertemplate": "color=Current<br>x=%{x}<br>Fetch Rate=%{y}<extra></extra>",
         "legendgroup": "Current",
         "line": {
          "color": "#636efa",
          "dash": "solid"
         },
         "marker": {
          "symbol": "circle"
         },
         "mode": "lines",
         "name": "Current",
         "orientation": "v",
         "showlegend": true,
         "type": "scatter",
         "x": [
          "2021-01-01",
          "2021-01-03",
          "2021-01-04",
          "2021-01-05",
          "2021-01-06",
          "2021-01-07",
          "2021-01-08",
          "2021-01-10",
          "2021-01-11",
          "2021-01-12",
          "2021-01-13",
          "2021-01-14",
          "2021-01-15",
          "2021-01-17",
          "2021-01-18",
          "2021-01-19",
          "2021-01-20",
          "2021-01-21",
          "2021-01-22",
          "2021-01-24",
          "2021-01-25",
          "2021-01-26",
          "2021-01-27",
          "2021-01-28",
          "2021-01-29",
          "2021-01-30",
          "2021-01-31",
          "2021-02-01",
          "2021-02-02",
          "2021-02-03",
          "2021-02-04",
          "2021-02-05",
          "2021-02-07",
          "2021-02-08",
          "2021-02-09",
          "2021-02-10",
          "2021-02-11",
          "2021-02-12",
          "2021-02-14",
          "2021-02-15",
          "2021-02-16",
          "2021-02-17",
          "2021-02-18",
          "2021-02-19",
          "2021-02-21"
         ],
         "xaxis": "x",
         "y": [
          0.5904761904761905,
          0.6588235294117647,
          0.7371541501976284,
          0.6816143497757847,
          0.6077170418006431,
          0.616822429906542,
          0.5887850467289719,
          0.6401098901098901,
          0.7119815668202765,
          0.682648401826484,
          0.6804878048780488,
          0.7553444180522565,
          0.780952380952381,
          0.6602739726027397,
          0.6580976863753213,
          0.649025069637883,
          0.7898832684824902,
          0.7360406091370558,
          0.5849056603773585,
          0.7078947368421052,
          0.6487252124645893,
          0.7324324324324324,
          0.769927536231884,
          0.827027027027027,
          0.7469879518072289,
          0.8681318681318682,
          0.8661504424778761,
          0.8005952380952381,
          0.8045977011494253,
          0.8175965665236051,
          0.8038194444444444,
          0.8258064516129032,
          0.8128654970760234,
          0.8470031545741324,
          0.8401420959147424,
          0.829136690647482,
          0.8660578386605784,
          0.898936170212766,
          0.8044982698961938,
          0.7907949790794979,
          0.8636363636363636,
          0.8354203935599285,
          0.8463114754098361,
          0.8773006134969326,
          0.8328358208955224
         ],
         "yaxis": "y"
        },
        {
         "hovertemplate": "color=Improved<br>x=%{x}<br>Fetch Rate=%{y}<extra></extra>",
         "legendgroup": "Improved",
         "line": {
          "color": "#EF553B",
          "dash": "solid"
         },
         "marker": {
          "symbol": "circle"
         },
         "mode": "lines",
         "name": "Improved",
         "orientation": "v",
         "showlegend": true,
         "type": "scatter",
         "x": [
          "2021-01-01",
          "2021-01-03",
          "2021-01-04",
          "2021-01-05",
          "2021-01-06",
          "2021-01-07",
          "2021-01-08",
          "2021-01-10",
          "2021-01-11",
          "2021-01-12",
          "2021-01-13",
          "2021-01-14",
          "2021-01-15",
          "2021-01-17",
          "2021-01-18",
          "2021-01-19",
          "2021-01-20",
          "2021-01-21",
          "2021-01-22",
          "2021-01-24",
          "2021-01-25",
          "2021-01-26",
          "2021-01-27",
          "2021-01-28",
          "2021-01-29",
          "2021-01-30",
          "2021-01-31",
          "2021-02-01",
          "2021-02-02",
          "2021-02-03",
          "2021-02-04",
          "2021-02-05",
          "2021-02-07",
          "2021-02-08",
          "2021-02-09",
          "2021-02-10",
          "2021-02-11",
          "2021-02-12",
          "2021-02-14",
          "2021-02-15",
          "2021-02-16",
          "2021-02-17",
          "2021-02-18",
          "2021-02-19",
          "2021-02-21"
         ],
         "xaxis": "x",
         "y": [
          0.660300136425648,
          0.7111971603743142,
          0.7803234501347709,
          0.7357427055702918,
          0.65,
          0.6801202232717904,
          0.6987951807228916,
          0.6903376018626309,
          0.732569558101473,
          0.7199872286079183,
          0.7286063569682152,
          0.7990654205607477,
          0.8220899470899471,
          0.7108792846497765,
          0.7284966342557966,
          0.7097142857142857,
          0.8245272525027809,
          0.7886671418389166,
          0.7196765498652291,
          0.7217885024840313,
          0.744724025974026,
          0.769550434454099,
          0.8174252275682705,
          0.82275390625,
          0.8072601555747623,
          0.9010989010989011,
          0.8802147239263803,
          0.8317929759704251,
          0.8223116733755031,
          0.8296495956873315,
          0.8228846996931171,
          0.8306451612903226,
          0.8191027496382055,
          0.8403590944574552,
          0.8497316636851521,
          0.8372727272727273,
          0.8622800306044377,
          0.9224598930481284,
          0.8323249783923942,
          0.8083864118895966,
          0.8558855885588559,
          0.8227454464682363,
          0.8564838544336237,
          0.8650306748466258,
          0.8626865671641791
         ],
         "yaxis": "y"
        }
       ],
       "layout": {
        "annotations": [
         {
          "font": {
           "size": 14
          },
          "showarrow": false,
          "text": "Improved above Current at: 86.67% of dates, mean improvement of 3.45%",
          "x": 0,
          "xref": "paper",
          "y": 1.1,
          "yref": "paper"
         }
        ],
        "font": {
         "size": 14
        },
        "legend": {
         "orientation": "h",
         "title": {
          "text": "Placement"
         },
         "tracegroupgap": 0,
         "x": 1,
         "xanchor": "right",
         "y": -0.2,
         "yanchor": "top"
        },
        "template": {
         "data": {
          "bar": [
           {
            "error_x": {
             "color": "#2a3f5f"
            },
            "error_y": {
             "color": "#2a3f5f"
            },
            "marker": {
             "line": {
              "color": "#E5ECF6",
              "width": 0.5
             },
             "pattern": {
              "fillmode": "overlay",
              "size": 10,
              "solidity": 0.2
             }
            },
            "type": "bar"
           }
          ],
          "barpolar": [
           {
            "marker": {
             "line": {
              "color": "#E5ECF6",
              "width": 0.5
             },
             "pattern": {
              "fillmode": "overlay",
              "size": 10,
              "solidity": 0.2
             }
            },
            "type": "barpolar"
           }
          ],
          "carpet": [
           {
            "aaxis": {
             "endlinecolor": "#2a3f5f",
             "gridcolor": "white",
             "linecolor": "white",
             "minorgridcolor": "white",
             "startlinecolor": "#2a3f5f"
            },
            "baxis": {
             "endlinecolor": "#2a3f5f",
             "gridcolor": "white",
             "linecolor": "white",
             "minorgridcolor": "white",
             "startlinecolor": "#2a3f5f"
            },
            "type": "carpet"
           }
          ],
          "choropleth": [
           {
            "colorbar": {
             "outlinewidth": 0,
             "ticks": ""
            },
            "type": "choropleth"
           }
          ],
          "contour": [
           {
            "colorbar": {
             "outlinewidth": 0,
             "ticks": ""
            },
            "colorscale": [
             [
              0,
              "#0d0887"
             ],
             [
              0.1111111111111111,
              "#46039f"
             ],
             [
              0.2222222222222222,
              "#7201a8"
             ],
             [
              0.3333333333333333,
              "#9c179e"
             ],
             [
              0.4444444444444444,
              "#bd3786"
             ],
             [
              0.5555555555555556,
              "#d8576b"
             ],
             [
              0.6666666666666666,
              "#ed7953"
             ],
             [
              0.7777777777777778,
              "#fb9f3a"
             ],
             [
              0.8888888888888888,
              "#fdca26"
             ],
             [
              1,
              "#f0f921"
             ]
            ],
            "type": "contour"
           }
          ],
          "contourcarpet": [
           {
            "colorbar": {
             "outlinewidth": 0,
             "ticks": ""
            },
            "type": "contourcarpet"
           }
          ],
          "heatmap": [
           {
            "colorbar": {
             "outlinewidth": 0,
             "ticks": ""
            },
            "colorscale": [
             [
              0,
              "#0d0887"
             ],
             [
              0.1111111111111111,
              "#46039f"
             ],
             [
              0.2222222222222222,
              "#7201a8"
             ],
             [
              0.3333333333333333,
              "#9c179e"
             ],
             [
              0.4444444444444444,
              "#bd3786"
             ],
             [
              0.5555555555555556,
              "#d8576b"
             ],
             [
              0.6666666666666666,
              "#ed7953"
             ],
             [
              0.7777777777777778,
              "#fb9f3a"
             ],
             [
              0.8888888888888888,
              "#fdca26"
             ],
             [
              1,
              "#f0f921"
             ]
            ],
            "type": "heatmap"
           }
          ],
          "heatmapgl": [
           {
            "colorbar": {
             "outlinewidth": 0,
             "ticks": ""
            },
            "colorscale": [
             [
              0,
              "#0d0887"
             ],
             [
              0.1111111111111111,
              "#46039f"
             ],
             [
              0.2222222222222222,
              "#7201a8"
             ],
             [
              0.3333333333333333,
              "#9c179e"
             ],
             [
              0.4444444444444444,
              "#bd3786"
             ],
             [
              0.5555555555555556,
              "#d8576b"
             ],
             [
              0.6666666666666666,
              "#ed7953"
             ],
             [
              0.7777777777777778,
              "#fb9f3a"
             ],
             [
              0.8888888888888888,
              "#fdca26"
             ],
             [
              1,
              "#f0f921"
             ]
            ],
            "type": "heatmapgl"
           }
          ],
          "histogram": [
           {
            "marker": {
             "pattern": {
              "fillmode": "overlay",
              "size": 10,
              "solidity": 0.2
             }
            },
            "type": "histogram"
           }
          ],
          "histogram2d": [
           {
            "colorbar": {
             "outlinewidth": 0,
             "ticks": ""
            },
            "colorscale": [
             [
              0,
              "#0d0887"
             ],
             [
              0.1111111111111111,
              "#46039f"
             ],
             [
              0.2222222222222222,
              "#7201a8"
             ],
             [
              0.3333333333333333,
              "#9c179e"
             ],
             [
              0.4444444444444444,
              "#bd3786"
             ],
             [
              0.5555555555555556,
              "#d8576b"
             ],
             [
              0.6666666666666666,
              "#ed7953"
             ],
             [
              0.7777777777777778,
              "#fb9f3a"
             ],
             [
              0.8888888888888888,
              "#fdca26"
             ],
             [
              1,
              "#f0f921"
             ]
            ],
            "type": "histogram2d"
           }
          ],
          "histogram2dcontour": [
           {
            "colorbar": {
             "outlinewidth": 0,
             "ticks": ""
            },
            "colorscale": [
             [
              0,
              "#0d0887"
             ],
             [
              0.1111111111111111,
              "#46039f"
             ],
             [
              0.2222222222222222,
              "#7201a8"
             ],
             [
              0.3333333333333333,
              "#9c179e"
             ],
             [
              0.4444444444444444,
              "#bd3786"
             ],
             [
              0.5555555555555556,
              "#d8576b"
             ],
             [
              0.6666666666666666,
              "#ed7953"
             ],
             [
              0.7777777777777778,
              "#fb9f3a"
             ],
             [
              0.8888888888888888,
              "#fdca26"
             ],
             [
              1,
              "#f0f921"
             ]
            ],
            "type": "histogram2dcontour"
           }
          ],
          "mesh3d": [
           {
            "colorbar": {
             "outlinewidth": 0,
             "ticks": ""
            },
            "type": "mesh3d"
           }
          ],
          "parcoords": [
           {
            "line": {
             "colorbar": {
              "outlinewidth": 0,
              "ticks": ""
             }
            },
            "type": "parcoords"
           }
          ],
          "pie": [
           {
            "automargin": true,
            "type": "pie"
           }
          ],
          "scatter": [
           {
            "fillpattern": {
             "fillmode": "overlay",
             "size": 10,
             "solidity": 0.2
            },
            "type": "scatter"
           }
          ],
          "scatter3d": [
           {
            "line": {
             "colorbar": {
              "outlinewidth": 0,
              "ticks": ""
             }
            },
            "marker": {
             "colorbar": {
              "outlinewidth": 0,
              "ticks": ""
             }
            },
            "type": "scatter3d"
           }
          ],
          "scattercarpet": [
           {
            "marker": {
             "colorbar": {
              "outlinewidth": 0,
              "ticks": ""
             }
            },
            "type": "scattercarpet"
           }
          ],
          "scattergeo": [
           {
            "marker": {
             "colorbar": {
              "outlinewidth": 0,
              "ticks": ""
             }
            },
            "type": "scattergeo"
           }
          ],
          "scattergl": [
           {
            "marker": {
             "colorbar": {
              "outlinewidth": 0,
              "ticks": ""
             }
            },
            "type": "scattergl"
           }
          ],
          "scattermapbox": [
           {
            "marker": {
             "colorbar": {
              "outlinewidth": 0,
              "ticks": ""
             }
            },
            "type": "scattermapbox"
           }
          ],
          "scatterpolar": [
           {
            "marker": {
             "colorbar": {
              "outlinewidth": 0,
              "ticks": ""
             }
            },
            "type": "scatterpolar"
           }
          ],
          "scatterpolargl": [
           {
            "marker": {
             "colorbar": {
              "outlinewidth": 0,
              "ticks": ""
             }
            },
            "type": "scatterpolargl"
           }
          ],
          "scatterternary": [
           {
            "marker": {
             "colorbar": {
              "outlinewidth": 0,
              "ticks": ""
             }
            },
            "type": "scatterternary"
           }
          ],
          "surface": [
           {
            "colorbar": {
             "outlinewidth": 0,
             "ticks": ""
            },
            "colorscale": [
             [
              0,
              "#0d0887"
             ],
             [
              0.1111111111111111,
              "#46039f"
             ],
             [
              0.2222222222222222,
              "#7201a8"
             ],
             [
              0.3333333333333333,
              "#9c179e"
             ],
             [
              0.4444444444444444,
              "#bd3786"
             ],
             [
              0.5555555555555556,
              "#d8576b"
             ],
             [
              0.6666666666666666,
              "#ed7953"
             ],
             [
              0.7777777777777778,
              "#fb9f3a"
             ],
             [
              0.8888888888888888,
              "#fdca26"
             ],
             [
              1,
              "#f0f921"
             ]
            ],
            "type": "surface"
           }
          ],
          "table": [
           {
            "cells": {
             "fill": {
              "color": "#EBF0F8"
             },
             "line": {
              "color": "white"
             }
            },
            "header": {
             "fill": {
              "color": "#C8D4E3"
             },
             "line": {
              "color": "white"
             }
            },
            "type": "table"
           }
          ]
         },
         "layout": {
          "annotationdefaults": {
           "arrowcolor": "#2a3f5f",
           "arrowhead": 0,
           "arrowwidth": 1
          },
          "autotypenumbers": "strict",
          "coloraxis": {
           "colorbar": {
            "outlinewidth": 0,
            "ticks": ""
           }
          },
          "colorscale": {
           "diverging": [
            [
             0,
             "#8e0152"
            ],
            [
             0.1,
             "#c51b7d"
            ],
            [
             0.2,
             "#de77ae"
            ],
            [
             0.3,
             "#f1b6da"
            ],
            [
             0.4,
             "#fde0ef"
            ],
            [
             0.5,
             "#f7f7f7"
            ],
            [
             0.6,
             "#e6f5d0"
            ],
            [
             0.7,
             "#b8e186"
            ],
            [
             0.8,
             "#7fbc41"
            ],
            [
             0.9,
             "#4d9221"
            ],
            [
             1,
             "#276419"
            ]
           ],
           "sequential": [
            [
             0,
             "#0d0887"
            ],
            [
             0.1111111111111111,
             "#46039f"
            ],
            [
             0.2222222222222222,
             "#7201a8"
            ],
            [
             0.3333333333333333,
             "#9c179e"
            ],
            [
             0.4444444444444444,
             "#bd3786"
            ],
            [
             0.5555555555555556,
             "#d8576b"
            ],
            [
             0.6666666666666666,
             "#ed7953"
            ],
            [
             0.7777777777777778,
             "#fb9f3a"
            ],
            [
             0.8888888888888888,
             "#fdca26"
            ],
            [
             1,
             "#f0f921"
            ]
           ],
           "sequentialminus": [
            [
             0,
             "#0d0887"
            ],
            [
             0.1111111111111111,
             "#46039f"
            ],
            [
             0.2222222222222222,
             "#7201a8"
            ],
            [
             0.3333333333333333,
             "#9c179e"
            ],
            [
             0.4444444444444444,
             "#bd3786"
            ],
            [
             0.5555555555555556,
             "#d8576b"
            ],
            [
             0.6666666666666666,
             "#ed7953"
            ],
            [
             0.7777777777777778,
             "#fb9f3a"
            ],
            [
             0.8888888888888888,
             "#fdca26"
            ],
            [
             1,
             "#f0f921"
            ]
           ]
          },
          "colorway": [
           "#636efa",
           "#EF553B",
           "#00cc96",
           "#ab63fa",
           "#FFA15A",
           "#19d3f3",
           "#FF6692",
           "#B6E880",
           "#FF97FF",
           "#FECB52"
          ],
          "font": {
           "color": "#2a3f5f"
          },
          "geo": {
           "bgcolor": "white",
           "lakecolor": "white",
           "landcolor": "#E5ECF6",
           "showlakes": true,
           "showland": true,
           "subunitcolor": "white"
          },
          "hoverlabel": {
           "align": "left"
          },
          "hovermode": "closest",
          "mapbox": {
           "style": "light"
          },
          "paper_bgcolor": "white",
          "plot_bgcolor": "#E5ECF6",
          "polar": {
           "angularaxis": {
            "gridcolor": "white",
            "linecolor": "white",
            "ticks": ""
           },
           "bgcolor": "#E5ECF6",
           "radialaxis": {
            "gridcolor": "white",
            "linecolor": "white",
            "ticks": ""
           }
          },
          "scene": {
           "xaxis": {
            "backgroundcolor": "#E5ECF6",
            "gridcolor": "white",
            "gridwidth": 2,
            "linecolor": "white",
            "showbackground": true,
            "ticks": "",
            "zerolinecolor": "white"
           },
           "yaxis": {
            "backgroundcolor": "#E5ECF6",
            "gridcolor": "white",
            "gridwidth": 2,
            "linecolor": "white",
            "showbackground": true,
            "ticks": "",
            "zerolinecolor": "white"
           },
           "zaxis": {
            "backgroundcolor": "#E5ECF6",
            "gridcolor": "white",
            "gridwidth": 2,
            "linecolor": "white",
            "showbackground": true,
            "ticks": "",
            "zerolinecolor": "white"
           }
          },
          "shapedefaults": {
           "line": {
            "color": "#2a3f5f"
           }
          },
          "ternary": {
           "aaxis": {
            "gridcolor": "white",
            "linecolor": "white",
            "ticks": ""
           },
           "baxis": {
            "gridcolor": "white",
            "linecolor": "white",
            "ticks": ""
           },
           "bgcolor": "#E5ECF6",
           "caxis": {
            "gridcolor": "white",
            "linecolor": "white",
            "ticks": ""
           }
          },
          "title": {
           "x": 0.05
          },
          "xaxis": {
           "automargin": true,
           "gridcolor": "white",
           "linecolor": "white",
           "ticks": "",
           "title": {
            "standoff": 15
           },
           "zerolinecolor": "white",
           "zerolinewidth": 2
          },
          "yaxis": {
           "automargin": true,
           "gridcolor": "white",
           "linecolor": "white",
           "ticks": "",
           "title": {
            "standoff": 15
           },
           "zerolinecolor": "white",
           "zerolinewidth": 2
          }
         }
        },
        "title": {
         "text": "Floor Fetch Rates by Date and Positions"
        },
        "xaxis": {
         "anchor": "y",
         "domain": [
          0,
          1
         ],
         "showgrid": false,
         "showticklabels": false,
         "title": {
          "text": "Date"
         }
        },
        "yaxis": {
         "anchor": "x",
         "domain": [
          0,
          1
         ],
         "tickformat": ".0%",
         "title": {
          "text": "Floor Fetch Rate"
         }
        }
       }
      }
     },
     "metadata": {},
     "output_type": "display_data"
    }
   ],
   "source": [
    "# create the same plot as above, only now group by the positions column\n",
    "fetch_rates_df = fetch_task_results_df.groupby(['date', 'positions'])[\n",
    "    'fetch_type'].value_counts(normalize=True).unstack()\n",
    "\n",
    "fetch_rates_flat_df = fetch_rates_df.reset_index().drop('high', axis=1)\n",
    "# if 'positions' == 'Current', make the 'floor' column negative\n",
    "fetch_rates_flat_df.loc[fetch_rates_flat_df['positions'] == 'Current', 'floor'] = - \\\n",
    "    fetch_rates_flat_df.loc[fetch_rates_flat_df['positions']\n",
    "                            == 'Current', 'floor']\n",
    "# group by date and sum the floor column\n",
    "fetch_rates_flat_df = fetch_rates_flat_df.groupby(\n",
    "    'date')['floor'].sum().reset_index()\n",
    "# add a new column called 'improved_better' which will be True if the floor column is positive and False otherwise\n",
    "fetch_rates_flat_df['improved_better'] = fetch_rates_flat_df['floor'] > 0\n",
    "# save the percentage of True values in improved_better to a variable called 'improved_better_percentage'\n",
    "improvement_delta = fetch_rates_flat_df['floor'].mean()\n",
    "improved_better_percentage = fetch_rates_flat_df['improved_better'].mean()\n",
    "improved_better_percentage\n",
    "\n",
    "fig = px.line(fetch_rates_df, x=fetch_rates_df.index.get_level_values(0), y='floor', color=fetch_rates_df.index.get_level_values(\n",
    "    1), title='Fetch Rates by Date and Positions', labels={'floor': 'Fetch Rate', 'index': 'Date'})\n",
    "# capitalize the legend items\n",
    "fig.for_each_trace(lambda t: t.update(name=t.name.capitalize()))\n",
    "fig.update_layout(title='Floor Fetch Rates by Date and Positions', xaxis_title='Date', yaxis_title='Floor Fetch Rate',\n",
    "                  legend_title='Placement', legend=dict(orientation='h', yanchor='top', y=-0.2, xanchor='right', x=1), font=dict(size=14))\n",
    "# add a subtitle with the improved_better_percentage, round to 2 decimal places\n",
    "fig.add_annotation(x=0, y=1.1, xref='paper', yref='paper',\n",
    "                   text=f'Improved above Current at: {improved_better_percentage:.2%} of dates, mean improvement of {improvement_delta:.2%}', showarrow=False, font=dict(size=14))\n",
    "\n",
    "# change the y axis to percents\n",
    "fig.update_yaxes(tickformat='.0%')\n",
    "\n",
    "\n",
    "# hide the xaxis labels\n",
    "fig.update_xaxes(showticklabels=False, showgrid=False)\n",
    "\n",
    "fig.show()\n",
    "\n",
    "# export the fig to a png file under the ./graphs/ folder\n",
    "fig.write_image('./graphs/fetch_rates_by_date_and_positions.png',\n",
    "                width=800, height=400)"
   ]
  },
  {
   "cell_type": "code",
   "execution_count": null,
   "metadata": {},
   "outputs": [],
   "source": [
    "# create the same graph as above, only now group by the positions column\n",
    "mean_tool_fetch_time_by_dates_df = fetch_task_results_df.groupby(['date', 'positions', 'fetch_tool'])['task_time'].mean().unstack()\n",
    "# drop the 'CROSS_DOCK' column\n",
    "mean_tool_fetch_time_by_dates_df = mean_tool_fetch_time_by_dates_df.drop(columns=['CROSS_DOCK'])\n",
    "mean_tool_fetch_time_by_dates_df"
   ]
  },
  {
   "cell_type": "code",
   "execution_count": 541,
   "metadata": {},
   "outputs": [
    {
     "data": {
      "text/html": [
       "<div>\n",
       "<style scoped>\n",
       "    .dataframe tbody tr th:only-of-type {\n",
       "        vertical-align: middle;\n",
       "    }\n",
       "\n",
       "    .dataframe tbody tr th {\n",
       "        vertical-align: top;\n",
       "    }\n",
       "\n",
       "    .dataframe thead th {\n",
       "        text-align: right;\n",
       "    }\n",
       "</style>\n",
       "<table border=\"1\" class=\"dataframe\">\n",
       "  <thead>\n",
       "    <tr style=\"text-align: right;\">\n",
       "      <th>fetch_tool</th>\n",
       "      <th>positions</th>\n",
       "      <th>ORDER_PICKER</th>\n",
       "      <th>PALLET_JACK</th>\n",
       "      <th>REACH_FORK</th>\n",
       "    </tr>\n",
       "    <tr>\n",
       "      <th>date</th>\n",
       "      <th></th>\n",
       "      <th></th>\n",
       "      <th></th>\n",
       "      <th></th>\n",
       "    </tr>\n",
       "  </thead>\n",
       "  <tbody>\n",
       "    <tr>\n",
       "      <th>2021-01-01</th>\n",
       "      <td>Current</td>\n",
       "      <td>1.961261</td>\n",
       "      <td>1.186022</td>\n",
       "      <td>1.650000</td>\n",
       "    </tr>\n",
       "    <tr>\n",
       "      <th>2021-01-01</th>\n",
       "      <td>Improved</td>\n",
       "      <td>2.056602</td>\n",
       "      <td>1.185468</td>\n",
       "      <td>1.667460</td>\n",
       "    </tr>\n",
       "    <tr>\n",
       "      <th>2021-01-03</th>\n",
       "      <td>Current</td>\n",
       "      <td>2.321901</td>\n",
       "      <td>1.310119</td>\n",
       "      <td>1.704861</td>\n",
       "    </tr>\n",
       "    <tr>\n",
       "      <th>2021-01-03</th>\n",
       "      <td>Improved</td>\n",
       "      <td>2.330464</td>\n",
       "      <td>1.265510</td>\n",
       "      <td>1.742012</td>\n",
       "    </tr>\n",
       "    <tr>\n",
       "      <th>2021-01-04</th>\n",
       "      <td>Current</td>\n",
       "      <td>2.663937</td>\n",
       "      <td>1.350402</td>\n",
       "      <td>1.893137</td>\n",
       "    </tr>\n",
       "    <tr>\n",
       "      <th>...</th>\n",
       "      <td>...</td>\n",
       "      <td>...</td>\n",
       "      <td>...</td>\n",
       "      <td>...</td>\n",
       "    </tr>\n",
       "    <tr>\n",
       "      <th>2021-02-18</th>\n",
       "      <td>Improved</td>\n",
       "      <td>2.204228</td>\n",
       "      <td>1.327655</td>\n",
       "      <td>3.097917</td>\n",
       "    </tr>\n",
       "    <tr>\n",
       "      <th>2021-02-19</th>\n",
       "      <td>Current</td>\n",
       "      <td>1.928704</td>\n",
       "      <td>1.289368</td>\n",
       "      <td>4.458333</td>\n",
       "    </tr>\n",
       "    <tr>\n",
       "      <th>2021-02-19</th>\n",
       "      <td>Improved</td>\n",
       "      <td>1.953333</td>\n",
       "      <td>1.273512</td>\n",
       "      <td>4.533333</td>\n",
       "    </tr>\n",
       "    <tr>\n",
       "      <th>2021-02-21</th>\n",
       "      <td>Current</td>\n",
       "      <td>2.191503</td>\n",
       "      <td>1.321415</td>\n",
       "      <td>4.433333</td>\n",
       "    </tr>\n",
       "    <tr>\n",
       "      <th>2021-02-21</th>\n",
       "      <td>Improved</td>\n",
       "      <td>2.277642</td>\n",
       "      <td>1.291493</td>\n",
       "      <td>5.598333</td>\n",
       "    </tr>\n",
       "  </tbody>\n",
       "</table>\n",
       "<p>90 rows × 4 columns</p>\n",
       "</div>"
      ],
      "text/plain": [
       "fetch_tool positions  ORDER_PICKER  PALLET_JACK  REACH_FORK\n",
       "date                                                       \n",
       "2021-01-01   Current      1.961261     1.186022    1.650000\n",
       "2021-01-01  Improved      2.056602     1.185468    1.667460\n",
       "2021-01-03   Current      2.321901     1.310119    1.704861\n",
       "2021-01-03  Improved      2.330464     1.265510    1.742012\n",
       "2021-01-04   Current      2.663937     1.350402    1.893137\n",
       "...              ...           ...          ...         ...\n",
       "2021-02-18  Improved      2.204228     1.327655    3.097917\n",
       "2021-02-19   Current      1.928704     1.289368    4.458333\n",
       "2021-02-19  Improved      1.953333     1.273512    4.533333\n",
       "2021-02-21   Current      2.191503     1.321415    4.433333\n",
       "2021-02-21  Improved      2.277642     1.291493    5.598333\n",
       "\n",
       "[90 rows x 4 columns]"
      ]
     },
     "execution_count": 541,
     "metadata": {},
     "output_type": "execute_result"
    }
   ],
   "source": [
    "# mean_tool_fetch_time_by_dates_only_df should be like mean_tool_fetch_time_by_dates_df but only with 'date' as index\n",
    "mean_tool_fetch_time_by_dates_only_df = mean_tool_fetch_time_by_dates_df.reset_index(level=1)\n",
    "# convert every float from seconds to minutes\n",
    "mean_tool_fetch_time_by_dates_only_df[['ORDER_PICKER', 'PALLET_JACK', 'REACH_FORK']] = mean_tool_fetch_time_by_dates_only_df[['ORDER_PICKER', 'PALLET_JACK', 'REACH_FORK']].apply(lambda x: x / 60)\n",
    "mean_tool_fetch_time_by_dates_only_df"
   ]
  },
  {
   "cell_type": "code",
   "execution_count": 542,
   "metadata": {},
   "outputs": [
    {
     "data": {
      "text/html": [
       "<div>\n",
       "<style scoped>\n",
       "    .dataframe tbody tr th:only-of-type {\n",
       "        vertical-align: middle;\n",
       "    }\n",
       "\n",
       "    .dataframe tbody tr th {\n",
       "        vertical-align: top;\n",
       "    }\n",
       "\n",
       "    .dataframe thead th {\n",
       "        text-align: right;\n",
       "    }\n",
       "</style>\n",
       "<table border=\"1\" class=\"dataframe\">\n",
       "  <thead>\n",
       "    <tr style=\"text-align: right;\">\n",
       "      <th>fetch_tool</th>\n",
       "      <th>positions</th>\n",
       "      <th>ORDER_PICKER</th>\n",
       "      <th>PALLET_JACK</th>\n",
       "      <th>REACH_FORK</th>\n",
       "    </tr>\n",
       "    <tr>\n",
       "      <th>date</th>\n",
       "      <th></th>\n",
       "      <th></th>\n",
       "      <th></th>\n",
       "      <th></th>\n",
       "    </tr>\n",
       "  </thead>\n",
       "  <tbody>\n",
       "    <tr>\n",
       "      <th>2021-01-03</th>\n",
       "      <td>Current</td>\n",
       "      <td>2.321901</td>\n",
       "      <td>1.310119</td>\n",
       "      <td>1.704861</td>\n",
       "    </tr>\n",
       "    <tr>\n",
       "      <th>2021-01-03</th>\n",
       "      <td>Improved</td>\n",
       "      <td>2.330464</td>\n",
       "      <td>1.265510</td>\n",
       "      <td>1.742012</td>\n",
       "    </tr>\n",
       "    <tr>\n",
       "      <th>2021-01-04</th>\n",
       "      <td>Current</td>\n",
       "      <td>2.663937</td>\n",
       "      <td>1.350402</td>\n",
       "      <td>1.893137</td>\n",
       "    </tr>\n",
       "    <tr>\n",
       "      <th>2021-01-04</th>\n",
       "      <td>Improved</td>\n",
       "      <td>2.763948</td>\n",
       "      <td>1.323006</td>\n",
       "      <td>1.888362</td>\n",
       "    </tr>\n",
       "    <tr>\n",
       "      <th>2021-01-05</th>\n",
       "      <td>Current</td>\n",
       "      <td>2.395370</td>\n",
       "      <td>1.334940</td>\n",
       "      <td>1.910417</td>\n",
       "    </tr>\n",
       "    <tr>\n",
       "      <th>...</th>\n",
       "      <td>...</td>\n",
       "      <td>...</td>\n",
       "      <td>...</td>\n",
       "      <td>...</td>\n",
       "    </tr>\n",
       "    <tr>\n",
       "      <th>2021-02-17</th>\n",
       "      <td>Improved</td>\n",
       "      <td>2.442633</td>\n",
       "      <td>1.338990</td>\n",
       "      <td>4.431548</td>\n",
       "    </tr>\n",
       "    <tr>\n",
       "      <th>2021-02-18</th>\n",
       "      <td>Current</td>\n",
       "      <td>2.153653</td>\n",
       "      <td>1.311806</td>\n",
       "      <td>2.991667</td>\n",
       "    </tr>\n",
       "    <tr>\n",
       "      <th>2021-02-18</th>\n",
       "      <td>Improved</td>\n",
       "      <td>2.204228</td>\n",
       "      <td>1.327655</td>\n",
       "      <td>3.097917</td>\n",
       "    </tr>\n",
       "    <tr>\n",
       "      <th>2021-02-21</th>\n",
       "      <td>Current</td>\n",
       "      <td>2.191503</td>\n",
       "      <td>1.321415</td>\n",
       "      <td>4.433333</td>\n",
       "    </tr>\n",
       "    <tr>\n",
       "      <th>2021-02-21</th>\n",
       "      <td>Improved</td>\n",
       "      <td>2.277642</td>\n",
       "      <td>1.291493</td>\n",
       "      <td>5.598333</td>\n",
       "    </tr>\n",
       "  </tbody>\n",
       "</table>\n",
       "<p>72 rows × 4 columns</p>\n",
       "</div>"
      ],
      "text/plain": [
       "fetch_tool positions  ORDER_PICKER  PALLET_JACK  REACH_FORK\n",
       "date                                                       \n",
       "2021-01-03   Current      2.321901     1.310119    1.704861\n",
       "2021-01-03  Improved      2.330464     1.265510    1.742012\n",
       "2021-01-04   Current      2.663937     1.350402    1.893137\n",
       "2021-01-04  Improved      2.763948     1.323006    1.888362\n",
       "2021-01-05   Current      2.395370     1.334940    1.910417\n",
       "...              ...           ...          ...         ...\n",
       "2021-02-17  Improved      2.442633     1.338990    4.431548\n",
       "2021-02-18   Current      2.153653     1.311806    2.991667\n",
       "2021-02-18  Improved      2.204228     1.327655    3.097917\n",
       "2021-02-21   Current      2.191503     1.321415    4.433333\n",
       "2021-02-21  Improved      2.277642     1.291493    5.598333\n",
       "\n",
       "[72 rows x 4 columns]"
      ]
     },
     "execution_count": 542,
     "metadata": {},
     "output_type": "execute_result"
    }
   ],
   "source": [
    "# from the mean_tool_fetch_time_by_dates_only_df, remove each row that has an index which represents a Friday or Saturday\n",
    "mean_tool_fetch_time_by_dates_only_df = mean_tool_fetch_time_by_dates_only_df[~pd.to_datetime(mean_tool_fetch_time_by_dates_only_df.index).dayofweek.isin([4,5])]\n",
    "mean_tool_fetch_time_by_dates_only_df"
   ]
  },
  {
   "cell_type": "code",
   "execution_count": 543,
   "metadata": {},
   "outputs": [],
   "source": [
    "# import the make_subplots function from plotly\n",
    "import plotly.graph_objects as go\n",
    "from plotly.subplots import make_subplots\n",
    "\n",
    "# use plotly to create a plot with three subplots from the data of mean_tool_fetch_time_by_dates_only_df, each subplot should show one of the ORDER_PICKER, PALLET_JACK, and REACH_FORK columns, with the date index as the x axis, and the 'positions' column as the color\n",
    "#  add a title and legend\n",
    "improved_subplot_df = mean_tool_fetch_time_by_dates_only_df[mean_tool_fetch_time_by_dates_only_df['positions'] == 'Improved']\n",
    "current_subplot_df = mean_tool_fetch_time_by_dates_only_df[mean_tool_fetch_time_by_dates_only_df['positions'] == 'Current']\n"
   ]
  },
  {
   "cell_type": "code",
   "execution_count": 581,
   "metadata": {},
   "outputs": [
    {
     "data": {
      "application/vnd.plotly.v1+json": {
       "config": {
        "plotlyServerURL": "https://plot.ly"
       },
       "data": [
        {
         "line": {
          "color": "red"
         },
         "mode": "lines",
         "name": "Improved",
         "type": "scatter",
         "x": [
          "2021-01-03",
          "2021-01-03",
          "2021-01-04",
          "2021-01-04",
          "2021-01-05",
          "2021-01-05",
          "2021-01-06",
          "2021-01-06",
          "2021-01-07",
          "2021-01-07",
          "2021-01-10",
          "2021-01-10",
          "2021-01-11",
          "2021-01-11",
          "2021-01-12",
          "2021-01-12",
          "2021-01-13",
          "2021-01-13",
          "2021-01-14",
          "2021-01-14",
          "2021-01-17",
          "2021-01-17",
          "2021-01-18",
          "2021-01-18",
          "2021-01-19",
          "2021-01-19",
          "2021-01-20",
          "2021-01-20",
          "2021-01-21",
          "2021-01-21",
          "2021-01-24",
          "2021-01-24",
          "2021-01-25",
          "2021-01-25",
          "2021-01-26",
          "2021-01-26",
          "2021-01-27",
          "2021-01-27",
          "2021-01-28",
          "2021-01-28",
          "2021-01-31",
          "2021-01-31",
          "2021-02-01",
          "2021-02-01",
          "2021-02-02",
          "2021-02-02",
          "2021-02-03",
          "2021-02-03",
          "2021-02-04",
          "2021-02-04",
          "2021-02-07",
          "2021-02-07",
          "2021-02-08",
          "2021-02-08",
          "2021-02-09",
          "2021-02-09",
          "2021-02-10",
          "2021-02-10",
          "2021-02-11",
          "2021-02-11",
          "2021-02-14",
          "2021-02-14",
          "2021-02-15",
          "2021-02-15",
          "2021-02-16",
          "2021-02-16",
          "2021-02-17",
          "2021-02-17",
          "2021-02-18",
          "2021-02-18",
          "2021-02-21",
          "2021-02-21"
         ],
         "xaxis": "x",
         "y": [
          1.265509679370841,
          1.3230061349693252,
          1.3282057532910774,
          1.3189301972685887,
          1.2770458440445587,
          1.3257393818100955,
          1.3411074440777413,
          1.3049682107175296,
          1.3132505175983438,
          1.2941496598639455,
          1.299678825418674,
          1.301257430269776,
          1.3156264945002392,
          1.2801938657407408,
          1.2623348017621145,
          1.2854118552732872,
          1.292698933552092,
          1.298607367475292,
          1.2980874316939892,
          1.2811636363636363,
          1.3155199287463817,
          1.2823510150622135,
          1.2509708737864078,
          1.2874213836477988,
          1.3204484986697074,
          1.3136153846153846,
          1.3161891768985903,
          1.3065021231422507,
          1.3365754812563324,
          1.2667907361455748,
          1.3007692307692307,
          1.3501439884809217,
          1.3623701605288008,
          1.3389902676399028,
          1.3276553106212425,
          1.2914930555555555
         ],
         "yaxis": "y"
        },
        {
         "line": {
          "color": "blue"
         },
         "mode": "lines",
         "name": "Current",
         "type": "scatter",
         "x": [
          "2021-01-03",
          "2021-01-03",
          "2021-01-04",
          "2021-01-04",
          "2021-01-05",
          "2021-01-05",
          "2021-01-06",
          "2021-01-06",
          "2021-01-07",
          "2021-01-07",
          "2021-01-10",
          "2021-01-10",
          "2021-01-11",
          "2021-01-11",
          "2021-01-12",
          "2021-01-12",
          "2021-01-13",
          "2021-01-13",
          "2021-01-14",
          "2021-01-14",
          "2021-01-17",
          "2021-01-17",
          "2021-01-18",
          "2021-01-18",
          "2021-01-19",
          "2021-01-19",
          "2021-01-20",
          "2021-01-20",
          "2021-01-21",
          "2021-01-21",
          "2021-01-24",
          "2021-01-24",
          "2021-01-25",
          "2021-01-25",
          "2021-01-26",
          "2021-01-26",
          "2021-01-27",
          "2021-01-27",
          "2021-01-28",
          "2021-01-28",
          "2021-01-31",
          "2021-01-31",
          "2021-02-01",
          "2021-02-01",
          "2021-02-02",
          "2021-02-02",
          "2021-02-03",
          "2021-02-03",
          "2021-02-04",
          "2021-02-04",
          "2021-02-07",
          "2021-02-07",
          "2021-02-08",
          "2021-02-08",
          "2021-02-09",
          "2021-02-09",
          "2021-02-10",
          "2021-02-10",
          "2021-02-11",
          "2021-02-11",
          "2021-02-14",
          "2021-02-14",
          "2021-02-15",
          "2021-02-15",
          "2021-02-16",
          "2021-02-16",
          "2021-02-17",
          "2021-02-17",
          "2021-02-18",
          "2021-02-18",
          "2021-02-21",
          "2021-02-21"
         ],
         "xaxis": "x",
         "y": [
          1.3101190476190476,
          1.3504016064257027,
          1.3349404761904762,
          1.3319845857418111,
          1.2987113402061856,
          1.3681347150259067,
          1.3596385542168674,
          1.30836820083682,
          1.3335703001579777,
          1.3311827956989248,
          1.3353219696969698,
          1.3245519713261649,
          1.3661646586345382,
          1.3073696145124716,
          1.313235294117647,
          1.2841463414634147,
          1.3184397163120567,
          1.3053956834532374,
          1.3385744234800838,
          1.3298850574712644,
          1.3746704331450095,
          1.2753623188405796,
          1.247845804988662,
          1.2929577464788733,
          1.2964788732394366,
          1.3020430107526881,
          1.260897435897436,
          1.3144086021505375,
          1.3057575757575757,
          1.2736714975845411,
          1.3207762557077625,
          1.3554572271386431,
          1.320054945054945,
          1.2641843971631206,
          1.3118055555555554,
          1.3214147286821707
         ],
         "yaxis": "y"
        },
        {
         "line": {
          "color": "red"
         },
         "mode": "lines",
         "name": "Improved",
         "showlegend": false,
         "type": "scatter",
         "x": [
          "2021-01-03",
          "2021-01-03",
          "2021-01-04",
          "2021-01-04",
          "2021-01-05",
          "2021-01-05",
          "2021-01-06",
          "2021-01-06",
          "2021-01-07",
          "2021-01-07",
          "2021-01-10",
          "2021-01-10",
          "2021-01-11",
          "2021-01-11",
          "2021-01-12",
          "2021-01-12",
          "2021-01-13",
          "2021-01-13",
          "2021-01-14",
          "2021-01-14",
          "2021-01-17",
          "2021-01-17",
          "2021-01-18",
          "2021-01-18",
          "2021-01-19",
          "2021-01-19",
          "2021-01-20",
          "2021-01-20",
          "2021-01-21",
          "2021-01-21",
          "2021-01-24",
          "2021-01-24",
          "2021-01-25",
          "2021-01-25",
          "2021-01-26",
          "2021-01-26",
          "2021-01-27",
          "2021-01-27",
          "2021-01-28",
          "2021-01-28",
          "2021-01-31",
          "2021-01-31",
          "2021-02-01",
          "2021-02-01",
          "2021-02-02",
          "2021-02-02",
          "2021-02-03",
          "2021-02-03",
          "2021-02-04",
          "2021-02-04",
          "2021-02-07",
          "2021-02-07",
          "2021-02-08",
          "2021-02-08",
          "2021-02-09",
          "2021-02-09",
          "2021-02-10",
          "2021-02-10",
          "2021-02-11",
          "2021-02-11",
          "2021-02-14",
          "2021-02-14",
          "2021-02-15",
          "2021-02-15",
          "2021-02-16",
          "2021-02-16",
          "2021-02-17",
          "2021-02-17",
          "2021-02-18",
          "2021-02-18",
          "2021-02-21",
          "2021-02-21"
         ],
         "xaxis": "x2",
         "y": [
          2.330463728191001,
          2.7639484978540776,
          2.514897857498754,
          2.24974593495935,
          2.3398133333333333,
          2.16537558685446,
          2.7785550983081846,
          2.2272117400419287,
          2.2596451774112944,
          3.0147859922178992,
          2.3728848114169216,
          2.2424074074074074,
          2.248224251648909,
          2.0933867141162517,
          2.185790172642762,
          2.1793682795698923,
          2.027806864456079,
          2.229492317969272,
          2.2535496394897394,
          2.4099018003273325,
          2.452289377289377,
          3.0059909909909908,
          2.159662775616083,
          2.3135119047619046,
          2.0921152030217187,
          2.2436746987951808,
          2.4296618357487927,
          2.2581770833333334,
          2.502733118971061,
          2.1781573498964804,
          2.48921568627451,
          2.256512141280353,
          2.2211050724637684,
          2.4426325247079963,
          2.2042279411764705,
          2.2776422764227644
         ],
         "yaxis": "y2"
        },
        {
         "line": {
          "color": "blue"
         },
         "mode": "lines",
         "name": "Current",
         "showlegend": false,
         "type": "scatter",
         "x": [
          "2021-01-03",
          "2021-01-03",
          "2021-01-04",
          "2021-01-04",
          "2021-01-05",
          "2021-01-05",
          "2021-01-06",
          "2021-01-06",
          "2021-01-07",
          "2021-01-07",
          "2021-01-10",
          "2021-01-10",
          "2021-01-11",
          "2021-01-11",
          "2021-01-12",
          "2021-01-12",
          "2021-01-13",
          "2021-01-13",
          "2021-01-14",
          "2021-01-14",
          "2021-01-17",
          "2021-01-17",
          "2021-01-18",
          "2021-01-18",
          "2021-01-19",
          "2021-01-19",
          "2021-01-20",
          "2021-01-20",
          "2021-01-21",
          "2021-01-21",
          "2021-01-24",
          "2021-01-24",
          "2021-01-25",
          "2021-01-25",
          "2021-01-26",
          "2021-01-26",
          "2021-01-27",
          "2021-01-27",
          "2021-01-28",
          "2021-01-28",
          "2021-01-31",
          "2021-01-31",
          "2021-02-01",
          "2021-02-01",
          "2021-02-02",
          "2021-02-02",
          "2021-02-03",
          "2021-02-03",
          "2021-02-04",
          "2021-02-04",
          "2021-02-07",
          "2021-02-07",
          "2021-02-08",
          "2021-02-08",
          "2021-02-09",
          "2021-02-09",
          "2021-02-10",
          "2021-02-10",
          "2021-02-11",
          "2021-02-11",
          "2021-02-14",
          "2021-02-14",
          "2021-02-15",
          "2021-02-15",
          "2021-02-16",
          "2021-02-16",
          "2021-02-17",
          "2021-02-17",
          "2021-02-18",
          "2021-02-18",
          "2021-02-21",
          "2021-02-21"
         ],
         "xaxis": "x2",
         "y": [
          2.321900826446281,
          2.6639367816091952,
          2.3953703703703706,
          2.2169781931464176,
          2.3015723270440254,
          2.1074858757062147,
          2.7402654867256637,
          2.395564516129032,
          2.139855072463768,
          2.840740740740741,
          2.435514018691589,
          2.065395480225989,
          2.2903669724770643,
          2.020578231292517,
          2.1003663003663005,
          2.3831715210355986,
          1.9346264367816093,
          2.214484126984127,
          2.1873511904761904,
          2.3075757575757576,
          2.4314159292035398,
          2.601754385964912,
          2.1049295774647887,
          2.1021929824561405,
          1.9989999999999999,
          2.2692156862745096,
          2.5397119341563785,
          2.1579457364341086,
          2.3516260162601625,
          2.208225108225108,
          2.321993127147766,
          2.159349593495935,
          2.2017241379310346,
          2.409411764705882,
          2.1536529680365297,
          2.1915032679738564
         ],
         "yaxis": "y2"
        },
        {
         "line": {
          "color": "red"
         },
         "mode": "lines",
         "name": "Improved",
         "showlegend": false,
         "type": "scatter",
         "x": [
          "2021-01-03",
          "2021-01-03",
          "2021-01-04",
          "2021-01-04",
          "2021-01-05",
          "2021-01-05",
          "2021-01-06",
          "2021-01-06",
          "2021-01-07",
          "2021-01-07",
          "2021-01-10",
          "2021-01-10",
          "2021-01-11",
          "2021-01-11",
          "2021-01-12",
          "2021-01-12",
          "2021-01-13",
          "2021-01-13",
          "2021-01-14",
          "2021-01-14",
          "2021-01-17",
          "2021-01-17",
          "2021-01-18",
          "2021-01-18",
          "2021-01-19",
          "2021-01-19",
          "2021-01-20",
          "2021-01-20",
          "2021-01-21",
          "2021-01-21",
          "2021-01-24",
          "2021-01-24",
          "2021-01-25",
          "2021-01-25",
          "2021-01-26",
          "2021-01-26",
          "2021-01-27",
          "2021-01-27",
          "2021-01-28",
          "2021-01-28",
          "2021-01-31",
          "2021-01-31",
          "2021-02-01",
          "2021-02-01",
          "2021-02-02",
          "2021-02-02",
          "2021-02-03",
          "2021-02-03",
          "2021-02-04",
          "2021-02-04",
          "2021-02-07",
          "2021-02-07",
          "2021-02-08",
          "2021-02-08",
          "2021-02-09",
          "2021-02-09",
          "2021-02-10",
          "2021-02-10",
          "2021-02-11",
          "2021-02-11",
          "2021-02-14",
          "2021-02-14",
          "2021-02-15",
          "2021-02-15",
          "2021-02-16",
          "2021-02-16",
          "2021-02-17",
          "2021-02-17",
          "2021-02-18",
          "2021-02-18",
          "2021-02-21",
          "2021-02-21"
         ],
         "xaxis": "x3",
         "y": [
          1.7420118343195266,
          1.8883620689655172,
          2.0790364583333334,
          2.0688596491228073,
          1.9297222222222221,
          2.0886363636363634,
          2.134280303030303,
          2.376829268292683,
          2.188181818181818,
          2.271969696969697,
          2.085655737704918,
          2.2868055555555555,
          2.7412698412698413,
          2.1483091787439617,
          2.1998168498168496,
          3.2216666666666667,
          2.6407738095238096,
          2.331831831831832,
          2.2995049504950495,
          2.8005797101449277,
          2.370440251572327,
          3.228235294117647,
          3.2310897435897434,
          3.0902777777777777,
          3.25718954248366,
          5.0236434108527135,
          3.70234375,
          4.245833333333334,
          3.9379432624113475,
          3.7995614035087724,
          5.265625,
          4.746610169491526,
          5.28,
          4.4315476190476195,
          3.097916666666667,
          5.598333333333333
         ],
         "yaxis": "y3"
        },
        {
         "line": {
          "color": "blue"
         },
         "mode": "lines",
         "name": "Current",
         "showlegend": false,
         "type": "scatter",
         "x": [
          "2021-01-03",
          "2021-01-03",
          "2021-01-04",
          "2021-01-04",
          "2021-01-05",
          "2021-01-05",
          "2021-01-06",
          "2021-01-06",
          "2021-01-07",
          "2021-01-07",
          "2021-01-10",
          "2021-01-10",
          "2021-01-11",
          "2021-01-11",
          "2021-01-12",
          "2021-01-12",
          "2021-01-13",
          "2021-01-13",
          "2021-01-14",
          "2021-01-14",
          "2021-01-17",
          "2021-01-17",
          "2021-01-18",
          "2021-01-18",
          "2021-01-19",
          "2021-01-19",
          "2021-01-20",
          "2021-01-20",
          "2021-01-21",
          "2021-01-21",
          "2021-01-24",
          "2021-01-24",
          "2021-01-25",
          "2021-01-25",
          "2021-01-26",
          "2021-01-26",
          "2021-01-27",
          "2021-01-27",
          "2021-01-28",
          "2021-01-28",
          "2021-01-31",
          "2021-01-31",
          "2021-02-01",
          "2021-02-01",
          "2021-02-02",
          "2021-02-02",
          "2021-02-03",
          "2021-02-03",
          "2021-02-04",
          "2021-02-04",
          "2021-02-07",
          "2021-02-07",
          "2021-02-08",
          "2021-02-08",
          "2021-02-09",
          "2021-02-09",
          "2021-02-10",
          "2021-02-10",
          "2021-02-11",
          "2021-02-11",
          "2021-02-14",
          "2021-02-14",
          "2021-02-15",
          "2021-02-15",
          "2021-02-16",
          "2021-02-16",
          "2021-02-17",
          "2021-02-17",
          "2021-02-18",
          "2021-02-18",
          "2021-02-21",
          "2021-02-21"
         ],
         "xaxis": "x3",
         "y": [
          1.7048611111111112,
          1.893137254901961,
          1.9104166666666667,
          1.8366666666666667,
          1.8490196078431371,
          2.0025641025641026,
          1.8875,
          1.9344444444444444,
          2.11875,
          2.5051282051282056,
          1.9990196078431373,
          2.292222222222222,
          2.3588235294117648,
          1.8666666666666667,
          2.197435897435897,
          2.439583333333333,
          2.283333333333333,
          2.1233333333333335,
          2.328888888888889,
          2.285964912280702,
          2.5125,
          2.779166666666667,
          2.8,
          2.655555555555556,
          2.8333333333333335,
          3.8742424242424245,
          3.415625,
          3.2875,
          3.1064102564102565,
          3.0954545454545452,
          3.6,
          4.034259259259259,
          4.011111111111111,
          4.283333333333333,
          2.9916666666666667,
          4.433333333333334
         ],
         "yaxis": "y3"
        }
       ],
       "layout": {
        "annotations": [
         {
          "font": {
           "size": 16
          },
          "showarrow": false,
          "text": "Order Picker",
          "x": 0.14444444444444446,
          "xanchor": "center",
          "xref": "paper",
          "y": 1,
          "yanchor": "bottom",
          "yref": "paper"
         },
         {
          "font": {
           "size": 16
          },
          "showarrow": false,
          "text": "Pallet Jack",
          "x": 0.5,
          "xanchor": "center",
          "xref": "paper",
          "y": 1,
          "yanchor": "bottom",
          "yref": "paper"
         },
         {
          "font": {
           "size": 16
          },
          "showarrow": false,
          "text": "Reach Fork",
          "x": 0.8555555555555556,
          "xanchor": "center",
          "xref": "paper",
          "y": 1,
          "yanchor": "bottom",
          "yref": "paper"
         }
        ],
        "font": {
         "size": 14
        },
        "legend": {
         "orientation": "h",
         "title": {
          "text": "Placement"
         },
         "x": 1,
         "xanchor": "right",
         "y": -0.2,
         "yanchor": "bottom"
        },
        "template": {
         "data": {
          "bar": [
           {
            "error_x": {
             "color": "#2a3f5f"
            },
            "error_y": {
             "color": "#2a3f5f"
            },
            "marker": {
             "line": {
              "color": "#E5ECF6",
              "width": 0.5
             },
             "pattern": {
              "fillmode": "overlay",
              "size": 10,
              "solidity": 0.2
             }
            },
            "type": "bar"
           }
          ],
          "barpolar": [
           {
            "marker": {
             "line": {
              "color": "#E5ECF6",
              "width": 0.5
             },
             "pattern": {
              "fillmode": "overlay",
              "size": 10,
              "solidity": 0.2
             }
            },
            "type": "barpolar"
           }
          ],
          "carpet": [
           {
            "aaxis": {
             "endlinecolor": "#2a3f5f",
             "gridcolor": "white",
             "linecolor": "white",
             "minorgridcolor": "white",
             "startlinecolor": "#2a3f5f"
            },
            "baxis": {
             "endlinecolor": "#2a3f5f",
             "gridcolor": "white",
             "linecolor": "white",
             "minorgridcolor": "white",
             "startlinecolor": "#2a3f5f"
            },
            "type": "carpet"
           }
          ],
          "choropleth": [
           {
            "colorbar": {
             "outlinewidth": 0,
             "ticks": ""
            },
            "type": "choropleth"
           }
          ],
          "contour": [
           {
            "colorbar": {
             "outlinewidth": 0,
             "ticks": ""
            },
            "colorscale": [
             [
              0,
              "#0d0887"
             ],
             [
              0.1111111111111111,
              "#46039f"
             ],
             [
              0.2222222222222222,
              "#7201a8"
             ],
             [
              0.3333333333333333,
              "#9c179e"
             ],
             [
              0.4444444444444444,
              "#bd3786"
             ],
             [
              0.5555555555555556,
              "#d8576b"
             ],
             [
              0.6666666666666666,
              "#ed7953"
             ],
             [
              0.7777777777777778,
              "#fb9f3a"
             ],
             [
              0.8888888888888888,
              "#fdca26"
             ],
             [
              1,
              "#f0f921"
             ]
            ],
            "type": "contour"
           }
          ],
          "contourcarpet": [
           {
            "colorbar": {
             "outlinewidth": 0,
             "ticks": ""
            },
            "type": "contourcarpet"
           }
          ],
          "heatmap": [
           {
            "colorbar": {
             "outlinewidth": 0,
             "ticks": ""
            },
            "colorscale": [
             [
              0,
              "#0d0887"
             ],
             [
              0.1111111111111111,
              "#46039f"
             ],
             [
              0.2222222222222222,
              "#7201a8"
             ],
             [
              0.3333333333333333,
              "#9c179e"
             ],
             [
              0.4444444444444444,
              "#bd3786"
             ],
             [
              0.5555555555555556,
              "#d8576b"
             ],
             [
              0.6666666666666666,
              "#ed7953"
             ],
             [
              0.7777777777777778,
              "#fb9f3a"
             ],
             [
              0.8888888888888888,
              "#fdca26"
             ],
             [
              1,
              "#f0f921"
             ]
            ],
            "type": "heatmap"
           }
          ],
          "heatmapgl": [
           {
            "colorbar": {
             "outlinewidth": 0,
             "ticks": ""
            },
            "colorscale": [
             [
              0,
              "#0d0887"
             ],
             [
              0.1111111111111111,
              "#46039f"
             ],
             [
              0.2222222222222222,
              "#7201a8"
             ],
             [
              0.3333333333333333,
              "#9c179e"
             ],
             [
              0.4444444444444444,
              "#bd3786"
             ],
             [
              0.5555555555555556,
              "#d8576b"
             ],
             [
              0.6666666666666666,
              "#ed7953"
             ],
             [
              0.7777777777777778,
              "#fb9f3a"
             ],
             [
              0.8888888888888888,
              "#fdca26"
             ],
             [
              1,
              "#f0f921"
             ]
            ],
            "type": "heatmapgl"
           }
          ],
          "histogram": [
           {
            "marker": {
             "pattern": {
              "fillmode": "overlay",
              "size": 10,
              "solidity": 0.2
             }
            },
            "type": "histogram"
           }
          ],
          "histogram2d": [
           {
            "colorbar": {
             "outlinewidth": 0,
             "ticks": ""
            },
            "colorscale": [
             [
              0,
              "#0d0887"
             ],
             [
              0.1111111111111111,
              "#46039f"
             ],
             [
              0.2222222222222222,
              "#7201a8"
             ],
             [
              0.3333333333333333,
              "#9c179e"
             ],
             [
              0.4444444444444444,
              "#bd3786"
             ],
             [
              0.5555555555555556,
              "#d8576b"
             ],
             [
              0.6666666666666666,
              "#ed7953"
             ],
             [
              0.7777777777777778,
              "#fb9f3a"
             ],
             [
              0.8888888888888888,
              "#fdca26"
             ],
             [
              1,
              "#f0f921"
             ]
            ],
            "type": "histogram2d"
           }
          ],
          "histogram2dcontour": [
           {
            "colorbar": {
             "outlinewidth": 0,
             "ticks": ""
            },
            "colorscale": [
             [
              0,
              "#0d0887"
             ],
             [
              0.1111111111111111,
              "#46039f"
             ],
             [
              0.2222222222222222,
              "#7201a8"
             ],
             [
              0.3333333333333333,
              "#9c179e"
             ],
             [
              0.4444444444444444,
              "#bd3786"
             ],
             [
              0.5555555555555556,
              "#d8576b"
             ],
             [
              0.6666666666666666,
              "#ed7953"
             ],
             [
              0.7777777777777778,
              "#fb9f3a"
             ],
             [
              0.8888888888888888,
              "#fdca26"
             ],
             [
              1,
              "#f0f921"
             ]
            ],
            "type": "histogram2dcontour"
           }
          ],
          "mesh3d": [
           {
            "colorbar": {
             "outlinewidth": 0,
             "ticks": ""
            },
            "type": "mesh3d"
           }
          ],
          "parcoords": [
           {
            "line": {
             "colorbar": {
              "outlinewidth": 0,
              "ticks": ""
             }
            },
            "type": "parcoords"
           }
          ],
          "pie": [
           {
            "automargin": true,
            "type": "pie"
           }
          ],
          "scatter": [
           {
            "fillpattern": {
             "fillmode": "overlay",
             "size": 10,
             "solidity": 0.2
            },
            "type": "scatter"
           }
          ],
          "scatter3d": [
           {
            "line": {
             "colorbar": {
              "outlinewidth": 0,
              "ticks": ""
             }
            },
            "marker": {
             "colorbar": {
              "outlinewidth": 0,
              "ticks": ""
             }
            },
            "type": "scatter3d"
           }
          ],
          "scattercarpet": [
           {
            "marker": {
             "colorbar": {
              "outlinewidth": 0,
              "ticks": ""
             }
            },
            "type": "scattercarpet"
           }
          ],
          "scattergeo": [
           {
            "marker": {
             "colorbar": {
              "outlinewidth": 0,
              "ticks": ""
             }
            },
            "type": "scattergeo"
           }
          ],
          "scattergl": [
           {
            "marker": {
             "colorbar": {
              "outlinewidth": 0,
              "ticks": ""
             }
            },
            "type": "scattergl"
           }
          ],
          "scattermapbox": [
           {
            "marker": {
             "colorbar": {
              "outlinewidth": 0,
              "ticks": ""
             }
            },
            "type": "scattermapbox"
           }
          ],
          "scatterpolar": [
           {
            "marker": {
             "colorbar": {
              "outlinewidth": 0,
              "ticks": ""
             }
            },
            "type": "scatterpolar"
           }
          ],
          "scatterpolargl": [
           {
            "marker": {
             "colorbar": {
              "outlinewidth": 0,
              "ticks": ""
             }
            },
            "type": "scatterpolargl"
           }
          ],
          "scatterternary": [
           {
            "marker": {
             "colorbar": {
              "outlinewidth": 0,
              "ticks": ""
             }
            },
            "type": "scatterternary"
           }
          ],
          "surface": [
           {
            "colorbar": {
             "outlinewidth": 0,
             "ticks": ""
            },
            "colorscale": [
             [
              0,
              "#0d0887"
             ],
             [
              0.1111111111111111,
              "#46039f"
             ],
             [
              0.2222222222222222,
              "#7201a8"
             ],
             [
              0.3333333333333333,
              "#9c179e"
             ],
             [
              0.4444444444444444,
              "#bd3786"
             ],
             [
              0.5555555555555556,
              "#d8576b"
             ],
             [
              0.6666666666666666,
              "#ed7953"
             ],
             [
              0.7777777777777778,
              "#fb9f3a"
             ],
             [
              0.8888888888888888,
              "#fdca26"
             ],
             [
              1,
              "#f0f921"
             ]
            ],
            "type": "surface"
           }
          ],
          "table": [
           {
            "cells": {
             "fill": {
              "color": "#EBF0F8"
             },
             "line": {
              "color": "white"
             }
            },
            "header": {
             "fill": {
              "color": "#C8D4E3"
             },
             "line": {
              "color": "white"
             }
            },
            "type": "table"
           }
          ]
         },
         "layout": {
          "annotationdefaults": {
           "arrowcolor": "#2a3f5f",
           "arrowhead": 0,
           "arrowwidth": 1
          },
          "autotypenumbers": "strict",
          "coloraxis": {
           "colorbar": {
            "outlinewidth": 0,
            "ticks": ""
           }
          },
          "colorscale": {
           "diverging": [
            [
             0,
             "#8e0152"
            ],
            [
             0.1,
             "#c51b7d"
            ],
            [
             0.2,
             "#de77ae"
            ],
            [
             0.3,
             "#f1b6da"
            ],
            [
             0.4,
             "#fde0ef"
            ],
            [
             0.5,
             "#f7f7f7"
            ],
            [
             0.6,
             "#e6f5d0"
            ],
            [
             0.7,
             "#b8e186"
            ],
            [
             0.8,
             "#7fbc41"
            ],
            [
             0.9,
             "#4d9221"
            ],
            [
             1,
             "#276419"
            ]
           ],
           "sequential": [
            [
             0,
             "#0d0887"
            ],
            [
             0.1111111111111111,
             "#46039f"
            ],
            [
             0.2222222222222222,
             "#7201a8"
            ],
            [
             0.3333333333333333,
             "#9c179e"
            ],
            [
             0.4444444444444444,
             "#bd3786"
            ],
            [
             0.5555555555555556,
             "#d8576b"
            ],
            [
             0.6666666666666666,
             "#ed7953"
            ],
            [
             0.7777777777777778,
             "#fb9f3a"
            ],
            [
             0.8888888888888888,
             "#fdca26"
            ],
            [
             1,
             "#f0f921"
            ]
           ],
           "sequentialminus": [
            [
             0,
             "#0d0887"
            ],
            [
             0.1111111111111111,
             "#46039f"
            ],
            [
             0.2222222222222222,
             "#7201a8"
            ],
            [
             0.3333333333333333,
             "#9c179e"
            ],
            [
             0.4444444444444444,
             "#bd3786"
            ],
            [
             0.5555555555555556,
             "#d8576b"
            ],
            [
             0.6666666666666666,
             "#ed7953"
            ],
            [
             0.7777777777777778,
             "#fb9f3a"
            ],
            [
             0.8888888888888888,
             "#fdca26"
            ],
            [
             1,
             "#f0f921"
            ]
           ]
          },
          "colorway": [
           "#636efa",
           "#EF553B",
           "#00cc96",
           "#ab63fa",
           "#FFA15A",
           "#19d3f3",
           "#FF6692",
           "#B6E880",
           "#FF97FF",
           "#FECB52"
          ],
          "font": {
           "color": "#2a3f5f"
          },
          "geo": {
           "bgcolor": "white",
           "lakecolor": "white",
           "landcolor": "#E5ECF6",
           "showlakes": true,
           "showland": true,
           "subunitcolor": "white"
          },
          "hoverlabel": {
           "align": "left"
          },
          "hovermode": "closest",
          "mapbox": {
           "style": "light"
          },
          "paper_bgcolor": "white",
          "plot_bgcolor": "#E5ECF6",
          "polar": {
           "angularaxis": {
            "gridcolor": "white",
            "linecolor": "white",
            "ticks": ""
           },
           "bgcolor": "#E5ECF6",
           "radialaxis": {
            "gridcolor": "white",
            "linecolor": "white",
            "ticks": ""
           }
          },
          "scene": {
           "xaxis": {
            "backgroundcolor": "#E5ECF6",
            "gridcolor": "white",
            "gridwidth": 2,
            "linecolor": "white",
            "showbackground": true,
            "ticks": "",
            "zerolinecolor": "white"
           },
           "yaxis": {
            "backgroundcolor": "#E5ECF6",
            "gridcolor": "white",
            "gridwidth": 2,
            "linecolor": "white",
            "showbackground": true,
            "ticks": "",
            "zerolinecolor": "white"
           },
           "zaxis": {
            "backgroundcolor": "#E5ECF6",
            "gridcolor": "white",
            "gridwidth": 2,
            "linecolor": "white",
            "showbackground": true,
            "ticks": "",
            "zerolinecolor": "white"
           }
          },
          "shapedefaults": {
           "line": {
            "color": "#2a3f5f"
           }
          },
          "ternary": {
           "aaxis": {
            "gridcolor": "white",
            "linecolor": "white",
            "ticks": ""
           },
           "baxis": {
            "gridcolor": "white",
            "linecolor": "white",
            "ticks": ""
           },
           "bgcolor": "#E5ECF6",
           "caxis": {
            "gridcolor": "white",
            "linecolor": "white",
            "ticks": ""
           }
          },
          "title": {
           "x": 0.05
          },
          "xaxis": {
           "automargin": true,
           "gridcolor": "white",
           "linecolor": "white",
           "ticks": "",
           "title": {
            "standoff": 15
           },
           "zerolinecolor": "white",
           "zerolinewidth": 2
          },
          "yaxis": {
           "automargin": true,
           "gridcolor": "white",
           "linecolor": "white",
           "ticks": "",
           "title": {
            "standoff": 15
           },
           "zerolinecolor": "white",
           "zerolinewidth": 2
          }
         }
        },
        "title": {
         "text": "Mean Fetch Time by Date and Fetch Tool (Long Day)"
        },
        "xaxis": {
         "anchor": "y",
         "domain": [
          0,
          0.2888888888888889
         ],
         "showgrid": false,
         "showticklabels": false,
         "title": {
          "text": "Date"
         }
        },
        "xaxis2": {
         "anchor": "y2",
         "domain": [
          0.35555555555555557,
          0.6444444444444445
         ],
         "showgrid": false,
         "showticklabels": false
        },
        "xaxis3": {
         "anchor": "y3",
         "domain": [
          0.7111111111111111,
          1
         ],
         "showgrid": false,
         "showticklabels": false
        },
        "yaxis": {
         "anchor": "x",
         "domain": [
          0,
          1
         ],
         "title": {
          "text": "Mean Fetch Time (m)"
         }
        },
        "yaxis2": {
         "anchor": "x2",
         "domain": [
          0,
          1
         ]
        },
        "yaxis3": {
         "anchor": "x3",
         "domain": [
          0,
          1
         ]
        }
       }
      }
     },
     "metadata": {},
     "output_type": "display_data"
    }
   ],
   "source": [
    "fig = make_subplots(rows=1, cols=3, subplot_titles=['Order Picker', 'Pallet Jack', 'Reach Fork'], shared_yaxes=False)\n",
    "fig.add_trace(go.Scatter(x=mean_tool_fetch_time_by_dates_only_df.index, y=improved_subplot_df['PALLET_JACK'], mode='lines', name='Improved', line=dict(color='red')), row=1, col=1)\n",
    "fig.add_trace(go.Scatter(x=mean_tool_fetch_time_by_dates_only_df.index, y=current_subplot_df['PALLET_JACK'], mode='lines', name='Current', line=dict(color='blue')), row=1, col=1)\n",
    "fig.add_trace(go.Scatter(x=mean_tool_fetch_time_by_dates_only_df.index, y=improved_subplot_df['ORDER_PICKER'], mode='lines', name='Improved', line=dict(color='red')), row=1, col=2)\n",
    "fig.add_trace(go.Scatter(x=mean_tool_fetch_time_by_dates_only_df.index, y=current_subplot_df['ORDER_PICKER'], mode='lines', name='Current', line=dict(color='blue')), row=1, col=2)\n",
    "fig.add_trace(go.Scatter(x=mean_tool_fetch_time_by_dates_only_df.index, y=improved_subplot_df['REACH_FORK'], mode='lines', name='Improved', line=dict(color='red')), row=1, col=3)\n",
    "fig.add_trace(go.Scatter(x=mean_tool_fetch_time_by_dates_only_df.index, y=current_subplot_df['REACH_FORK'], mode='lines', name='Current', line=dict(color='blue')), row=1, col=3)\n",
    "fig.update_layout(title='Mean Fetch Time by Date and Fetch Tool (Long Day)', xaxis_title='Date', yaxis_title='Mean Fetch Time (m)', legend_title='Placement', legend=dict(orientation='h', yanchor='bottom', y=-0.2, xanchor='right', x=1), font=dict(size=14))\n",
    "\n",
    "# change legend to include only one value of 'Improved' in blue and 'Current' in red\n",
    "for i in range(2, 6):\n",
    "    fig['data'][i]['showlegend'] = False\n",
    "\n",
    "# hide the xaxis labels\n",
    "fig.update_xaxes(showticklabels=False, showgrid=False)\n",
    "\n",
    "fig.show()\n",
    "# export the fig to a png file under the ./graphs/ folder\n",
    "fig.write_image('./graphs/mean_fetch_time_by_date_and_fetch_tool.png', width=800, height=400)"
   ]
  },
  {
   "cell_type": "code",
   "execution_count": 546,
   "metadata": {},
   "outputs": [
    {
     "data": {
      "text/html": [
       "<div>\n",
       "<style scoped>\n",
       "    .dataframe tbody tr th:only-of-type {\n",
       "        vertical-align: middle;\n",
       "    }\n",
       "\n",
       "    .dataframe tbody tr th {\n",
       "        vertical-align: top;\n",
       "    }\n",
       "\n",
       "    .dataframe thead th {\n",
       "        text-align: right;\n",
       "    }\n",
       "</style>\n",
       "<table border=\"1\" class=\"dataframe\">\n",
       "  <thead>\n",
       "    <tr style=\"text-align: right;\">\n",
       "      <th></th>\n",
       "      <th>date</th>\n",
       "      <th>employee</th>\n",
       "      <th>task_time</th>\n",
       "      <th>positions</th>\n",
       "      <th>placement</th>\n",
       "      <th>worker_type</th>\n",
       "    </tr>\n",
       "  </thead>\n",
       "  <tbody>\n",
       "    <tr>\n",
       "      <th>62</th>\n",
       "      <td>2021-01-03</td>\n",
       "      <td>1</td>\n",
       "      <td>65.0</td>\n",
       "      <td>Current</td>\n",
       "      <td>Current</td>\n",
       "      <td>floor</td>\n",
       "    </tr>\n",
       "    <tr>\n",
       "      <th>63</th>\n",
       "      <td>2021-01-03</td>\n",
       "      <td>2</td>\n",
       "      <td>63.0</td>\n",
       "      <td>Current</td>\n",
       "      <td>Current</td>\n",
       "      <td>floor</td>\n",
       "    </tr>\n",
       "    <tr>\n",
       "      <th>64</th>\n",
       "      <td>2021-01-03</td>\n",
       "      <td>3</td>\n",
       "      <td>90.0</td>\n",
       "      <td>Current</td>\n",
       "      <td>Current</td>\n",
       "      <td>floor</td>\n",
       "    </tr>\n",
       "    <tr>\n",
       "      <th>65</th>\n",
       "      <td>2021-01-03</td>\n",
       "      <td>1</td>\n",
       "      <td>52.0</td>\n",
       "      <td>Current</td>\n",
       "      <td>Current</td>\n",
       "      <td>floor</td>\n",
       "    </tr>\n",
       "    <tr>\n",
       "      <th>66</th>\n",
       "      <td>2021-01-03</td>\n",
       "      <td>1</td>\n",
       "      <td>66.0</td>\n",
       "      <td>Current</td>\n",
       "      <td>Current</td>\n",
       "      <td>floor</td>\n",
       "    </tr>\n",
       "    <tr>\n",
       "      <th>...</th>\n",
       "      <td>...</td>\n",
       "      <td>...</td>\n",
       "      <td>...</td>\n",
       "      <td>...</td>\n",
       "      <td>...</td>\n",
       "      <td>...</td>\n",
       "    </tr>\n",
       "    <tr>\n",
       "      <th>78286</th>\n",
       "      <td>2021-01-31</td>\n",
       "      <td>5</td>\n",
       "      <td>143.0</td>\n",
       "      <td>Improved</td>\n",
       "      <td>7</td>\n",
       "      <td>height</td>\n",
       "    </tr>\n",
       "    <tr>\n",
       "      <th>78287</th>\n",
       "      <td>2021-01-31</td>\n",
       "      <td>5</td>\n",
       "      <td>70.0</td>\n",
       "      <td>Improved</td>\n",
       "      <td>7</td>\n",
       "      <td>height</td>\n",
       "    </tr>\n",
       "    <tr>\n",
       "      <th>78288</th>\n",
       "      <td>2021-01-31</td>\n",
       "      <td>5</td>\n",
       "      <td>94.0</td>\n",
       "      <td>Improved</td>\n",
       "      <td>7</td>\n",
       "      <td>height</td>\n",
       "    </tr>\n",
       "    <tr>\n",
       "      <th>78289</th>\n",
       "      <td>2021-01-31</td>\n",
       "      <td>4</td>\n",
       "      <td>176.0</td>\n",
       "      <td>Improved</td>\n",
       "      <td>7</td>\n",
       "      <td>height</td>\n",
       "    </tr>\n",
       "    <tr>\n",
       "      <th>78290</th>\n",
       "      <td>2021-01-31</td>\n",
       "      <td>5</td>\n",
       "      <td>199.0</td>\n",
       "      <td>Improved</td>\n",
       "      <td>7</td>\n",
       "      <td>height</td>\n",
       "    </tr>\n",
       "  </tbody>\n",
       "</table>\n",
       "<p>73429 rows × 6 columns</p>\n",
       "</div>"
      ],
      "text/plain": [
       "             date  employee  task_time positions placement worker_type\n",
       "62     2021-01-03         1       65.0   Current   Current       floor\n",
       "63     2021-01-03         2       63.0   Current   Current       floor\n",
       "64     2021-01-03         3       90.0   Current   Current       floor\n",
       "65     2021-01-03         1       52.0   Current   Current       floor\n",
       "66     2021-01-03         1       66.0   Current   Current       floor\n",
       "...           ...       ...        ...       ...       ...         ...\n",
       "78286  2021-01-31         5      143.0  Improved         7      height\n",
       "78287  2021-01-31         5       70.0  Improved         7      height\n",
       "78288  2021-01-31         5       94.0  Improved         7      height\n",
       "78289  2021-01-31         4      176.0  Improved         7      height\n",
       "78290  2021-01-31         5      199.0  Improved         7      height\n",
       "\n",
       "[73429 rows x 6 columns]"
      ]
     },
     "execution_count": 546,
     "metadata": {},
     "output_type": "execute_result"
    }
   ],
   "source": [
    "floor_workers_list = [1,2,3]\n",
    "height_workers_list = [4,5]\n",
    "worker_type_df = fetch_task_results_df[['date', 'employee', 'task_time', 'positions', 'placement']][fetch_task_results_df['employee'] != 0].copy()\n",
    "# if employee in floor_workers_list, set worker_type to 'floor', else set to 'height'\n",
    "worker_type_df['worker_type'] = worker_type_df['employee'].apply(lambda x: 'floor' if x in floor_workers_list else 'height')\n",
    "# from the worker_type_df, remove each row that has a 'date' value which represents a Friday\n",
    "worker_type_df = worker_type_df[~pd.to_datetime(worker_type_df['date']).dt.dayofweek.isin([4,5])]\n",
    "worker_type_df"
   ]
  },
  {
   "cell_type": "code",
   "execution_count": 547,
   "metadata": {},
   "outputs": [
    {
     "data": {
      "text/html": [
       "<div>\n",
       "<style scoped>\n",
       "    .dataframe tbody tr th:only-of-type {\n",
       "        vertical-align: middle;\n",
       "    }\n",
       "\n",
       "    .dataframe tbody tr th {\n",
       "        vertical-align: top;\n",
       "    }\n",
       "\n",
       "    .dataframe thead th {\n",
       "        text-align: right;\n",
       "    }\n",
       "</style>\n",
       "<table border=\"1\" class=\"dataframe\">\n",
       "  <thead>\n",
       "    <tr style=\"text-align: right;\">\n",
       "      <th></th>\n",
       "      <th>positions</th>\n",
       "      <th>worker_type</th>\n",
       "      <th>date</th>\n",
       "      <th>placement</th>\n",
       "      <th>employee</th>\n",
       "      <th>task_time</th>\n",
       "    </tr>\n",
       "  </thead>\n",
       "  <tbody>\n",
       "    <tr>\n",
       "      <th>0</th>\n",
       "      <td>Current</td>\n",
       "      <td>floor</td>\n",
       "      <td>2021-01-03</td>\n",
       "      <td>Current</td>\n",
       "      <td>461</td>\n",
       "      <td>22010.0</td>\n",
       "    </tr>\n",
       "    <tr>\n",
       "      <th>1</th>\n",
       "      <td>Current</td>\n",
       "      <td>floor</td>\n",
       "      <td>2021-01-04</td>\n",
       "      <td>Current</td>\n",
       "      <td>563</td>\n",
       "      <td>25579.0</td>\n",
       "    </tr>\n",
       "    <tr>\n",
       "      <th>2</th>\n",
       "      <td>Current</td>\n",
       "      <td>floor</td>\n",
       "      <td>2021-01-05</td>\n",
       "      <td>Current</td>\n",
       "      <td>522</td>\n",
       "      <td>22361.0</td>\n",
       "    </tr>\n",
       "    <tr>\n",
       "      <th>3</th>\n",
       "      <td>Current</td>\n",
       "      <td>floor</td>\n",
       "      <td>2021-01-06</td>\n",
       "      <td>Current</td>\n",
       "      <td>281</td>\n",
       "      <td>13826.0</td>\n",
       "    </tr>\n",
       "    <tr>\n",
       "      <th>4</th>\n",
       "      <td>Current</td>\n",
       "      <td>floor</td>\n",
       "      <td>2021-01-07</td>\n",
       "      <td>Current</td>\n",
       "      <td>318</td>\n",
       "      <td>15018.0</td>\n",
       "    </tr>\n",
       "    <tr>\n",
       "      <th>...</th>\n",
       "      <td>...</td>\n",
       "      <td>...</td>\n",
       "      <td>...</td>\n",
       "      <td>...</td>\n",
       "      <td>...</td>\n",
       "      <td>...</td>\n",
       "    </tr>\n",
       "    <tr>\n",
       "      <th>475</th>\n",
       "      <td>Improved</td>\n",
       "      <td>height</td>\n",
       "      <td>2021-02-18</td>\n",
       "      <td>1</td>\n",
       "      <td>301</td>\n",
       "      <td>9250.0</td>\n",
       "    </tr>\n",
       "    <tr>\n",
       "      <th>476</th>\n",
       "      <td>Improved</td>\n",
       "      <td>height</td>\n",
       "      <td>2021-02-18</td>\n",
       "      <td>2</td>\n",
       "      <td>310</td>\n",
       "      <td>9293.0</td>\n",
       "    </tr>\n",
       "    <tr>\n",
       "      <th>477</th>\n",
       "      <td>Improved</td>\n",
       "      <td>height</td>\n",
       "      <td>2021-02-18</td>\n",
       "      <td>3</td>\n",
       "      <td>313</td>\n",
       "      <td>9497.0</td>\n",
       "    </tr>\n",
       "    <tr>\n",
       "      <th>478</th>\n",
       "      <td>Improved</td>\n",
       "      <td>height</td>\n",
       "      <td>2021-02-18</td>\n",
       "      <td>4</td>\n",
       "      <td>312</td>\n",
       "      <td>9420.0</td>\n",
       "    </tr>\n",
       "    <tr>\n",
       "      <th>479</th>\n",
       "      <td>Improved</td>\n",
       "      <td>height</td>\n",
       "      <td>2021-02-21</td>\n",
       "      <td>1</td>\n",
       "      <td>409</td>\n",
       "      <td>14778.0</td>\n",
       "    </tr>\n",
       "  </tbody>\n",
       "</table>\n",
       "<p>480 rows × 6 columns</p>\n",
       "</div>"
      ],
      "text/plain": [
       "    positions worker_type        date placement  employee  task_time\n",
       "0     Current       floor  2021-01-03   Current       461    22010.0\n",
       "1     Current       floor  2021-01-04   Current       563    25579.0\n",
       "2     Current       floor  2021-01-05   Current       522    22361.0\n",
       "3     Current       floor  2021-01-06   Current       281    13826.0\n",
       "4     Current       floor  2021-01-07   Current       318    15018.0\n",
       "..        ...         ...         ...       ...       ...        ...\n",
       "475  Improved      height  2021-02-18         1       301     9250.0\n",
       "476  Improved      height  2021-02-18         2       310     9293.0\n",
       "477  Improved      height  2021-02-18         3       313     9497.0\n",
       "478  Improved      height  2021-02-18         4       312     9420.0\n",
       "479  Improved      height  2021-02-21         1       409    14778.0\n",
       "\n",
       "[480 rows x 6 columns]"
      ]
     },
     "execution_count": 547,
     "metadata": {},
     "output_type": "execute_result"
    }
   ],
   "source": [
    "# group by positions, worker_type, date and employee, and calculate the sum of task_time\n",
    "worker_type_df = worker_type_df.groupby(['positions', 'worker_type', 'date', 'placement']).sum()\n",
    "# reset the index\n",
    "worker_type_df = worker_type_df.reset_index()\n",
    "worker_type_df"
   ]
  },
  {
   "cell_type": "code",
   "execution_count": 548,
   "metadata": {},
   "outputs": [
    {
     "data": {
      "text/html": [
       "<div>\n",
       "<style scoped>\n",
       "    .dataframe tbody tr th:only-of-type {\n",
       "        vertical-align: middle;\n",
       "    }\n",
       "\n",
       "    .dataframe tbody tr th {\n",
       "        vertical-align: top;\n",
       "    }\n",
       "\n",
       "    .dataframe thead th {\n",
       "        text-align: right;\n",
       "    }\n",
       "</style>\n",
       "<table border=\"1\" class=\"dataframe\">\n",
       "  <thead>\n",
       "    <tr style=\"text-align: right;\">\n",
       "      <th></th>\n",
       "      <th>positions</th>\n",
       "      <th>date</th>\n",
       "      <th>worker_type</th>\n",
       "      <th>mean_task_time</th>\n",
       "    </tr>\n",
       "  </thead>\n",
       "  <tbody>\n",
       "    <tr>\n",
       "      <th>0</th>\n",
       "      <td>Current</td>\n",
       "      <td>2021-01-03</td>\n",
       "      <td>floor</td>\n",
       "      <td>366.833333</td>\n",
       "    </tr>\n",
       "    <tr>\n",
       "      <th>1</th>\n",
       "      <td>Current</td>\n",
       "      <td>2021-01-03</td>\n",
       "      <td>height</td>\n",
       "      <td>321.866667</td>\n",
       "    </tr>\n",
       "    <tr>\n",
       "      <th>2</th>\n",
       "      <td>Current</td>\n",
       "      <td>2021-01-04</td>\n",
       "      <td>floor</td>\n",
       "      <td>426.316667</td>\n",
       "    </tr>\n",
       "    <tr>\n",
       "      <th>3</th>\n",
       "      <td>Current</td>\n",
       "      <td>2021-01-04</td>\n",
       "      <td>height</td>\n",
       "      <td>363.216667</td>\n",
       "    </tr>\n",
       "    <tr>\n",
       "      <th>4</th>\n",
       "      <td>Current</td>\n",
       "      <td>2021-01-05</td>\n",
       "      <td>floor</td>\n",
       "      <td>372.683333</td>\n",
       "    </tr>\n",
       "    <tr>\n",
       "      <th>...</th>\n",
       "      <td>...</td>\n",
       "      <td>...</td>\n",
       "      <td>...</td>\n",
       "      <td>...</td>\n",
       "    </tr>\n",
       "    <tr>\n",
       "      <th>139</th>\n",
       "      <td>Improved</td>\n",
       "      <td>2021-02-17</td>\n",
       "      <td>height</td>\n",
       "      <td>257.575000</td>\n",
       "    </tr>\n",
       "    <tr>\n",
       "      <th>140</th>\n",
       "      <td>Improved</td>\n",
       "      <td>2021-02-18</td>\n",
       "      <td>floor</td>\n",
       "      <td>165.625000</td>\n",
       "    </tr>\n",
       "    <tr>\n",
       "      <th>141</th>\n",
       "      <td>Improved</td>\n",
       "      <td>2021-02-18</td>\n",
       "      <td>height</td>\n",
       "      <td>156.083333</td>\n",
       "    </tr>\n",
       "    <tr>\n",
       "      <th>142</th>\n",
       "      <td>Improved</td>\n",
       "      <td>2021-02-21</td>\n",
       "      <td>floor</td>\n",
       "      <td>244.416667</td>\n",
       "    </tr>\n",
       "    <tr>\n",
       "      <th>143</th>\n",
       "      <td>Improved</td>\n",
       "      <td>2021-02-21</td>\n",
       "      <td>height</td>\n",
       "      <td>246.300000</td>\n",
       "    </tr>\n",
       "  </tbody>\n",
       "</table>\n",
       "<p>144 rows × 4 columns</p>\n",
       "</div>"
      ],
      "text/plain": [
       "    positions        date worker_type  mean_task_time\n",
       "0     Current  2021-01-03       floor      366.833333\n",
       "1     Current  2021-01-03      height      321.866667\n",
       "2     Current  2021-01-04       floor      426.316667\n",
       "3     Current  2021-01-04      height      363.216667\n",
       "4     Current  2021-01-05       floor      372.683333\n",
       "..        ...         ...         ...             ...\n",
       "139  Improved  2021-02-17      height      257.575000\n",
       "140  Improved  2021-02-18       floor      165.625000\n",
       "141  Improved  2021-02-18      height      156.083333\n",
       "142  Improved  2021-02-21       floor      244.416667\n",
       "143  Improved  2021-02-21      height      246.300000\n",
       "\n",
       "[144 rows x 4 columns]"
      ]
     },
     "execution_count": 548,
     "metadata": {},
     "output_type": "execute_result"
    }
   ],
   "source": [
    "# drop the employee column\n",
    "worker_type_df = worker_type_df.drop(columns=['placement', 'employee'])\n",
    "# group by positions, date and worker_type, and calculate the mean of task_time, change the name of the column to 'mean_task_time'\n",
    "worker_type_df = worker_type_df.groupby(['positions', 'date', 'worker_type']).mean().rename(columns={'task_time': 'mean_task_time'})\n",
    "# reset the index\n",
    "worker_type_df = worker_type_df.reset_index()\n",
    "# convert the task_time from seconds to minutes\n",
    "worker_type_df['mean_task_time'] = worker_type_df['mean_task_time'] / 60\n",
    "worker_type_df\n"
   ]
  },
  {
   "cell_type": "code",
   "execution_count": 549,
   "metadata": {},
   "outputs": [
    {
     "data": {
      "text/html": [
       "<div>\n",
       "<style scoped>\n",
       "    .dataframe tbody tr th:only-of-type {\n",
       "        vertical-align: middle;\n",
       "    }\n",
       "\n",
       "    .dataframe tbody tr th {\n",
       "        vertical-align: top;\n",
       "    }\n",
       "\n",
       "    .dataframe thead th {\n",
       "        text-align: right;\n",
       "    }\n",
       "</style>\n",
       "<table border=\"1\" class=\"dataframe\">\n",
       "  <thead>\n",
       "    <tr style=\"text-align: right;\">\n",
       "      <th></th>\n",
       "      <th>positions</th>\n",
       "      <th>date</th>\n",
       "      <th>worker_type</th>\n",
       "      <th>mean_task_time</th>\n",
       "    </tr>\n",
       "  </thead>\n",
       "  <tbody>\n",
       "    <tr>\n",
       "      <th>0</th>\n",
       "      <td>Current</td>\n",
       "      <td>2021-01-03</td>\n",
       "      <td>floor</td>\n",
       "      <td>366.833333</td>\n",
       "    </tr>\n",
       "    <tr>\n",
       "      <th>2</th>\n",
       "      <td>Current</td>\n",
       "      <td>2021-01-04</td>\n",
       "      <td>floor</td>\n",
       "      <td>426.316667</td>\n",
       "    </tr>\n",
       "    <tr>\n",
       "      <th>4</th>\n",
       "      <td>Current</td>\n",
       "      <td>2021-01-05</td>\n",
       "      <td>floor</td>\n",
       "      <td>372.683333</td>\n",
       "    </tr>\n",
       "    <tr>\n",
       "      <th>6</th>\n",
       "      <td>Current</td>\n",
       "      <td>2021-01-06</td>\n",
       "      <td>floor</td>\n",
       "      <td>230.433333</td>\n",
       "    </tr>\n",
       "    <tr>\n",
       "      <th>8</th>\n",
       "      <td>Current</td>\n",
       "      <td>2021-01-07</td>\n",
       "      <td>floor</td>\n",
       "      <td>250.300000</td>\n",
       "    </tr>\n",
       "    <tr>\n",
       "      <th>...</th>\n",
       "      <td>...</td>\n",
       "      <td>...</td>\n",
       "      <td>...</td>\n",
       "      <td>...</td>\n",
       "    </tr>\n",
       "    <tr>\n",
       "      <th>134</th>\n",
       "      <td>Improved</td>\n",
       "      <td>2021-02-15</td>\n",
       "      <td>floor</td>\n",
       "      <td>156.279167</td>\n",
       "    </tr>\n",
       "    <tr>\n",
       "      <th>136</th>\n",
       "      <td>Improved</td>\n",
       "      <td>2021-02-16</td>\n",
       "      <td>floor</td>\n",
       "      <td>236.245833</td>\n",
       "    </tr>\n",
       "    <tr>\n",
       "      <th>138</th>\n",
       "      <td>Improved</td>\n",
       "      <td>2021-02-17</td>\n",
       "      <td>floor</td>\n",
       "      <td>183.441667</td>\n",
       "    </tr>\n",
       "    <tr>\n",
       "      <th>140</th>\n",
       "      <td>Improved</td>\n",
       "      <td>2021-02-18</td>\n",
       "      <td>floor</td>\n",
       "      <td>165.625000</td>\n",
       "    </tr>\n",
       "    <tr>\n",
       "      <th>142</th>\n",
       "      <td>Improved</td>\n",
       "      <td>2021-02-21</td>\n",
       "      <td>floor</td>\n",
       "      <td>244.416667</td>\n",
       "    </tr>\n",
       "  </tbody>\n",
       "</table>\n",
       "<p>72 rows × 4 columns</p>\n",
       "</div>"
      ],
      "text/plain": [
       "    positions        date worker_type  mean_task_time\n",
       "0     Current  2021-01-03       floor      366.833333\n",
       "2     Current  2021-01-04       floor      426.316667\n",
       "4     Current  2021-01-05       floor      372.683333\n",
       "6     Current  2021-01-06       floor      230.433333\n",
       "8     Current  2021-01-07       floor      250.300000\n",
       "..        ...         ...         ...             ...\n",
       "134  Improved  2021-02-15       floor      156.279167\n",
       "136  Improved  2021-02-16       floor      236.245833\n",
       "138  Improved  2021-02-17       floor      183.441667\n",
       "140  Improved  2021-02-18       floor      165.625000\n",
       "142  Improved  2021-02-21       floor      244.416667\n",
       "\n",
       "[72 rows x 4 columns]"
      ]
     },
     "execution_count": 549,
     "metadata": {},
     "output_type": "execute_result"
    }
   ],
   "source": [
    "floor_workers_subplot_df"
   ]
  },
  {
   "cell_type": "code",
   "execution_count": 598,
   "metadata": {},
   "outputs": [
    {
     "data": {
      "application/vnd.plotly.v1+json": {
       "config": {
        "plotlyServerURL": "https://plot.ly"
       },
       "data": [
        {
         "line": {
          "color": "red"
         },
         "mode": "lines",
         "name": "Improved",
         "type": "scatter",
         "x": [
          "2021-01-03",
          "2021-01-04",
          "2021-01-05",
          "2021-01-06",
          "2021-01-07",
          "2021-01-10",
          "2021-01-11",
          "2021-01-12",
          "2021-01-13",
          "2021-01-14",
          "2021-01-17",
          "2021-01-18",
          "2021-01-19",
          "2021-01-20",
          "2021-01-21",
          "2021-01-24",
          "2021-01-25",
          "2021-01-26",
          "2021-01-27",
          "2021-01-28",
          "2021-01-31",
          "2021-02-01",
          "2021-02-02",
          "2021-02-03",
          "2021-02-04",
          "2021-02-07",
          "2021-02-08",
          "2021-02-09",
          "2021-02-10",
          "2021-02-11",
          "2021-02-14",
          "2021-02-15",
          "2021-02-16",
          "2021-02-17",
          "2021-02-18",
          "2021-02-21"
         ],
         "xaxis": "x",
         "y": [
          398.4547619047619,
          479.6904761904762,
          384.2095238095238,
          230.85714285714283,
          276.3952380952381,
          273.4071428571429,
          342.95714285714286,
          337.9761904761905,
          301.38095238095235,
          271.77142857142854,
          269.7761904761905,
          271.03333333333336,
          261.5595238095238,
          210.26666666666668,
          198.5690476190476,
          238.53571428571428,
          225.11428571428573,
          205.8,
          237.55,
          251.65714285714284,
          276.8833333333333,
          321.8875,
          193.275,
          184.02916666666667,
          287.4291666666667,
          212.87083333333334,
          235.92916666666667,
          204.82916666666668,
          219.86666666666667,
          255.25833333333333,
          211.375,
          156.27916666666667,
          236.24583333333334,
          183.44166666666666,
          165.625,
          244.41666666666666
         ],
         "yaxis": "y"
        },
        {
         "line": {
          "color": "blue"
         },
         "mode": "lines",
         "name": "Current",
         "type": "scatter",
         "x": [
          "2021-01-03",
          "2021-01-04",
          "2021-01-05",
          "2021-01-06",
          "2021-01-07",
          "2021-01-10",
          "2021-01-11",
          "2021-01-12",
          "2021-01-13",
          "2021-01-14",
          "2021-01-17",
          "2021-01-18",
          "2021-01-19",
          "2021-01-20",
          "2021-01-21",
          "2021-01-24",
          "2021-01-25",
          "2021-01-26",
          "2021-01-27",
          "2021-01-28",
          "2021-01-31",
          "2021-02-01",
          "2021-02-02",
          "2021-02-03",
          "2021-02-04",
          "2021-02-07",
          "2021-02-08",
          "2021-02-09",
          "2021-02-10",
          "2021-02-11",
          "2021-02-14",
          "2021-02-15",
          "2021-02-16",
          "2021-02-17",
          "2021-02-18",
          "2021-02-21"
         ],
         "xaxis": "x",
         "y": [
          366.8333333333333,
          426.31666666666666,
          372.68333333333334,
          230.43333333333334,
          250.3,
          254.4,
          338.55,
          312.7,
          281.3833333333333,
          247.6,
          235.01666666666668,
          246.36666666666667,
          226.78333333333333,
          192.18333333333334,
          177.1,
          210.6,
          185.9,
          181.45,
          212.83333333333334,
          231.4,
          242.45,
          293.3333333333333,
          183.43333333333334,
          179.7,
          274.1166666666667,
          201.81666666666666,
          226.23333333333332,
          203.73333333333332,
          215.45,
          263.65,
          183.81666666666666,
          153.16666666666666,
          237.05,
          178.25,
          157.41666666666666,
          227.28333333333333
         ],
         "yaxis": "y"
        },
        {
         "line": {
          "color": "red"
         },
         "mode": "lines",
         "name": "Improved",
         "showlegend": false,
         "type": "scatter",
         "x": [
          "2021-01-03",
          "2021-01-04",
          "2021-01-05",
          "2021-01-06",
          "2021-01-07",
          "2021-01-10",
          "2021-01-11",
          "2021-01-12",
          "2021-01-13",
          "2021-01-14",
          "2021-01-17",
          "2021-01-18",
          "2021-01-19",
          "2021-01-20",
          "2021-01-21",
          "2021-01-24",
          "2021-01-25",
          "2021-01-26",
          "2021-01-27",
          "2021-01-28",
          "2021-01-31",
          "2021-02-01",
          "2021-02-02",
          "2021-02-03",
          "2021-02-04",
          "2021-02-07",
          "2021-02-08",
          "2021-02-09",
          "2021-02-10",
          "2021-02-11",
          "2021-02-14",
          "2021-02-15",
          "2021-02-16",
          "2021-02-17",
          "2021-02-18",
          "2021-02-21"
         ],
         "xaxis": "x2",
         "y": [
          283.7595238095238,
          320.51666666666665,
          283.32380952380953,
          262.0047619047619,
          249.46666666666667,
          256.37857142857143,
          321.5452380952381,
          284.90238095238095,
          250.36428571428573,
          249.93333333333334,
          258.0452380952381,
          233.17857142857144,
          252.5690476190476,
          189.66190476190476,
          191.45952380952383,
          250.0452380952381,
          187.11666666666667,
          196.5857142857143,
          226.66190476190476,
          256.3595238095238,
          277.4357142857143,
          351.125,
          180.7625,
          193.37083333333334,
          228.2375,
          240.82083333333333,
          274.05833333333334,
          197.92916666666667,
          240.85833333333332,
          211.4375,
          274.7708333333333,
          240.37916666666666,
          241.55416666666667,
          257.575,
          156.08333333333334,
          246.3
         ],
         "yaxis": "y2"
        },
        {
         "line": {
          "color": "blue"
         },
         "mode": "lines",
         "name": "Current",
         "showlegend": false,
         "type": "scatter",
         "x": [
          "2021-01-03",
          "2021-01-04",
          "2021-01-05",
          "2021-01-06",
          "2021-01-07",
          "2021-01-10",
          "2021-01-11",
          "2021-01-12",
          "2021-01-13",
          "2021-01-14",
          "2021-01-17",
          "2021-01-18",
          "2021-01-19",
          "2021-01-20",
          "2021-01-21",
          "2021-01-24",
          "2021-01-25",
          "2021-01-26",
          "2021-01-27",
          "2021-01-28",
          "2021-01-31",
          "2021-02-01",
          "2021-02-02",
          "2021-02-03",
          "2021-02-04",
          "2021-02-07",
          "2021-02-08",
          "2021-02-09",
          "2021-02-10",
          "2021-02-11",
          "2021-02-14",
          "2021-02-15",
          "2021-02-16",
          "2021-02-17",
          "2021-02-18",
          "2021-02-21"
         ],
         "xaxis": "x2",
         "y": [
          321.8666666666667,
          363.21666666666664,
          333.48333333333335,
          264.76666666666665,
          277.05,
          284.3666666666667,
          332.3,
          326.06666666666666,
          279.98333333333335,
          288.23333333333335,
          294.5833333333333,
          278.1,
          289.75,
          216.68333333333334,
          221.2,
          264.98333333333335,
          242.68333333333334,
          217.86666666666667,
          279.9166666666667,
          221.11666666666667,
          295.71666666666664,
          352.18333333333334,
          188.65,
          187.56666666666666,
          238.76666666666668,
          235.5,
          263.6166666666667,
          198.73333333333332,
          233.21666666666667,
          204.08333333333334,
          291.85,
          249.68333333333334,
          218.81666666666666,
          234.78333333333333,
          163.2,
          267.8666666666667
         ],
         "yaxis": "y2"
        }
       ],
       "layout": {
        "annotations": [
         {
          "font": {
           "size": 16
          },
          "showarrow": false,
          "text": "Floor Workers",
          "x": 0.225,
          "xanchor": "center",
          "xref": "paper",
          "y": 1,
          "yanchor": "bottom",
          "yref": "paper"
         },
         {
          "font": {
           "size": 16
          },
          "showarrow": false,
          "text": "Height Workers",
          "x": 0.775,
          "xanchor": "center",
          "xref": "paper",
          "y": 1,
          "yanchor": "bottom",
          "yref": "paper"
         },
         {
          "font": {
           "size": 14
          },
          "showarrow": false,
          "text": "Improved above Current: 94.44%",
          "x": 0,
          "xref": "paper",
          "y": -0.2,
          "yref": "paper"
         },
         {
          "font": {
           "size": 14
          },
          "showarrow": false,
          "text": "Mean delta: 18.19",
          "x": 0,
          "xref": "paper",
          "y": -0.3,
          "yref": "paper"
         },
         {
          "font": {
           "size": 14
          },
          "showarrow": false,
          "text": "Improved above Current: 22.22%",
          "x": 1,
          "xref": "paper",
          "y": -0.2,
          "yref": "paper"
         },
         {
          "font": {
           "size": 14
          },
          "showarrow": false,
          "text": "Mean delta: -16.83",
          "x": 1,
          "xref": "paper",
          "y": -0.3,
          "yref": "paper"
         }
        ],
        "font": {
         "size": 14
        },
        "legend": {
         "orientation": "h",
         "title": {
          "text": "Placement"
         },
         "x": 1,
         "xanchor": "right",
         "y": -0.1,
         "yanchor": "bottom"
        },
        "template": {
         "data": {
          "bar": [
           {
            "error_x": {
             "color": "#2a3f5f"
            },
            "error_y": {
             "color": "#2a3f5f"
            },
            "marker": {
             "line": {
              "color": "#E5ECF6",
              "width": 0.5
             },
             "pattern": {
              "fillmode": "overlay",
              "size": 10,
              "solidity": 0.2
             }
            },
            "type": "bar"
           }
          ],
          "barpolar": [
           {
            "marker": {
             "line": {
              "color": "#E5ECF6",
              "width": 0.5
             },
             "pattern": {
              "fillmode": "overlay",
              "size": 10,
              "solidity": 0.2
             }
            },
            "type": "barpolar"
           }
          ],
          "carpet": [
           {
            "aaxis": {
             "endlinecolor": "#2a3f5f",
             "gridcolor": "white",
             "linecolor": "white",
             "minorgridcolor": "white",
             "startlinecolor": "#2a3f5f"
            },
            "baxis": {
             "endlinecolor": "#2a3f5f",
             "gridcolor": "white",
             "linecolor": "white",
             "minorgridcolor": "white",
             "startlinecolor": "#2a3f5f"
            },
            "type": "carpet"
           }
          ],
          "choropleth": [
           {
            "colorbar": {
             "outlinewidth": 0,
             "ticks": ""
            },
            "type": "choropleth"
           }
          ],
          "contour": [
           {
            "colorbar": {
             "outlinewidth": 0,
             "ticks": ""
            },
            "colorscale": [
             [
              0,
              "#0d0887"
             ],
             [
              0.1111111111111111,
              "#46039f"
             ],
             [
              0.2222222222222222,
              "#7201a8"
             ],
             [
              0.3333333333333333,
              "#9c179e"
             ],
             [
              0.4444444444444444,
              "#bd3786"
             ],
             [
              0.5555555555555556,
              "#d8576b"
             ],
             [
              0.6666666666666666,
              "#ed7953"
             ],
             [
              0.7777777777777778,
              "#fb9f3a"
             ],
             [
              0.8888888888888888,
              "#fdca26"
             ],
             [
              1,
              "#f0f921"
             ]
            ],
            "type": "contour"
           }
          ],
          "contourcarpet": [
           {
            "colorbar": {
             "outlinewidth": 0,
             "ticks": ""
            },
            "type": "contourcarpet"
           }
          ],
          "heatmap": [
           {
            "colorbar": {
             "outlinewidth": 0,
             "ticks": ""
            },
            "colorscale": [
             [
              0,
              "#0d0887"
             ],
             [
              0.1111111111111111,
              "#46039f"
             ],
             [
              0.2222222222222222,
              "#7201a8"
             ],
             [
              0.3333333333333333,
              "#9c179e"
             ],
             [
              0.4444444444444444,
              "#bd3786"
             ],
             [
              0.5555555555555556,
              "#d8576b"
             ],
             [
              0.6666666666666666,
              "#ed7953"
             ],
             [
              0.7777777777777778,
              "#fb9f3a"
             ],
             [
              0.8888888888888888,
              "#fdca26"
             ],
             [
              1,
              "#f0f921"
             ]
            ],
            "type": "heatmap"
           }
          ],
          "heatmapgl": [
           {
            "colorbar": {
             "outlinewidth": 0,
             "ticks": ""
            },
            "colorscale": [
             [
              0,
              "#0d0887"
             ],
             [
              0.1111111111111111,
              "#46039f"
             ],
             [
              0.2222222222222222,
              "#7201a8"
             ],
             [
              0.3333333333333333,
              "#9c179e"
             ],
             [
              0.4444444444444444,
              "#bd3786"
             ],
             [
              0.5555555555555556,
              "#d8576b"
             ],
             [
              0.6666666666666666,
              "#ed7953"
             ],
             [
              0.7777777777777778,
              "#fb9f3a"
             ],
             [
              0.8888888888888888,
              "#fdca26"
             ],
             [
              1,
              "#f0f921"
             ]
            ],
            "type": "heatmapgl"
           }
          ],
          "histogram": [
           {
            "marker": {
             "pattern": {
              "fillmode": "overlay",
              "size": 10,
              "solidity": 0.2
             }
            },
            "type": "histogram"
           }
          ],
          "histogram2d": [
           {
            "colorbar": {
             "outlinewidth": 0,
             "ticks": ""
            },
            "colorscale": [
             [
              0,
              "#0d0887"
             ],
             [
              0.1111111111111111,
              "#46039f"
             ],
             [
              0.2222222222222222,
              "#7201a8"
             ],
             [
              0.3333333333333333,
              "#9c179e"
             ],
             [
              0.4444444444444444,
              "#bd3786"
             ],
             [
              0.5555555555555556,
              "#d8576b"
             ],
             [
              0.6666666666666666,
              "#ed7953"
             ],
             [
              0.7777777777777778,
              "#fb9f3a"
             ],
             [
              0.8888888888888888,
              "#fdca26"
             ],
             [
              1,
              "#f0f921"
             ]
            ],
            "type": "histogram2d"
           }
          ],
          "histogram2dcontour": [
           {
            "colorbar": {
             "outlinewidth": 0,
             "ticks": ""
            },
            "colorscale": [
             [
              0,
              "#0d0887"
             ],
             [
              0.1111111111111111,
              "#46039f"
             ],
             [
              0.2222222222222222,
              "#7201a8"
             ],
             [
              0.3333333333333333,
              "#9c179e"
             ],
             [
              0.4444444444444444,
              "#bd3786"
             ],
             [
              0.5555555555555556,
              "#d8576b"
             ],
             [
              0.6666666666666666,
              "#ed7953"
             ],
             [
              0.7777777777777778,
              "#fb9f3a"
             ],
             [
              0.8888888888888888,
              "#fdca26"
             ],
             [
              1,
              "#f0f921"
             ]
            ],
            "type": "histogram2dcontour"
           }
          ],
          "mesh3d": [
           {
            "colorbar": {
             "outlinewidth": 0,
             "ticks": ""
            },
            "type": "mesh3d"
           }
          ],
          "parcoords": [
           {
            "line": {
             "colorbar": {
              "outlinewidth": 0,
              "ticks": ""
             }
            },
            "type": "parcoords"
           }
          ],
          "pie": [
           {
            "automargin": true,
            "type": "pie"
           }
          ],
          "scatter": [
           {
            "fillpattern": {
             "fillmode": "overlay",
             "size": 10,
             "solidity": 0.2
            },
            "type": "scatter"
           }
          ],
          "scatter3d": [
           {
            "line": {
             "colorbar": {
              "outlinewidth": 0,
              "ticks": ""
             }
            },
            "marker": {
             "colorbar": {
              "outlinewidth": 0,
              "ticks": ""
             }
            },
            "type": "scatter3d"
           }
          ],
          "scattercarpet": [
           {
            "marker": {
             "colorbar": {
              "outlinewidth": 0,
              "ticks": ""
             }
            },
            "type": "scattercarpet"
           }
          ],
          "scattergeo": [
           {
            "marker": {
             "colorbar": {
              "outlinewidth": 0,
              "ticks": ""
             }
            },
            "type": "scattergeo"
           }
          ],
          "scattergl": [
           {
            "marker": {
             "colorbar": {
              "outlinewidth": 0,
              "ticks": ""
             }
            },
            "type": "scattergl"
           }
          ],
          "scattermapbox": [
           {
            "marker": {
             "colorbar": {
              "outlinewidth": 0,
              "ticks": ""
             }
            },
            "type": "scattermapbox"
           }
          ],
          "scatterpolar": [
           {
            "marker": {
             "colorbar": {
              "outlinewidth": 0,
              "ticks": ""
             }
            },
            "type": "scatterpolar"
           }
          ],
          "scatterpolargl": [
           {
            "marker": {
             "colorbar": {
              "outlinewidth": 0,
              "ticks": ""
             }
            },
            "type": "scatterpolargl"
           }
          ],
          "scatterternary": [
           {
            "marker": {
             "colorbar": {
              "outlinewidth": 0,
              "ticks": ""
             }
            },
            "type": "scatterternary"
           }
          ],
          "surface": [
           {
            "colorbar": {
             "outlinewidth": 0,
             "ticks": ""
            },
            "colorscale": [
             [
              0,
              "#0d0887"
             ],
             [
              0.1111111111111111,
              "#46039f"
             ],
             [
              0.2222222222222222,
              "#7201a8"
             ],
             [
              0.3333333333333333,
              "#9c179e"
             ],
             [
              0.4444444444444444,
              "#bd3786"
             ],
             [
              0.5555555555555556,
              "#d8576b"
             ],
             [
              0.6666666666666666,
              "#ed7953"
             ],
             [
              0.7777777777777778,
              "#fb9f3a"
             ],
             [
              0.8888888888888888,
              "#fdca26"
             ],
             [
              1,
              "#f0f921"
             ]
            ],
            "type": "surface"
           }
          ],
          "table": [
           {
            "cells": {
             "fill": {
              "color": "#EBF0F8"
             },
             "line": {
              "color": "white"
             }
            },
            "header": {
             "fill": {
              "color": "#C8D4E3"
             },
             "line": {
              "color": "white"
             }
            },
            "type": "table"
           }
          ]
         },
         "layout": {
          "annotationdefaults": {
           "arrowcolor": "#2a3f5f",
           "arrowhead": 0,
           "arrowwidth": 1
          },
          "autotypenumbers": "strict",
          "coloraxis": {
           "colorbar": {
            "outlinewidth": 0,
            "ticks": ""
           }
          },
          "colorscale": {
           "diverging": [
            [
             0,
             "#8e0152"
            ],
            [
             0.1,
             "#c51b7d"
            ],
            [
             0.2,
             "#de77ae"
            ],
            [
             0.3,
             "#f1b6da"
            ],
            [
             0.4,
             "#fde0ef"
            ],
            [
             0.5,
             "#f7f7f7"
            ],
            [
             0.6,
             "#e6f5d0"
            ],
            [
             0.7,
             "#b8e186"
            ],
            [
             0.8,
             "#7fbc41"
            ],
            [
             0.9,
             "#4d9221"
            ],
            [
             1,
             "#276419"
            ]
           ],
           "sequential": [
            [
             0,
             "#0d0887"
            ],
            [
             0.1111111111111111,
             "#46039f"
            ],
            [
             0.2222222222222222,
             "#7201a8"
            ],
            [
             0.3333333333333333,
             "#9c179e"
            ],
            [
             0.4444444444444444,
             "#bd3786"
            ],
            [
             0.5555555555555556,
             "#d8576b"
            ],
            [
             0.6666666666666666,
             "#ed7953"
            ],
            [
             0.7777777777777778,
             "#fb9f3a"
            ],
            [
             0.8888888888888888,
             "#fdca26"
            ],
            [
             1,
             "#f0f921"
            ]
           ],
           "sequentialminus": [
            [
             0,
             "#0d0887"
            ],
            [
             0.1111111111111111,
             "#46039f"
            ],
            [
             0.2222222222222222,
             "#7201a8"
            ],
            [
             0.3333333333333333,
             "#9c179e"
            ],
            [
             0.4444444444444444,
             "#bd3786"
            ],
            [
             0.5555555555555556,
             "#d8576b"
            ],
            [
             0.6666666666666666,
             "#ed7953"
            ],
            [
             0.7777777777777778,
             "#fb9f3a"
            ],
            [
             0.8888888888888888,
             "#fdca26"
            ],
            [
             1,
             "#f0f921"
            ]
           ]
          },
          "colorway": [
           "#636efa",
           "#EF553B",
           "#00cc96",
           "#ab63fa",
           "#FFA15A",
           "#19d3f3",
           "#FF6692",
           "#B6E880",
           "#FF97FF",
           "#FECB52"
          ],
          "font": {
           "color": "#2a3f5f"
          },
          "geo": {
           "bgcolor": "white",
           "lakecolor": "white",
           "landcolor": "#E5ECF6",
           "showlakes": true,
           "showland": true,
           "subunitcolor": "white"
          },
          "hoverlabel": {
           "align": "left"
          },
          "hovermode": "closest",
          "mapbox": {
           "style": "light"
          },
          "paper_bgcolor": "white",
          "plot_bgcolor": "#E5ECF6",
          "polar": {
           "angularaxis": {
            "gridcolor": "white",
            "linecolor": "white",
            "ticks": ""
           },
           "bgcolor": "#E5ECF6",
           "radialaxis": {
            "gridcolor": "white",
            "linecolor": "white",
            "ticks": ""
           }
          },
          "scene": {
           "xaxis": {
            "backgroundcolor": "#E5ECF6",
            "gridcolor": "white",
            "gridwidth": 2,
            "linecolor": "white",
            "showbackground": true,
            "ticks": "",
            "zerolinecolor": "white"
           },
           "yaxis": {
            "backgroundcolor": "#E5ECF6",
            "gridcolor": "white",
            "gridwidth": 2,
            "linecolor": "white",
            "showbackground": true,
            "ticks": "",
            "zerolinecolor": "white"
           },
           "zaxis": {
            "backgroundcolor": "#E5ECF6",
            "gridcolor": "white",
            "gridwidth": 2,
            "linecolor": "white",
            "showbackground": true,
            "ticks": "",
            "zerolinecolor": "white"
           }
          },
          "shapedefaults": {
           "line": {
            "color": "#2a3f5f"
           }
          },
          "ternary": {
           "aaxis": {
            "gridcolor": "white",
            "linecolor": "white",
            "ticks": ""
           },
           "baxis": {
            "gridcolor": "white",
            "linecolor": "white",
            "ticks": ""
           },
           "bgcolor": "#E5ECF6",
           "caxis": {
            "gridcolor": "white",
            "linecolor": "white",
            "ticks": ""
           }
          },
          "title": {
           "x": 0.05
          },
          "xaxis": {
           "automargin": true,
           "gridcolor": "white",
           "linecolor": "white",
           "ticks": "",
           "title": {
            "standoff": 15
           },
           "zerolinecolor": "white",
           "zerolinewidth": 2
          },
          "yaxis": {
           "automargin": true,
           "gridcolor": "white",
           "linecolor": "white",
           "ticks": "",
           "title": {
            "standoff": 15
           },
           "zerolinecolor": "white",
           "zerolinewidth": 2
          }
         }
        },
        "title": {
         "text": "Mean Task Time by Date and Worker Type (Long Day)"
        },
        "xaxis": {
         "anchor": "y",
         "domain": [
          0,
          0.45
         ],
         "showticklabels": false,
         "title": {
          "text": "Date"
         }
        },
        "xaxis2": {
         "anchor": "y2",
         "domain": [
          0.55,
          1
         ],
         "showticklabels": false
        },
        "yaxis": {
         "anchor": "x",
         "domain": [
          0,
          1
         ],
         "title": {
          "text": "Total Task Time (m)"
         }
        },
        "yaxis2": {
         "anchor": "x2",
         "domain": [
          0,
          1
         ]
        }
       }
      }
     },
     "metadata": {},
     "output_type": "display_data"
    }
   ],
   "source": [
    "# create a plot with two subplots, one for each worker_type, showing the mean_task_time for each date, with the positions as the color\n",
    "# add a title and legend\n",
    "fig = make_subplots(rows=1, cols=2, subplot_titles=['Floor Workers', 'Height Workers'], shared_yaxes=False)\n",
    "\n",
    "floor_workers_subplot_df = worker_type_df[worker_type_df['worker_type'] == 'floor']\n",
    "height_workers_subplot_df = worker_type_df[worker_type_df['worker_type'] == 'height']\n",
    "\n",
    "x = 0\n",
    "for df in [floor_workers_subplot_df, height_workers_subplot_df]:\n",
    "    df = df.reset_index().drop('worker_type', axis=1)\n",
    "    # if 'positions' == 'Current', make the 'mean_task_time' column negative\n",
    "    df.loc[df['positions'] == 'Current', 'mean_task_time'] = -df.loc[df['positions'] == 'Current', 'mean_task_time']\n",
    "    # group by date and sum the mean_task_time column\n",
    "    df = df.groupby('date')['mean_task_time'].sum().reset_index()\n",
    "    # add a new column called 'improved_better' which will be True if the mean_task_time column is positive and False otherwise\n",
    "    df['improved_better'] = df['mean_task_time'] > 0\n",
    "    # save the percentage of True values in improved_better to a variable called 'improved_better_percentage'\n",
    "    improvement_delta = df['mean_task_time'].mean()\n",
    "    improved_better_percentage = df['improved_better'].mean()\n",
    "    \n",
    "    fig.add_annotation(x=x, y=-0.2, xref='paper', yref='paper', text=f'Improved above Current: {improved_better_percentage:.2%}', showarrow=False, font=dict(size=14))\n",
    "    fig.add_annotation(x=x, y=-0.3, xref='paper', yref='paper', text=f'Mean delta: {round(improvement_delta,2)}', showarrow=False, font=dict(size=14))\n",
    "    x += 1\n",
    "\n",
    "\n",
    "fig.add_trace(go.Scatter(x=floor_workers_subplot_df[floor_workers_subplot_df['positions'] == 'Improved']['date'], y=floor_workers_subplot_df[floor_workers_subplot_df['positions'] == 'Improved']['mean_task_time'], mode='lines', name='Improved', line=dict(color='red')), row=1, col=1)\n",
    "fig.add_trace(go.Scatter(x=floor_workers_subplot_df[floor_workers_subplot_df['positions'] == 'Current']['date'], y=floor_workers_subplot_df[floor_workers_subplot_df['positions'] == 'Current']['mean_task_time'], mode='lines', name='Current', line=dict(color='blue')), row=1, col=1)\n",
    "fig.add_trace(go.Scatter(x=height_workers_subplot_df[height_workers_subplot_df['positions'] == 'Improved']['date'], y=height_workers_subplot_df[height_workers_subplot_df['positions'] == 'Improved']['mean_task_time'], mode='lines', name='Improved', line=dict(color='red')), row=1, col=2)\n",
    "fig.add_trace(go.Scatter(x=height_workers_subplot_df[height_workers_subplot_df['positions'] == 'Current']['date'], y=height_workers_subplot_df[height_workers_subplot_df['positions'] == 'Current']['mean_task_time'], mode='lines', name='Current', line=dict(color='blue')), row=1, col=2)\n",
    "fig.update_layout(title='Mean Task Time by Date and Worker Type (Long Day)', xaxis_title='Date', yaxis_title='Total Task Time (m)', legend_title='Placement', legend=dict(orientation='h', yanchor='bottom', y=-0.1, xanchor='right', x=1), font=dict(size=14))\n",
    "\n",
    "# change legend to include only one value of 'Improved' in blue and 'Current' in red\n",
    "for i in range(2, 4):\n",
    "    fig['data'][i]['showlegend'] = False\n",
    "\n",
    "fig.update_xaxes(showticklabels=False)\n",
    "fig.show()\n",
    "\n",
    "# export the fig to a png file under the ./graphs/ folder\n",
    "fig.write_image('./graphs/mean_task_time_by_date_and_worker_type.png', width=800, height=400)"
   ]
  },
  {
   "cell_type": "code",
   "execution_count": 552,
   "metadata": {},
   "outputs": [
    {
     "data": {
      "text/html": [
       "<div>\n",
       "<style scoped>\n",
       "    .dataframe tbody tr th:only-of-type {\n",
       "        vertical-align: middle;\n",
       "    }\n",
       "\n",
       "    .dataframe tbody tr th {\n",
       "        vertical-align: top;\n",
       "    }\n",
       "\n",
       "    .dataframe thead th {\n",
       "        text-align: right;\n",
       "    }\n",
       "</style>\n",
       "<table border=\"1\" class=\"dataframe\">\n",
       "  <thead>\n",
       "    <tr style=\"text-align: right;\">\n",
       "      <th></th>\n",
       "      <th>positions</th>\n",
       "      <th>date</th>\n",
       "      <th>worker_type</th>\n",
       "      <th>mean_task_time</th>\n",
       "    </tr>\n",
       "  </thead>\n",
       "  <tbody>\n",
       "    <tr>\n",
       "      <th>0</th>\n",
       "      <td>Current</td>\n",
       "      <td>2021-01-03</td>\n",
       "      <td>floor</td>\n",
       "      <td>366.833333</td>\n",
       "    </tr>\n",
       "    <tr>\n",
       "      <th>1</th>\n",
       "      <td>Current</td>\n",
       "      <td>2021-01-03</td>\n",
       "      <td>height</td>\n",
       "      <td>321.866667</td>\n",
       "    </tr>\n",
       "    <tr>\n",
       "      <th>2</th>\n",
       "      <td>Current</td>\n",
       "      <td>2021-01-04</td>\n",
       "      <td>floor</td>\n",
       "      <td>426.316667</td>\n",
       "    </tr>\n",
       "    <tr>\n",
       "      <th>3</th>\n",
       "      <td>Current</td>\n",
       "      <td>2021-01-04</td>\n",
       "      <td>height</td>\n",
       "      <td>363.216667</td>\n",
       "    </tr>\n",
       "    <tr>\n",
       "      <th>4</th>\n",
       "      <td>Current</td>\n",
       "      <td>2021-01-05</td>\n",
       "      <td>floor</td>\n",
       "      <td>372.683333</td>\n",
       "    </tr>\n",
       "    <tr>\n",
       "      <th>...</th>\n",
       "      <td>...</td>\n",
       "      <td>...</td>\n",
       "      <td>...</td>\n",
       "      <td>...</td>\n",
       "    </tr>\n",
       "    <tr>\n",
       "      <th>139</th>\n",
       "      <td>Improved</td>\n",
       "      <td>2021-02-17</td>\n",
       "      <td>height</td>\n",
       "      <td>257.575000</td>\n",
       "    </tr>\n",
       "    <tr>\n",
       "      <th>140</th>\n",
       "      <td>Improved</td>\n",
       "      <td>2021-02-18</td>\n",
       "      <td>floor</td>\n",
       "      <td>165.625000</td>\n",
       "    </tr>\n",
       "    <tr>\n",
       "      <th>141</th>\n",
       "      <td>Improved</td>\n",
       "      <td>2021-02-18</td>\n",
       "      <td>height</td>\n",
       "      <td>156.083333</td>\n",
       "    </tr>\n",
       "    <tr>\n",
       "      <th>142</th>\n",
       "      <td>Improved</td>\n",
       "      <td>2021-02-21</td>\n",
       "      <td>floor</td>\n",
       "      <td>244.416667</td>\n",
       "    </tr>\n",
       "    <tr>\n",
       "      <th>143</th>\n",
       "      <td>Improved</td>\n",
       "      <td>2021-02-21</td>\n",
       "      <td>height</td>\n",
       "      <td>246.300000</td>\n",
       "    </tr>\n",
       "  </tbody>\n",
       "</table>\n",
       "<p>144 rows × 4 columns</p>\n",
       "</div>"
      ],
      "text/plain": [
       "    positions        date worker_type  mean_task_time\n",
       "0     Current  2021-01-03       floor      366.833333\n",
       "1     Current  2021-01-03      height      321.866667\n",
       "2     Current  2021-01-04       floor      426.316667\n",
       "3     Current  2021-01-04      height      363.216667\n",
       "4     Current  2021-01-05       floor      372.683333\n",
       "..        ...         ...         ...             ...\n",
       "139  Improved  2021-02-17      height      257.575000\n",
       "140  Improved  2021-02-18       floor      165.625000\n",
       "141  Improved  2021-02-18      height      156.083333\n",
       "142  Improved  2021-02-21       floor      244.416667\n",
       "143  Improved  2021-02-21      height      246.300000\n",
       "\n",
       "[144 rows x 4 columns]"
      ]
     },
     "execution_count": 552,
     "metadata": {},
     "output_type": "execute_result"
    }
   ],
   "source": [
    "worker_type_df"
   ]
  },
  {
   "cell_type": "code",
   "execution_count": 553,
   "metadata": {},
   "outputs": [
    {
     "data": {
      "text/html": [
       "<div>\n",
       "<style scoped>\n",
       "    .dataframe tbody tr th:only-of-type {\n",
       "        vertical-align: middle;\n",
       "    }\n",
       "\n",
       "    .dataframe tbody tr th {\n",
       "        vertical-align: top;\n",
       "    }\n",
       "\n",
       "    .dataframe thead th {\n",
       "        text-align: right;\n",
       "    }\n",
       "</style>\n",
       "<table border=\"1\" class=\"dataframe\">\n",
       "  <thead>\n",
       "    <tr style=\"text-align: right;\">\n",
       "      <th></th>\n",
       "      <th>task_time</th>\n",
       "      <th>placement</th>\n",
       "      <th>fetch_tool</th>\n",
       "      <th>date</th>\n",
       "    </tr>\n",
       "  </thead>\n",
       "  <tbody>\n",
       "    <tr>\n",
       "      <th>62</th>\n",
       "      <td>65.0</td>\n",
       "      <td>Current</td>\n",
       "      <td>PALLET_JACK</td>\n",
       "      <td>2021-01-03</td>\n",
       "    </tr>\n",
       "    <tr>\n",
       "      <th>63</th>\n",
       "      <td>63.0</td>\n",
       "      <td>Current</td>\n",
       "      <td>PALLET_JACK</td>\n",
       "      <td>2021-01-03</td>\n",
       "    </tr>\n",
       "    <tr>\n",
       "      <th>64</th>\n",
       "      <td>90.0</td>\n",
       "      <td>Current</td>\n",
       "      <td>PALLET_JACK</td>\n",
       "      <td>2021-01-03</td>\n",
       "    </tr>\n",
       "    <tr>\n",
       "      <th>65</th>\n",
       "      <td>52.0</td>\n",
       "      <td>Current</td>\n",
       "      <td>PALLET_JACK</td>\n",
       "      <td>2021-01-03</td>\n",
       "    </tr>\n",
       "    <tr>\n",
       "      <th>66</th>\n",
       "      <td>66.0</td>\n",
       "      <td>Current</td>\n",
       "      <td>PALLET_JACK</td>\n",
       "      <td>2021-01-03</td>\n",
       "    </tr>\n",
       "    <tr>\n",
       "      <th>...</th>\n",
       "      <td>...</td>\n",
       "      <td>...</td>\n",
       "      <td>...</td>\n",
       "      <td>...</td>\n",
       "    </tr>\n",
       "    <tr>\n",
       "      <th>78286</th>\n",
       "      <td>143.0</td>\n",
       "      <td>7</td>\n",
       "      <td>REACH_FORK</td>\n",
       "      <td>2021-01-31</td>\n",
       "    </tr>\n",
       "    <tr>\n",
       "      <th>78287</th>\n",
       "      <td>70.0</td>\n",
       "      <td>7</td>\n",
       "      <td>REACH_FORK</td>\n",
       "      <td>2021-01-31</td>\n",
       "    </tr>\n",
       "    <tr>\n",
       "      <th>78288</th>\n",
       "      <td>94.0</td>\n",
       "      <td>7</td>\n",
       "      <td>REACH_FORK</td>\n",
       "      <td>2021-01-31</td>\n",
       "    </tr>\n",
       "    <tr>\n",
       "      <th>78289</th>\n",
       "      <td>176.0</td>\n",
       "      <td>7</td>\n",
       "      <td>REACH_FORK</td>\n",
       "      <td>2021-01-31</td>\n",
       "    </tr>\n",
       "    <tr>\n",
       "      <th>78290</th>\n",
       "      <td>199.0</td>\n",
       "      <td>7</td>\n",
       "      <td>REACH_FORK</td>\n",
       "      <td>2021-01-31</td>\n",
       "    </tr>\n",
       "  </tbody>\n",
       "</table>\n",
       "<p>73429 rows × 4 columns</p>\n",
       "</div>"
      ],
      "text/plain": [
       "       task_time placement   fetch_tool        date\n",
       "62          65.0   Current  PALLET_JACK  2021-01-03\n",
       "63          63.0   Current  PALLET_JACK  2021-01-03\n",
       "64          90.0   Current  PALLET_JACK  2021-01-03\n",
       "65          52.0   Current  PALLET_JACK  2021-01-03\n",
       "66          66.0   Current  PALLET_JACK  2021-01-03\n",
       "...          ...       ...          ...         ...\n",
       "78286      143.0         7   REACH_FORK  2021-01-31\n",
       "78287       70.0         7   REACH_FORK  2021-01-31\n",
       "78288       94.0         7   REACH_FORK  2021-01-31\n",
       "78289      176.0         7   REACH_FORK  2021-01-31\n",
       "78290      199.0         7   REACH_FORK  2021-01-31\n",
       "\n",
       "[73429 rows x 4 columns]"
      ]
     },
     "execution_count": 553,
     "metadata": {},
     "output_type": "execute_result"
    }
   ],
   "source": [
    "mean_total_daily_fetch_time_by_tool = fetch_task_results_df.copy()\n",
    "mean_total_daily_fetch_time_by_tool = mean_total_daily_fetch_time_by_tool[~pd.to_datetime(mean_total_daily_fetch_time_by_tool['date']).dt.dayofweek.isin([4,5])]\n",
    "# drop the t_now employee, type_tool, tool num_of_items, num_of_aisles, 'fetch_type', and positions columns:\n",
    "mean_total_daily_fetch_time_by_tool = mean_total_daily_fetch_time_by_tool.drop(columns=['t_now', 'employee', 'type_tool', 'tool', 'num_of_items', 'num_of_aisles', 'positions', 'fetch_type'])\n",
    "# filter out rows where fetch_tool == 'CROSS_DOCK'\n",
    "mean_total_daily_fetch_time_by_tool = mean_total_daily_fetch_time_by_tool[mean_total_daily_fetch_time_by_tool['fetch_tool'] != 'CROSS_DOCK']\n",
    "mean_total_daily_fetch_time_by_tool"
   ]
  },
  {
   "cell_type": "code",
   "execution_count": 554,
   "metadata": {},
   "outputs": [
    {
     "data": {
      "text/html": [
       "<div>\n",
       "<style scoped>\n",
       "    .dataframe tbody tr th:only-of-type {\n",
       "        vertical-align: middle;\n",
       "    }\n",
       "\n",
       "    .dataframe tbody tr th {\n",
       "        vertical-align: top;\n",
       "    }\n",
       "\n",
       "    .dataframe thead th {\n",
       "        text-align: right;\n",
       "    }\n",
       "</style>\n",
       "<table border=\"1\" class=\"dataframe\">\n",
       "  <thead>\n",
       "    <tr style=\"text-align: right;\">\n",
       "      <th></th>\n",
       "      <th>placement</th>\n",
       "      <th>fetch_tool</th>\n",
       "      <th>task_time</th>\n",
       "    </tr>\n",
       "  </thead>\n",
       "  <tbody>\n",
       "    <tr>\n",
       "      <th>0</th>\n",
       "      <td>1</td>\n",
       "      <td>ORDER_PICKER</td>\n",
       "      <td>198.852778</td>\n",
       "    </tr>\n",
       "    <tr>\n",
       "      <th>1</th>\n",
       "      <td>1</td>\n",
       "      <td>PALLET_JACK</td>\n",
       "      <td>266.248148</td>\n",
       "    </tr>\n",
       "    <tr>\n",
       "      <th>2</th>\n",
       "      <td>1</td>\n",
       "      <td>REACH_FORK</td>\n",
       "      <td>38.136111</td>\n",
       "    </tr>\n",
       "    <tr>\n",
       "      <th>3</th>\n",
       "      <td>2</td>\n",
       "      <td>ORDER_PICKER</td>\n",
       "      <td>220.748095</td>\n",
       "    </tr>\n",
       "    <tr>\n",
       "      <th>4</th>\n",
       "      <td>2</td>\n",
       "      <td>PALLET_JACK</td>\n",
       "      <td>247.367619</td>\n",
       "    </tr>\n",
       "    <tr>\n",
       "      <th>5</th>\n",
       "      <td>2</td>\n",
       "      <td>REACH_FORK</td>\n",
       "      <td>36.915238</td>\n",
       "    </tr>\n",
       "    <tr>\n",
       "      <th>6</th>\n",
       "      <td>3</td>\n",
       "      <td>ORDER_PICKER</td>\n",
       "      <td>200.020952</td>\n",
       "    </tr>\n",
       "    <tr>\n",
       "      <th>7</th>\n",
       "      <td>3</td>\n",
       "      <td>PALLET_JACK</td>\n",
       "      <td>265.089524</td>\n",
       "    </tr>\n",
       "    <tr>\n",
       "      <th>8</th>\n",
       "      <td>3</td>\n",
       "      <td>REACH_FORK</td>\n",
       "      <td>34.582857</td>\n",
       "    </tr>\n",
       "    <tr>\n",
       "      <th>9</th>\n",
       "      <td>4</td>\n",
       "      <td>ORDER_PICKER</td>\n",
       "      <td>224.517619</td>\n",
       "    </tr>\n",
       "    <tr>\n",
       "      <th>10</th>\n",
       "      <td>4</td>\n",
       "      <td>PALLET_JACK</td>\n",
       "      <td>247.931429</td>\n",
       "    </tr>\n",
       "    <tr>\n",
       "      <th>11</th>\n",
       "      <td>4</td>\n",
       "      <td>REACH_FORK</td>\n",
       "      <td>35.584762</td>\n",
       "    </tr>\n",
       "    <tr>\n",
       "      <th>12</th>\n",
       "      <td>5</td>\n",
       "      <td>ORDER_PICKER</td>\n",
       "      <td>207.184127</td>\n",
       "    </tr>\n",
       "    <tr>\n",
       "      <th>13</th>\n",
       "      <td>5</td>\n",
       "      <td>PALLET_JACK</td>\n",
       "      <td>293.272222</td>\n",
       "    </tr>\n",
       "    <tr>\n",
       "      <th>14</th>\n",
       "      <td>5</td>\n",
       "      <td>REACH_FORK</td>\n",
       "      <td>30.482540</td>\n",
       "    </tr>\n",
       "    <tr>\n",
       "      <th>15</th>\n",
       "      <td>6</td>\n",
       "      <td>ORDER_PICKER</td>\n",
       "      <td>206.181746</td>\n",
       "    </tr>\n",
       "    <tr>\n",
       "      <th>16</th>\n",
       "      <td>6</td>\n",
       "      <td>PALLET_JACK</td>\n",
       "      <td>294.336508</td>\n",
       "    </tr>\n",
       "    <tr>\n",
       "      <th>17</th>\n",
       "      <td>6</td>\n",
       "      <td>REACH_FORK</td>\n",
       "      <td>29.002381</td>\n",
       "    </tr>\n",
       "    <tr>\n",
       "      <th>18</th>\n",
       "      <td>7</td>\n",
       "      <td>ORDER_PICKER</td>\n",
       "      <td>205.272222</td>\n",
       "    </tr>\n",
       "    <tr>\n",
       "      <th>19</th>\n",
       "      <td>7</td>\n",
       "      <td>PALLET_JACK</td>\n",
       "      <td>295.376190</td>\n",
       "    </tr>\n",
       "    <tr>\n",
       "      <th>20</th>\n",
       "      <td>7</td>\n",
       "      <td>REACH_FORK</td>\n",
       "      <td>30.938889</td>\n",
       "    </tr>\n",
       "    <tr>\n",
       "      <th>21</th>\n",
       "      <td>Current</td>\n",
       "      <td>ORDER_PICKER</td>\n",
       "      <td>226.630556</td>\n",
       "    </tr>\n",
       "    <tr>\n",
       "      <th>22</th>\n",
       "      <td>Current</td>\n",
       "      <td>PALLET_JACK</td>\n",
       "      <td>240.553241</td>\n",
       "    </tr>\n",
       "    <tr>\n",
       "      <th>23</th>\n",
       "      <td>Current</td>\n",
       "      <td>REACH_FORK</td>\n",
       "      <td>33.487963</td>\n",
       "    </tr>\n",
       "  </tbody>\n",
       "</table>\n",
       "</div>"
      ],
      "text/plain": [
       "   placement    fetch_tool   task_time\n",
       "0          1  ORDER_PICKER  198.852778\n",
       "1          1   PALLET_JACK  266.248148\n",
       "2          1    REACH_FORK   38.136111\n",
       "3          2  ORDER_PICKER  220.748095\n",
       "4          2   PALLET_JACK  247.367619\n",
       "5          2    REACH_FORK   36.915238\n",
       "6          3  ORDER_PICKER  200.020952\n",
       "7          3   PALLET_JACK  265.089524\n",
       "8          3    REACH_FORK   34.582857\n",
       "9          4  ORDER_PICKER  224.517619\n",
       "10         4   PALLET_JACK  247.931429\n",
       "11         4    REACH_FORK   35.584762\n",
       "12         5  ORDER_PICKER  207.184127\n",
       "13         5   PALLET_JACK  293.272222\n",
       "14         5    REACH_FORK   30.482540\n",
       "15         6  ORDER_PICKER  206.181746\n",
       "16         6   PALLET_JACK  294.336508\n",
       "17         6    REACH_FORK   29.002381\n",
       "18         7  ORDER_PICKER  205.272222\n",
       "19         7   PALLET_JACK  295.376190\n",
       "20         7    REACH_FORK   30.938889\n",
       "21   Current  ORDER_PICKER  226.630556\n",
       "22   Current   PALLET_JACK  240.553241\n",
       "23   Current    REACH_FORK   33.487963"
      ]
     },
     "execution_count": 554,
     "metadata": {},
     "output_type": "execute_result"
    }
   ],
   "source": [
    "# group by placement, date, fetch_tool and calculate the sum of task time per date\n",
    "# afterwards, group again by placement, fetch_tool and calculate the mean of total task time per date\n",
    "mean_total_daily_fetch_time_by_tool = mean_total_daily_fetch_time_by_tool.groupby(['placement', 'date', 'fetch_tool']).sum().groupby(['placement', 'fetch_tool']).mean().reset_index()\n",
    "# convert the task_time from seconds to minutes\n",
    "mean_total_daily_fetch_time_by_tool['task_time'] = mean_total_daily_fetch_time_by_tool['task_time'] / 60\n",
    "# sort order by placement, tool\n",
    "mean_total_daily_fetch_time_by_tool = mean_total_daily_fetch_time_by_tool.sort_values(by=['placement', 'fetch_tool'])\n",
    "mean_total_daily_fetch_time_by_tool"
   ]
  },
  {
   "cell_type": "code",
   "execution_count": 555,
   "metadata": {},
   "outputs": [
    {
     "data": {
      "application/vnd.plotly.v1+json": {
       "config": {
        "plotlyServerURL": "https://plot.ly"
       },
       "data": [
        {
         "name": "1",
         "type": "bar",
         "x": [
          "ORDER_PICKER",
          "PALLET_JACK",
          "REACH_FORK"
         ],
         "xaxis": "x",
         "y": [
          198.85277777777776,
          266.2481481481481,
          38.136111111111106
         ],
         "yaxis": "y"
        },
        {
         "name": "2",
         "type": "bar",
         "x": [
          "ORDER_PICKER",
          "PALLET_JACK",
          "REACH_FORK"
         ],
         "xaxis": "x2",
         "y": [
          220.74809523809523,
          247.36761904761903,
          36.915238095238095
         ],
         "yaxis": "y2"
        },
        {
         "name": "3",
         "type": "bar",
         "x": [
          "ORDER_PICKER",
          "PALLET_JACK",
          "REACH_FORK"
         ],
         "xaxis": "x3",
         "y": [
          200.02095238095237,
          265.0895238095238,
          34.582857142857144
         ],
         "yaxis": "y3"
        },
        {
         "name": "4",
         "type": "bar",
         "x": [
          "ORDER_PICKER",
          "PALLET_JACK",
          "REACH_FORK"
         ],
         "xaxis": "x4",
         "y": [
          224.51761904761904,
          247.93142857142857,
          35.584761904761905
         ],
         "yaxis": "y4"
        },
        {
         "name": "5",
         "type": "bar",
         "x": [
          "ORDER_PICKER",
          "PALLET_JACK",
          "REACH_FORK"
         ],
         "xaxis": "x5",
         "y": [
          207.18412698412698,
          293.2722222222222,
          30.482539682539684
         ],
         "yaxis": "y5"
        },
        {
         "name": "6",
         "type": "bar",
         "x": [
          "ORDER_PICKER",
          "PALLET_JACK",
          "REACH_FORK"
         ],
         "xaxis": "x6",
         "y": [
          206.18174603174603,
          294.3365079365079,
          29.002380952380953
         ],
         "yaxis": "y6"
        },
        {
         "name": "7",
         "type": "bar",
         "x": [
          "ORDER_PICKER",
          "PALLET_JACK",
          "REACH_FORK"
         ],
         "xaxis": "x7",
         "y": [
          205.27222222222224,
          295.37619047619046,
          30.938888888888886
         ],
         "yaxis": "y7"
        },
        {
         "name": "Current",
         "type": "bar",
         "x": [
          "ORDER_PICKER",
          "PALLET_JACK",
          "REACH_FORK"
         ],
         "xaxis": "x8",
         "y": [
          226.63055555555556,
          240.55324074074076,
          33.48796296296296
         ],
         "yaxis": "y8"
        }
       ],
       "layout": {
        "annotations": [
         {
          "font": {
           "size": 16
          },
          "showarrow": false,
          "text": "A",
          "x": 0.225,
          "xanchor": "center",
          "xref": "paper",
          "y": 1,
          "yanchor": "bottom",
          "yref": "paper"
         },
         {
          "font": {
           "size": 16
          },
          "showarrow": false,
          "text": "B",
          "x": 0.775,
          "xanchor": "center",
          "xref": "paper",
          "y": 1,
          "yanchor": "bottom",
          "yref": "paper"
         },
         {
          "font": {
           "size": 16
          },
          "showarrow": false,
          "text": "C",
          "x": 0.225,
          "xanchor": "center",
          "xref": "paper",
          "y": 0.71875,
          "yanchor": "bottom",
          "yref": "paper"
         },
         {
          "font": {
           "size": 16
          },
          "showarrow": false,
          "text": "D",
          "x": 0.775,
          "xanchor": "center",
          "xref": "paper",
          "y": 0.71875,
          "yanchor": "bottom",
          "yref": "paper"
         },
         {
          "font": {
           "size": 16
          },
          "showarrow": false,
          "text": "E",
          "x": 0.225,
          "xanchor": "center",
          "xref": "paper",
          "y": 0.4375,
          "yanchor": "bottom",
          "yref": "paper"
         },
         {
          "font": {
           "size": 16
          },
          "showarrow": false,
          "text": "F",
          "x": 0.775,
          "xanchor": "center",
          "xref": "paper",
          "y": 0.4375,
          "yanchor": "bottom",
          "yref": "paper"
         },
         {
          "font": {
           "size": 16
          },
          "showarrow": false,
          "text": "G",
          "x": 0.225,
          "xanchor": "center",
          "xref": "paper",
          "y": 0.15625,
          "yanchor": "bottom",
          "yref": "paper"
         },
         {
          "font": {
           "size": 16
          },
          "showarrow": false,
          "text": "H",
          "x": 0.775,
          "xanchor": "center",
          "xref": "paper",
          "y": 0.15625,
          "yanchor": "bottom",
          "yref": "paper"
         }
        ],
        "font": {
         "size": 14
        },
        "legend": {
         "orientation": "h",
         "title": {
          "text": "Placement"
         },
         "x": 1,
         "xanchor": "right",
         "y": -0.2,
         "yanchor": "bottom"
        },
        "template": {
         "data": {
          "bar": [
           {
            "error_x": {
             "color": "#2a3f5f"
            },
            "error_y": {
             "color": "#2a3f5f"
            },
            "marker": {
             "line": {
              "color": "#E5ECF6",
              "width": 0.5
             },
             "pattern": {
              "fillmode": "overlay",
              "size": 10,
              "solidity": 0.2
             }
            },
            "type": "bar"
           }
          ],
          "barpolar": [
           {
            "marker": {
             "line": {
              "color": "#E5ECF6",
              "width": 0.5
             },
             "pattern": {
              "fillmode": "overlay",
              "size": 10,
              "solidity": 0.2
             }
            },
            "type": "barpolar"
           }
          ],
          "carpet": [
           {
            "aaxis": {
             "endlinecolor": "#2a3f5f",
             "gridcolor": "white",
             "linecolor": "white",
             "minorgridcolor": "white",
             "startlinecolor": "#2a3f5f"
            },
            "baxis": {
             "endlinecolor": "#2a3f5f",
             "gridcolor": "white",
             "linecolor": "white",
             "minorgridcolor": "white",
             "startlinecolor": "#2a3f5f"
            },
            "type": "carpet"
           }
          ],
          "choropleth": [
           {
            "colorbar": {
             "outlinewidth": 0,
             "ticks": ""
            },
            "type": "choropleth"
           }
          ],
          "contour": [
           {
            "colorbar": {
             "outlinewidth": 0,
             "ticks": ""
            },
            "colorscale": [
             [
              0,
              "#0d0887"
             ],
             [
              0.1111111111111111,
              "#46039f"
             ],
             [
              0.2222222222222222,
              "#7201a8"
             ],
             [
              0.3333333333333333,
              "#9c179e"
             ],
             [
              0.4444444444444444,
              "#bd3786"
             ],
             [
              0.5555555555555556,
              "#d8576b"
             ],
             [
              0.6666666666666666,
              "#ed7953"
             ],
             [
              0.7777777777777778,
              "#fb9f3a"
             ],
             [
              0.8888888888888888,
              "#fdca26"
             ],
             [
              1,
              "#f0f921"
             ]
            ],
            "type": "contour"
           }
          ],
          "contourcarpet": [
           {
            "colorbar": {
             "outlinewidth": 0,
             "ticks": ""
            },
            "type": "contourcarpet"
           }
          ],
          "heatmap": [
           {
            "colorbar": {
             "outlinewidth": 0,
             "ticks": ""
            },
            "colorscale": [
             [
              0,
              "#0d0887"
             ],
             [
              0.1111111111111111,
              "#46039f"
             ],
             [
              0.2222222222222222,
              "#7201a8"
             ],
             [
              0.3333333333333333,
              "#9c179e"
             ],
             [
              0.4444444444444444,
              "#bd3786"
             ],
             [
              0.5555555555555556,
              "#d8576b"
             ],
             [
              0.6666666666666666,
              "#ed7953"
             ],
             [
              0.7777777777777778,
              "#fb9f3a"
             ],
             [
              0.8888888888888888,
              "#fdca26"
             ],
             [
              1,
              "#f0f921"
             ]
            ],
            "type": "heatmap"
           }
          ],
          "heatmapgl": [
           {
            "colorbar": {
             "outlinewidth": 0,
             "ticks": ""
            },
            "colorscale": [
             [
              0,
              "#0d0887"
             ],
             [
              0.1111111111111111,
              "#46039f"
             ],
             [
              0.2222222222222222,
              "#7201a8"
             ],
             [
              0.3333333333333333,
              "#9c179e"
             ],
             [
              0.4444444444444444,
              "#bd3786"
             ],
             [
              0.5555555555555556,
              "#d8576b"
             ],
             [
              0.6666666666666666,
              "#ed7953"
             ],
             [
              0.7777777777777778,
              "#fb9f3a"
             ],
             [
              0.8888888888888888,
              "#fdca26"
             ],
             [
              1,
              "#f0f921"
             ]
            ],
            "type": "heatmapgl"
           }
          ],
          "histogram": [
           {
            "marker": {
             "pattern": {
              "fillmode": "overlay",
              "size": 10,
              "solidity": 0.2
             }
            },
            "type": "histogram"
           }
          ],
          "histogram2d": [
           {
            "colorbar": {
             "outlinewidth": 0,
             "ticks": ""
            },
            "colorscale": [
             [
              0,
              "#0d0887"
             ],
             [
              0.1111111111111111,
              "#46039f"
             ],
             [
              0.2222222222222222,
              "#7201a8"
             ],
             [
              0.3333333333333333,
              "#9c179e"
             ],
             [
              0.4444444444444444,
              "#bd3786"
             ],
             [
              0.5555555555555556,
              "#d8576b"
             ],
             [
              0.6666666666666666,
              "#ed7953"
             ],
             [
              0.7777777777777778,
              "#fb9f3a"
             ],
             [
              0.8888888888888888,
              "#fdca26"
             ],
             [
              1,
              "#f0f921"
             ]
            ],
            "type": "histogram2d"
           }
          ],
          "histogram2dcontour": [
           {
            "colorbar": {
             "outlinewidth": 0,
             "ticks": ""
            },
            "colorscale": [
             [
              0,
              "#0d0887"
             ],
             [
              0.1111111111111111,
              "#46039f"
             ],
             [
              0.2222222222222222,
              "#7201a8"
             ],
             [
              0.3333333333333333,
              "#9c179e"
             ],
             [
              0.4444444444444444,
              "#bd3786"
             ],
             [
              0.5555555555555556,
              "#d8576b"
             ],
             [
              0.6666666666666666,
              "#ed7953"
             ],
             [
              0.7777777777777778,
              "#fb9f3a"
             ],
             [
              0.8888888888888888,
              "#fdca26"
             ],
             [
              1,
              "#f0f921"
             ]
            ],
            "type": "histogram2dcontour"
           }
          ],
          "mesh3d": [
           {
            "colorbar": {
             "outlinewidth": 0,
             "ticks": ""
            },
            "type": "mesh3d"
           }
          ],
          "parcoords": [
           {
            "line": {
             "colorbar": {
              "outlinewidth": 0,
              "ticks": ""
             }
            },
            "type": "parcoords"
           }
          ],
          "pie": [
           {
            "automargin": true,
            "type": "pie"
           }
          ],
          "scatter": [
           {
            "fillpattern": {
             "fillmode": "overlay",
             "size": 10,
             "solidity": 0.2
            },
            "type": "scatter"
           }
          ],
          "scatter3d": [
           {
            "line": {
             "colorbar": {
              "outlinewidth": 0,
              "ticks": ""
             }
            },
            "marker": {
             "colorbar": {
              "outlinewidth": 0,
              "ticks": ""
             }
            },
            "type": "scatter3d"
           }
          ],
          "scattercarpet": [
           {
            "marker": {
             "colorbar": {
              "outlinewidth": 0,
              "ticks": ""
             }
            },
            "type": "scattercarpet"
           }
          ],
          "scattergeo": [
           {
            "marker": {
             "colorbar": {
              "outlinewidth": 0,
              "ticks": ""
             }
            },
            "type": "scattergeo"
           }
          ],
          "scattergl": [
           {
            "marker": {
             "colorbar": {
              "outlinewidth": 0,
              "ticks": ""
             }
            },
            "type": "scattergl"
           }
          ],
          "scattermapbox": [
           {
            "marker": {
             "colorbar": {
              "outlinewidth": 0,
              "ticks": ""
             }
            },
            "type": "scattermapbox"
           }
          ],
          "scatterpolar": [
           {
            "marker": {
             "colorbar": {
              "outlinewidth": 0,
              "ticks": ""
             }
            },
            "type": "scatterpolar"
           }
          ],
          "scatterpolargl": [
           {
            "marker": {
             "colorbar": {
              "outlinewidth": 0,
              "ticks": ""
             }
            },
            "type": "scatterpolargl"
           }
          ],
          "scatterternary": [
           {
            "marker": {
             "colorbar": {
              "outlinewidth": 0,
              "ticks": ""
             }
            },
            "type": "scatterternary"
           }
          ],
          "surface": [
           {
            "colorbar": {
             "outlinewidth": 0,
             "ticks": ""
            },
            "colorscale": [
             [
              0,
              "#0d0887"
             ],
             [
              0.1111111111111111,
              "#46039f"
             ],
             [
              0.2222222222222222,
              "#7201a8"
             ],
             [
              0.3333333333333333,
              "#9c179e"
             ],
             [
              0.4444444444444444,
              "#bd3786"
             ],
             [
              0.5555555555555556,
              "#d8576b"
             ],
             [
              0.6666666666666666,
              "#ed7953"
             ],
             [
              0.7777777777777778,
              "#fb9f3a"
             ],
             [
              0.8888888888888888,
              "#fdca26"
             ],
             [
              1,
              "#f0f921"
             ]
            ],
            "type": "surface"
           }
          ],
          "table": [
           {
            "cells": {
             "fill": {
              "color": "#EBF0F8"
             },
             "line": {
              "color": "white"
             }
            },
            "header": {
             "fill": {
              "color": "#C8D4E3"
             },
             "line": {
              "color": "white"
             }
            },
            "type": "table"
           }
          ]
         },
         "layout": {
          "annotationdefaults": {
           "arrowcolor": "#2a3f5f",
           "arrowhead": 0,
           "arrowwidth": 1
          },
          "autotypenumbers": "strict",
          "coloraxis": {
           "colorbar": {
            "outlinewidth": 0,
            "ticks": ""
           }
          },
          "colorscale": {
           "diverging": [
            [
             0,
             "#8e0152"
            ],
            [
             0.1,
             "#c51b7d"
            ],
            [
             0.2,
             "#de77ae"
            ],
            [
             0.3,
             "#f1b6da"
            ],
            [
             0.4,
             "#fde0ef"
            ],
            [
             0.5,
             "#f7f7f7"
            ],
            [
             0.6,
             "#e6f5d0"
            ],
            [
             0.7,
             "#b8e186"
            ],
            [
             0.8,
             "#7fbc41"
            ],
            [
             0.9,
             "#4d9221"
            ],
            [
             1,
             "#276419"
            ]
           ],
           "sequential": [
            [
             0,
             "#0d0887"
            ],
            [
             0.1111111111111111,
             "#46039f"
            ],
            [
             0.2222222222222222,
             "#7201a8"
            ],
            [
             0.3333333333333333,
             "#9c179e"
            ],
            [
             0.4444444444444444,
             "#bd3786"
            ],
            [
             0.5555555555555556,
             "#d8576b"
            ],
            [
             0.6666666666666666,
             "#ed7953"
            ],
            [
             0.7777777777777778,
             "#fb9f3a"
            ],
            [
             0.8888888888888888,
             "#fdca26"
            ],
            [
             1,
             "#f0f921"
            ]
           ],
           "sequentialminus": [
            [
             0,
             "#0d0887"
            ],
            [
             0.1111111111111111,
             "#46039f"
            ],
            [
             0.2222222222222222,
             "#7201a8"
            ],
            [
             0.3333333333333333,
             "#9c179e"
            ],
            [
             0.4444444444444444,
             "#bd3786"
            ],
            [
             0.5555555555555556,
             "#d8576b"
            ],
            [
             0.6666666666666666,
             "#ed7953"
            ],
            [
             0.7777777777777778,
             "#fb9f3a"
            ],
            [
             0.8888888888888888,
             "#fdca26"
            ],
            [
             1,
             "#f0f921"
            ]
           ]
          },
          "colorway": [
           "#636efa",
           "#EF553B",
           "#00cc96",
           "#ab63fa",
           "#FFA15A",
           "#19d3f3",
           "#FF6692",
           "#B6E880",
           "#FF97FF",
           "#FECB52"
          ],
          "font": {
           "color": "#2a3f5f"
          },
          "geo": {
           "bgcolor": "white",
           "lakecolor": "white",
           "landcolor": "#E5ECF6",
           "showlakes": true,
           "showland": true,
           "subunitcolor": "white"
          },
          "hoverlabel": {
           "align": "left"
          },
          "hovermode": "closest",
          "mapbox": {
           "style": "light"
          },
          "paper_bgcolor": "white",
          "plot_bgcolor": "#E5ECF6",
          "polar": {
           "angularaxis": {
            "gridcolor": "white",
            "linecolor": "white",
            "ticks": ""
           },
           "bgcolor": "#E5ECF6",
           "radialaxis": {
            "gridcolor": "white",
            "linecolor": "white",
            "ticks": ""
           }
          },
          "scene": {
           "xaxis": {
            "backgroundcolor": "#E5ECF6",
            "gridcolor": "white",
            "gridwidth": 2,
            "linecolor": "white",
            "showbackground": true,
            "ticks": "",
            "zerolinecolor": "white"
           },
           "yaxis": {
            "backgroundcolor": "#E5ECF6",
            "gridcolor": "white",
            "gridwidth": 2,
            "linecolor": "white",
            "showbackground": true,
            "ticks": "",
            "zerolinecolor": "white"
           },
           "zaxis": {
            "backgroundcolor": "#E5ECF6",
            "gridcolor": "white",
            "gridwidth": 2,
            "linecolor": "white",
            "showbackground": true,
            "ticks": "",
            "zerolinecolor": "white"
           }
          },
          "shapedefaults": {
           "line": {
            "color": "#2a3f5f"
           }
          },
          "ternary": {
           "aaxis": {
            "gridcolor": "white",
            "linecolor": "white",
            "ticks": ""
           },
           "baxis": {
            "gridcolor": "white",
            "linecolor": "white",
            "ticks": ""
           },
           "bgcolor": "#E5ECF6",
           "caxis": {
            "gridcolor": "white",
            "linecolor": "white",
            "ticks": ""
           }
          },
          "title": {
           "x": 0.05
          },
          "xaxis": {
           "automargin": true,
           "gridcolor": "white",
           "linecolor": "white",
           "ticks": "",
           "title": {
            "standoff": 15
           },
           "zerolinecolor": "white",
           "zerolinewidth": 2
          },
          "yaxis": {
           "automargin": true,
           "gridcolor": "white",
           "linecolor": "white",
           "ticks": "",
           "title": {
            "standoff": 15
           },
           "zerolinecolor": "white",
           "zerolinewidth": 2
          }
         }
        },
        "title": {
         "text": "Mean Total Daily Fetch Time by Tool and Placement"
        },
        "xaxis": {
         "anchor": "y",
         "domain": [
          0,
          0.45
         ],
         "title": {
          "text": "Tool"
         }
        },
        "xaxis2": {
         "anchor": "y2",
         "domain": [
          0.55,
          1
         ]
        },
        "xaxis3": {
         "anchor": "y3",
         "domain": [
          0,
          0.45
         ]
        },
        "xaxis4": {
         "anchor": "y4",
         "domain": [
          0.55,
          1
         ]
        },
        "xaxis5": {
         "anchor": "y5",
         "domain": [
          0,
          0.45
         ]
        },
        "xaxis6": {
         "anchor": "y6",
         "domain": [
          0.55,
          1
         ]
        },
        "xaxis7": {
         "anchor": "y7",
         "domain": [
          0,
          0.45
         ]
        },
        "xaxis8": {
         "anchor": "y8",
         "domain": [
          0.55,
          1
         ]
        },
        "yaxis": {
         "anchor": "x",
         "domain": [
          0.84375,
          1
         ],
         "title": {
          "text": "Mean Fetch Time (m)"
         }
        },
        "yaxis2": {
         "anchor": "x2",
         "domain": [
          0.84375,
          1
         ]
        },
        "yaxis3": {
         "anchor": "x3",
         "domain": [
          0.5625,
          0.71875
         ]
        },
        "yaxis4": {
         "anchor": "x4",
         "domain": [
          0.5625,
          0.71875
         ]
        },
        "yaxis5": {
         "anchor": "x5",
         "domain": [
          0.28125,
          0.4375
         ]
        },
        "yaxis6": {
         "anchor": "x6",
         "domain": [
          0.28125,
          0.4375
         ]
        },
        "yaxis7": {
         "anchor": "x7",
         "domain": [
          0,
          0.15625
         ]
        },
        "yaxis8": {
         "anchor": "x8",
         "domain": [
          0,
          0.15625
         ]
        }
       }
      }
     },
     "metadata": {},
     "output_type": "display_data"
    }
   ],
   "source": [
    "# create a 8 subplots, 2 in each row, 4 rows total\n",
    "# each subplot will show the mean task time by tool for each placement\n",
    "# add a title and legend\n",
    "fig = make_subplots(rows=4, cols=2, subplot_titles=['A', 'B', 'C', 'D', 'E', 'F', 'G', 'H'], shared_yaxes=False)\n",
    "\n",
    "x = 0\n",
    "for placement in mean_total_daily_fetch_time_by_tool['placement'].unique():\n",
    "    placement_df = mean_total_daily_fetch_time_by_tool[mean_total_daily_fetch_time_by_tool['placement'] == placement]\n",
    "    fig.add_trace(go.Bar(x=placement_df['fetch_tool'], y=placement_df['task_time'], name=placement), row=x//2+1, col=x%2+1)\n",
    "    x += 1\n",
    "\n",
    "fig.update_layout(title='Mean Total Daily Fetch Time by Tool and Placement', xaxis_title='Tool', yaxis_title='Mean Fetch Time (m)', legend_title='Placement', legend=dict(orientation='h', yanchor='bottom', y=-0.2, xanchor='right', x=1), font=dict(size=14))\n",
    "fig.show()\n"
   ]
  },
  {
   "cell_type": "code",
   "execution_count": 556,
   "metadata": {},
   "outputs": [
    {
     "data": {
      "application/vnd.plotly.v1+json": {
       "config": {
        "plotlyServerURL": "https://plot.ly"
       },
       "data": [
        {
         "name": "1",
         "type": "bar",
         "x": [
          "ORDER_PICKER",
          "PALLET_JACK",
          "REACH_FORK"
         ],
         "y": [
          198.85277777777776,
          266.2481481481481,
          38.136111111111106
         ]
        },
        {
         "name": "2",
         "type": "bar",
         "x": [
          "ORDER_PICKER",
          "PALLET_JACK",
          "REACH_FORK"
         ],
         "y": [
          220.74809523809523,
          247.36761904761903,
          36.915238095238095
         ]
        },
        {
         "name": "3",
         "type": "bar",
         "x": [
          "ORDER_PICKER",
          "PALLET_JACK",
          "REACH_FORK"
         ],
         "y": [
          200.02095238095237,
          265.0895238095238,
          34.582857142857144
         ]
        },
        {
         "name": "4",
         "type": "bar",
         "x": [
          "ORDER_PICKER",
          "PALLET_JACK",
          "REACH_FORK"
         ],
         "y": [
          224.51761904761904,
          247.93142857142857,
          35.584761904761905
         ]
        },
        {
         "name": "5",
         "type": "bar",
         "x": [
          "ORDER_PICKER",
          "PALLET_JACK",
          "REACH_FORK"
         ],
         "y": [
          207.18412698412698,
          293.2722222222222,
          30.482539682539684
         ]
        },
        {
         "name": "6",
         "type": "bar",
         "x": [
          "ORDER_PICKER",
          "PALLET_JACK",
          "REACH_FORK"
         ],
         "y": [
          206.18174603174603,
          294.3365079365079,
          29.002380952380953
         ]
        },
        {
         "name": "7",
         "type": "bar",
         "x": [
          "ORDER_PICKER",
          "PALLET_JACK",
          "REACH_FORK"
         ],
         "y": [
          205.27222222222224,
          295.37619047619046,
          30.938888888888886
         ]
        },
        {
         "name": "Current",
         "type": "bar",
         "x": [
          "ORDER_PICKER",
          "PALLET_JACK",
          "REACH_FORK"
         ],
         "y": [
          226.63055555555556,
          240.55324074074076,
          33.48796296296296
         ]
        }
       ],
       "layout": {
        "font": {
         "size": 14
        },
        "legend": {
         "orientation": "h",
         "title": {
          "text": "Placement"
         },
         "x": 1,
         "xanchor": "right",
         "y": -0.2,
         "yanchor": "top"
        },
        "template": {
         "data": {
          "bar": [
           {
            "error_x": {
             "color": "#2a3f5f"
            },
            "error_y": {
             "color": "#2a3f5f"
            },
            "marker": {
             "line": {
              "color": "#E5ECF6",
              "width": 0.5
             },
             "pattern": {
              "fillmode": "overlay",
              "size": 10,
              "solidity": 0.2
             }
            },
            "type": "bar"
           }
          ],
          "barpolar": [
           {
            "marker": {
             "line": {
              "color": "#E5ECF6",
              "width": 0.5
             },
             "pattern": {
              "fillmode": "overlay",
              "size": 10,
              "solidity": 0.2
             }
            },
            "type": "barpolar"
           }
          ],
          "carpet": [
           {
            "aaxis": {
             "endlinecolor": "#2a3f5f",
             "gridcolor": "white",
             "linecolor": "white",
             "minorgridcolor": "white",
             "startlinecolor": "#2a3f5f"
            },
            "baxis": {
             "endlinecolor": "#2a3f5f",
             "gridcolor": "white",
             "linecolor": "white",
             "minorgridcolor": "white",
             "startlinecolor": "#2a3f5f"
            },
            "type": "carpet"
           }
          ],
          "choropleth": [
           {
            "colorbar": {
             "outlinewidth": 0,
             "ticks": ""
            },
            "type": "choropleth"
           }
          ],
          "contour": [
           {
            "colorbar": {
             "outlinewidth": 0,
             "ticks": ""
            },
            "colorscale": [
             [
              0,
              "#0d0887"
             ],
             [
              0.1111111111111111,
              "#46039f"
             ],
             [
              0.2222222222222222,
              "#7201a8"
             ],
             [
              0.3333333333333333,
              "#9c179e"
             ],
             [
              0.4444444444444444,
              "#bd3786"
             ],
             [
              0.5555555555555556,
              "#d8576b"
             ],
             [
              0.6666666666666666,
              "#ed7953"
             ],
             [
              0.7777777777777778,
              "#fb9f3a"
             ],
             [
              0.8888888888888888,
              "#fdca26"
             ],
             [
              1,
              "#f0f921"
             ]
            ],
            "type": "contour"
           }
          ],
          "contourcarpet": [
           {
            "colorbar": {
             "outlinewidth": 0,
             "ticks": ""
            },
            "type": "contourcarpet"
           }
          ],
          "heatmap": [
           {
            "colorbar": {
             "outlinewidth": 0,
             "ticks": ""
            },
            "colorscale": [
             [
              0,
              "#0d0887"
             ],
             [
              0.1111111111111111,
              "#46039f"
             ],
             [
              0.2222222222222222,
              "#7201a8"
             ],
             [
              0.3333333333333333,
              "#9c179e"
             ],
             [
              0.4444444444444444,
              "#bd3786"
             ],
             [
              0.5555555555555556,
              "#d8576b"
             ],
             [
              0.6666666666666666,
              "#ed7953"
             ],
             [
              0.7777777777777778,
              "#fb9f3a"
             ],
             [
              0.8888888888888888,
              "#fdca26"
             ],
             [
              1,
              "#f0f921"
             ]
            ],
            "type": "heatmap"
           }
          ],
          "heatmapgl": [
           {
            "colorbar": {
             "outlinewidth": 0,
             "ticks": ""
            },
            "colorscale": [
             [
              0,
              "#0d0887"
             ],
             [
              0.1111111111111111,
              "#46039f"
             ],
             [
              0.2222222222222222,
              "#7201a8"
             ],
             [
              0.3333333333333333,
              "#9c179e"
             ],
             [
              0.4444444444444444,
              "#bd3786"
             ],
             [
              0.5555555555555556,
              "#d8576b"
             ],
             [
              0.6666666666666666,
              "#ed7953"
             ],
             [
              0.7777777777777778,
              "#fb9f3a"
             ],
             [
              0.8888888888888888,
              "#fdca26"
             ],
             [
              1,
              "#f0f921"
             ]
            ],
            "type": "heatmapgl"
           }
          ],
          "histogram": [
           {
            "marker": {
             "pattern": {
              "fillmode": "overlay",
              "size": 10,
              "solidity": 0.2
             }
            },
            "type": "histogram"
           }
          ],
          "histogram2d": [
           {
            "colorbar": {
             "outlinewidth": 0,
             "ticks": ""
            },
            "colorscale": [
             [
              0,
              "#0d0887"
             ],
             [
              0.1111111111111111,
              "#46039f"
             ],
             [
              0.2222222222222222,
              "#7201a8"
             ],
             [
              0.3333333333333333,
              "#9c179e"
             ],
             [
              0.4444444444444444,
              "#bd3786"
             ],
             [
              0.5555555555555556,
              "#d8576b"
             ],
             [
              0.6666666666666666,
              "#ed7953"
             ],
             [
              0.7777777777777778,
              "#fb9f3a"
             ],
             [
              0.8888888888888888,
              "#fdca26"
             ],
             [
              1,
              "#f0f921"
             ]
            ],
            "type": "histogram2d"
           }
          ],
          "histogram2dcontour": [
           {
            "colorbar": {
             "outlinewidth": 0,
             "ticks": ""
            },
            "colorscale": [
             [
              0,
              "#0d0887"
             ],
             [
              0.1111111111111111,
              "#46039f"
             ],
             [
              0.2222222222222222,
              "#7201a8"
             ],
             [
              0.3333333333333333,
              "#9c179e"
             ],
             [
              0.4444444444444444,
              "#bd3786"
             ],
             [
              0.5555555555555556,
              "#d8576b"
             ],
             [
              0.6666666666666666,
              "#ed7953"
             ],
             [
              0.7777777777777778,
              "#fb9f3a"
             ],
             [
              0.8888888888888888,
              "#fdca26"
             ],
             [
              1,
              "#f0f921"
             ]
            ],
            "type": "histogram2dcontour"
           }
          ],
          "mesh3d": [
           {
            "colorbar": {
             "outlinewidth": 0,
             "ticks": ""
            },
            "type": "mesh3d"
           }
          ],
          "parcoords": [
           {
            "line": {
             "colorbar": {
              "outlinewidth": 0,
              "ticks": ""
             }
            },
            "type": "parcoords"
           }
          ],
          "pie": [
           {
            "automargin": true,
            "type": "pie"
           }
          ],
          "scatter": [
           {
            "fillpattern": {
             "fillmode": "overlay",
             "size": 10,
             "solidity": 0.2
            },
            "type": "scatter"
           }
          ],
          "scatter3d": [
           {
            "line": {
             "colorbar": {
              "outlinewidth": 0,
              "ticks": ""
             }
            },
            "marker": {
             "colorbar": {
              "outlinewidth": 0,
              "ticks": ""
             }
            },
            "type": "scatter3d"
           }
          ],
          "scattercarpet": [
           {
            "marker": {
             "colorbar": {
              "outlinewidth": 0,
              "ticks": ""
             }
            },
            "type": "scattercarpet"
           }
          ],
          "scattergeo": [
           {
            "marker": {
             "colorbar": {
              "outlinewidth": 0,
              "ticks": ""
             }
            },
            "type": "scattergeo"
           }
          ],
          "scattergl": [
           {
            "marker": {
             "colorbar": {
              "outlinewidth": 0,
              "ticks": ""
             }
            },
            "type": "scattergl"
           }
          ],
          "scattermapbox": [
           {
            "marker": {
             "colorbar": {
              "outlinewidth": 0,
              "ticks": ""
             }
            },
            "type": "scattermapbox"
           }
          ],
          "scatterpolar": [
           {
            "marker": {
             "colorbar": {
              "outlinewidth": 0,
              "ticks": ""
             }
            },
            "type": "scatterpolar"
           }
          ],
          "scatterpolargl": [
           {
            "marker": {
             "colorbar": {
              "outlinewidth": 0,
              "ticks": ""
             }
            },
            "type": "scatterpolargl"
           }
          ],
          "scatterternary": [
           {
            "marker": {
             "colorbar": {
              "outlinewidth": 0,
              "ticks": ""
             }
            },
            "type": "scatterternary"
           }
          ],
          "surface": [
           {
            "colorbar": {
             "outlinewidth": 0,
             "ticks": ""
            },
            "colorscale": [
             [
              0,
              "#0d0887"
             ],
             [
              0.1111111111111111,
              "#46039f"
             ],
             [
              0.2222222222222222,
              "#7201a8"
             ],
             [
              0.3333333333333333,
              "#9c179e"
             ],
             [
              0.4444444444444444,
              "#bd3786"
             ],
             [
              0.5555555555555556,
              "#d8576b"
             ],
             [
              0.6666666666666666,
              "#ed7953"
             ],
             [
              0.7777777777777778,
              "#fb9f3a"
             ],
             [
              0.8888888888888888,
              "#fdca26"
             ],
             [
              1,
              "#f0f921"
             ]
            ],
            "type": "surface"
           }
          ],
          "table": [
           {
            "cells": {
             "fill": {
              "color": "#EBF0F8"
             },
             "line": {
              "color": "white"
             }
            },
            "header": {
             "fill": {
              "color": "#C8D4E3"
             },
             "line": {
              "color": "white"
             }
            },
            "type": "table"
           }
          ]
         },
         "layout": {
          "annotationdefaults": {
           "arrowcolor": "#2a3f5f",
           "arrowhead": 0,
           "arrowwidth": 1
          },
          "autotypenumbers": "strict",
          "coloraxis": {
           "colorbar": {
            "outlinewidth": 0,
            "ticks": ""
           }
          },
          "colorscale": {
           "diverging": [
            [
             0,
             "#8e0152"
            ],
            [
             0.1,
             "#c51b7d"
            ],
            [
             0.2,
             "#de77ae"
            ],
            [
             0.3,
             "#f1b6da"
            ],
            [
             0.4,
             "#fde0ef"
            ],
            [
             0.5,
             "#f7f7f7"
            ],
            [
             0.6,
             "#e6f5d0"
            ],
            [
             0.7,
             "#b8e186"
            ],
            [
             0.8,
             "#7fbc41"
            ],
            [
             0.9,
             "#4d9221"
            ],
            [
             1,
             "#276419"
            ]
           ],
           "sequential": [
            [
             0,
             "#0d0887"
            ],
            [
             0.1111111111111111,
             "#46039f"
            ],
            [
             0.2222222222222222,
             "#7201a8"
            ],
            [
             0.3333333333333333,
             "#9c179e"
            ],
            [
             0.4444444444444444,
             "#bd3786"
            ],
            [
             0.5555555555555556,
             "#d8576b"
            ],
            [
             0.6666666666666666,
             "#ed7953"
            ],
            [
             0.7777777777777778,
             "#fb9f3a"
            ],
            [
             0.8888888888888888,
             "#fdca26"
            ],
            [
             1,
             "#f0f921"
            ]
           ],
           "sequentialminus": [
            [
             0,
             "#0d0887"
            ],
            [
             0.1111111111111111,
             "#46039f"
            ],
            [
             0.2222222222222222,
             "#7201a8"
            ],
            [
             0.3333333333333333,
             "#9c179e"
            ],
            [
             0.4444444444444444,
             "#bd3786"
            ],
            [
             0.5555555555555556,
             "#d8576b"
            ],
            [
             0.6666666666666666,
             "#ed7953"
            ],
            [
             0.7777777777777778,
             "#fb9f3a"
            ],
            [
             0.8888888888888888,
             "#fdca26"
            ],
            [
             1,
             "#f0f921"
            ]
           ]
          },
          "colorway": [
           "#636efa",
           "#EF553B",
           "#00cc96",
           "#ab63fa",
           "#FFA15A",
           "#19d3f3",
           "#FF6692",
           "#B6E880",
           "#FF97FF",
           "#FECB52"
          ],
          "font": {
           "color": "#2a3f5f"
          },
          "geo": {
           "bgcolor": "white",
           "lakecolor": "white",
           "landcolor": "#E5ECF6",
           "showlakes": true,
           "showland": true,
           "subunitcolor": "white"
          },
          "hoverlabel": {
           "align": "left"
          },
          "hovermode": "closest",
          "mapbox": {
           "style": "light"
          },
          "paper_bgcolor": "white",
          "plot_bgcolor": "#E5ECF6",
          "polar": {
           "angularaxis": {
            "gridcolor": "white",
            "linecolor": "white",
            "ticks": ""
           },
           "bgcolor": "#E5ECF6",
           "radialaxis": {
            "gridcolor": "white",
            "linecolor": "white",
            "ticks": ""
           }
          },
          "scene": {
           "xaxis": {
            "backgroundcolor": "#E5ECF6",
            "gridcolor": "white",
            "gridwidth": 2,
            "linecolor": "white",
            "showbackground": true,
            "ticks": "",
            "zerolinecolor": "white"
           },
           "yaxis": {
            "backgroundcolor": "#E5ECF6",
            "gridcolor": "white",
            "gridwidth": 2,
            "linecolor": "white",
            "showbackground": true,
            "ticks": "",
            "zerolinecolor": "white"
           },
           "zaxis": {
            "backgroundcolor": "#E5ECF6",
            "gridcolor": "white",
            "gridwidth": 2,
            "linecolor": "white",
            "showbackground": true,
            "ticks": "",
            "zerolinecolor": "white"
           }
          },
          "shapedefaults": {
           "line": {
            "color": "#2a3f5f"
           }
          },
          "ternary": {
           "aaxis": {
            "gridcolor": "white",
            "linecolor": "white",
            "ticks": ""
           },
           "baxis": {
            "gridcolor": "white",
            "linecolor": "white",
            "ticks": ""
           },
           "bgcolor": "#E5ECF6",
           "caxis": {
            "gridcolor": "white",
            "linecolor": "white",
            "ticks": ""
           }
          },
          "title": {
           "x": 0.05
          },
          "xaxis": {
           "automargin": true,
           "gridcolor": "white",
           "linecolor": "white",
           "ticks": "",
           "title": {
            "standoff": 15
           },
           "zerolinecolor": "white",
           "zerolinewidth": 2
          },
          "yaxis": {
           "automargin": true,
           "gridcolor": "white",
           "linecolor": "white",
           "ticks": "",
           "title": {
            "standoff": 15
           },
           "zerolinecolor": "white",
           "zerolinewidth": 2
          }
         }
        },
        "title": {
         "text": "Mean Total Daily Fetch Time by Tool and Placement"
        },
        "xaxis": {
         "ticktext": [
          "Order Picker",
          "Pallet Jack",
          "Reach Fork"
         ],
         "tickvals": [
          "ORDER_PICKER",
          "PALLET_JACK",
          "REACH_FORK",
          "trolley"
         ],
         "title": {
          "text": "Tool"
         }
        },
        "yaxis": {
         "title": {
          "text": "Mean Fetch Time (m)"
         }
        }
       }
      }
     },
     "metadata": {},
     "output_type": "display_data"
    }
   ],
   "source": [
    "# create one bar plot, showing the mean task time by tool for each placements\n",
    "# give every placement a different color\n",
    "# add a title and legend, put the legend above the plot\n",
    "fig = go.Figure()\n",
    "for placement in mean_total_daily_fetch_time_by_tool['placement'].unique():\n",
    "    placement_df = mean_total_daily_fetch_time_by_tool[mean_total_daily_fetch_time_by_tool['placement'] == placement]\n",
    "    fig.add_trace(go.Bar(x=placement_df['fetch_tool'], y=placement_df['task_time'], name=placement))\n",
    "fig.update_layout(title='Mean Total Daily Fetch Time by Tool and Placement', xaxis_title='Tool', yaxis_title='Mean Fetch Time (m)', legend_title='Placement', legend=dict(orientation='h', yanchor='top', y=-0.2, xanchor='right', x=1), font=dict(size=14))\n",
    "# capitalize the column names \n",
    "fig.update_xaxes(ticktext=['Order Picker', 'Pallet Jack', 'Reach Fork'], tickvals=['ORDER_PICKER', 'PALLET_JACK', 'REACH_FORK', 'trolley'])\n",
    "fig.show()\n",
    "\n",
    "# export the fig to a png file under the ./graphs/ folder\n",
    "fig.write_image('./graphs/mean_total_daily_fetch_time_by_tool_and_placement.png', width=800, height=400)"
   ]
  },
  {
   "cell_type": "code",
   "execution_count": 557,
   "metadata": {},
   "outputs": [
    {
     "data": {
      "text/html": [
       "<div>\n",
       "<style scoped>\n",
       "    .dataframe tbody tr th:only-of-type {\n",
       "        vertical-align: middle;\n",
       "    }\n",
       "\n",
       "    .dataframe tbody tr th {\n",
       "        vertical-align: top;\n",
       "    }\n",
       "\n",
       "    .dataframe thead th {\n",
       "        text-align: right;\n",
       "    }\n",
       "</style>\n",
       "<table border=\"1\" class=\"dataframe\">\n",
       "  <thead>\n",
       "    <tr style=\"text-align: right;\">\n",
       "      <th>fetch_tool</th>\n",
       "      <th>ORDER_PICKER</th>\n",
       "      <th>PALLET_JACK</th>\n",
       "      <th>REACH_FORK</th>\n",
       "    </tr>\n",
       "    <tr>\n",
       "      <th>placement</th>\n",
       "      <th></th>\n",
       "      <th></th>\n",
       "      <th></th>\n",
       "    </tr>\n",
       "  </thead>\n",
       "  <tbody>\n",
       "    <tr>\n",
       "      <th>1</th>\n",
       "      <td>198.852778</td>\n",
       "      <td>266.248148</td>\n",
       "      <td>38.136111</td>\n",
       "    </tr>\n",
       "    <tr>\n",
       "      <th>2</th>\n",
       "      <td>220.748095</td>\n",
       "      <td>247.367619</td>\n",
       "      <td>36.915238</td>\n",
       "    </tr>\n",
       "    <tr>\n",
       "      <th>3</th>\n",
       "      <td>200.020952</td>\n",
       "      <td>265.089524</td>\n",
       "      <td>34.582857</td>\n",
       "    </tr>\n",
       "    <tr>\n",
       "      <th>4</th>\n",
       "      <td>224.517619</td>\n",
       "      <td>247.931429</td>\n",
       "      <td>35.584762</td>\n",
       "    </tr>\n",
       "    <tr>\n",
       "      <th>5</th>\n",
       "      <td>207.184127</td>\n",
       "      <td>293.272222</td>\n",
       "      <td>30.482540</td>\n",
       "    </tr>\n",
       "    <tr>\n",
       "      <th>6</th>\n",
       "      <td>206.181746</td>\n",
       "      <td>294.336508</td>\n",
       "      <td>29.002381</td>\n",
       "    </tr>\n",
       "    <tr>\n",
       "      <th>7</th>\n",
       "      <td>205.272222</td>\n",
       "      <td>295.376190</td>\n",
       "      <td>30.938889</td>\n",
       "    </tr>\n",
       "    <tr>\n",
       "      <th>Current</th>\n",
       "      <td>226.630556</td>\n",
       "      <td>240.553241</td>\n",
       "      <td>33.487963</td>\n",
       "    </tr>\n",
       "  </tbody>\n",
       "</table>\n",
       "</div>"
      ],
      "text/plain": [
       "fetch_tool  ORDER_PICKER  PALLET_JACK  REACH_FORK\n",
       "placement                                        \n",
       "1             198.852778   266.248148   38.136111\n",
       "2             220.748095   247.367619   36.915238\n",
       "3             200.020952   265.089524   34.582857\n",
       "4             224.517619   247.931429   35.584762\n",
       "5             207.184127   293.272222   30.482540\n",
       "6             206.181746   294.336508   29.002381\n",
       "7             205.272222   295.376190   30.938889\n",
       "Current       226.630556   240.553241   33.487963"
      ]
     },
     "execution_count": 557,
     "metadata": {},
     "output_type": "execute_result"
    }
   ],
   "source": [
    "# take the mean_total_daily_fetch_time_by_tool df and transform it so the placement is the index and the tools are the columns\n",
    "# this will allow us to create a heatmap\n",
    "mean_total_daily_fetch_time_by_tool_heatmap = mean_total_daily_fetch_time_by_tool.pivot(index='placement', columns='fetch_tool', values='task_time')\n",
    "mean_total_daily_fetch_time_by_tool_heatmap"
   ]
  },
  {
   "cell_type": "code",
   "execution_count": 558,
   "metadata": {},
   "outputs": [],
   "source": [
    "# export as a csv file under the current directory\n",
    "mean_total_daily_fetch_time_by_tool_heatmap.to_csv('./mean_total_daily_fetch_time_by_placement_and_tool.csv')"
   ]
  },
  {
   "cell_type": "code",
   "execution_count": 559,
   "metadata": {},
   "outputs": [
    {
     "data": {
      "text/html": [
       "<div>\n",
       "<style scoped>\n",
       "    .dataframe tbody tr th:only-of-type {\n",
       "        vertical-align: middle;\n",
       "    }\n",
       "\n",
       "    .dataframe tbody tr th {\n",
       "        vertical-align: top;\n",
       "    }\n",
       "\n",
       "    .dataframe thead th {\n",
       "        text-align: right;\n",
       "    }\n",
       "</style>\n",
       "<table border=\"1\" class=\"dataframe\">\n",
       "  <thead>\n",
       "    <tr style=\"text-align: right;\">\n",
       "      <th></th>\n",
       "      <th>placement</th>\n",
       "      <th>fetch_tool</th>\n",
       "      <th>mean_task_time</th>\n",
       "    </tr>\n",
       "  </thead>\n",
       "  <tbody>\n",
       "    <tr>\n",
       "      <th>0</th>\n",
       "      <td>1</td>\n",
       "      <td>ORDER_PICKER</td>\n",
       "      <td>2.345991</td>\n",
       "    </tr>\n",
       "    <tr>\n",
       "      <th>1</th>\n",
       "      <td>1</td>\n",
       "      <td>PALLET_JACK</td>\n",
       "      <td>1.300282</td>\n",
       "    </tr>\n",
       "    <tr>\n",
       "      <th>2</th>\n",
       "      <td>1</td>\n",
       "      <td>REACH_FORK</td>\n",
       "      <td>3.000920</td>\n",
       "    </tr>\n",
       "    <tr>\n",
       "      <th>3</th>\n",
       "      <td>2</td>\n",
       "      <td>ORDER_PICKER</td>\n",
       "      <td>2.362143</td>\n",
       "    </tr>\n",
       "    <tr>\n",
       "      <th>4</th>\n",
       "      <td>2</td>\n",
       "      <td>PALLET_JACK</td>\n",
       "      <td>1.303231</td>\n",
       "    </tr>\n",
       "    <tr>\n",
       "      <th>5</th>\n",
       "      <td>2</td>\n",
       "      <td>REACH_FORK</td>\n",
       "      <td>2.792838</td>\n",
       "    </tr>\n",
       "    <tr>\n",
       "      <th>6</th>\n",
       "      <td>3</td>\n",
       "      <td>ORDER_PICKER</td>\n",
       "      <td>2.330293</td>\n",
       "    </tr>\n",
       "    <tr>\n",
       "      <th>7</th>\n",
       "      <td>3</td>\n",
       "      <td>PALLET_JACK</td>\n",
       "      <td>1.303399</td>\n",
       "    </tr>\n",
       "    <tr>\n",
       "      <th>8</th>\n",
       "      <td>3</td>\n",
       "      <td>REACH_FORK</td>\n",
       "      <td>2.762251</td>\n",
       "    </tr>\n",
       "    <tr>\n",
       "      <th>9</th>\n",
       "      <td>4</td>\n",
       "      <td>ORDER_PICKER</td>\n",
       "      <td>2.330320</td>\n",
       "    </tr>\n",
       "    <tr>\n",
       "      <th>10</th>\n",
       "      <td>4</td>\n",
       "      <td>PALLET_JACK</td>\n",
       "      <td>1.315566</td>\n",
       "    </tr>\n",
       "    <tr>\n",
       "      <th>11</th>\n",
       "      <td>4</td>\n",
       "      <td>REACH_FORK</td>\n",
       "      <td>2.744295</td>\n",
       "    </tr>\n",
       "    <tr>\n",
       "      <th>12</th>\n",
       "      <td>5</td>\n",
       "      <td>ORDER_PICKER</td>\n",
       "      <td>2.329568</td>\n",
       "    </tr>\n",
       "    <tr>\n",
       "      <th>13</th>\n",
       "      <td>5</td>\n",
       "      <td>PALLET_JACK</td>\n",
       "      <td>1.290157</td>\n",
       "    </tr>\n",
       "    <tr>\n",
       "      <th>14</th>\n",
       "      <td>5</td>\n",
       "      <td>REACH_FORK</td>\n",
       "      <td>2.262595</td>\n",
       "    </tr>\n",
       "    <tr>\n",
       "      <th>15</th>\n",
       "      <td>6</td>\n",
       "      <td>ORDER_PICKER</td>\n",
       "      <td>2.333654</td>\n",
       "    </tr>\n",
       "    <tr>\n",
       "      <th>16</th>\n",
       "      <td>6</td>\n",
       "      <td>PALLET_JACK</td>\n",
       "      <td>1.295686</td>\n",
       "    </tr>\n",
       "    <tr>\n",
       "      <th>17</th>\n",
       "      <td>6</td>\n",
       "      <td>REACH_FORK</td>\n",
       "      <td>2.049948</td>\n",
       "    </tr>\n",
       "    <tr>\n",
       "      <th>18</th>\n",
       "      <td>7</td>\n",
       "      <td>ORDER_PICKER</td>\n",
       "      <td>2.335287</td>\n",
       "    </tr>\n",
       "    <tr>\n",
       "      <th>19</th>\n",
       "      <td>7</td>\n",
       "      <td>PALLET_JACK</td>\n",
       "      <td>1.294949</td>\n",
       "    </tr>\n",
       "    <tr>\n",
       "      <th>20</th>\n",
       "      <td>7</td>\n",
       "      <td>REACH_FORK</td>\n",
       "      <td>2.200469</td>\n",
       "    </tr>\n",
       "    <tr>\n",
       "      <th>21</th>\n",
       "      <td>Current</td>\n",
       "      <td>ORDER_PICKER</td>\n",
       "      <td>2.278540</td>\n",
       "    </tr>\n",
       "    <tr>\n",
       "      <th>22</th>\n",
       "      <td>Current</td>\n",
       "      <td>PALLET_JACK</td>\n",
       "      <td>1.316099</td>\n",
       "    </tr>\n",
       "    <tr>\n",
       "      <th>23</th>\n",
       "      <td>Current</td>\n",
       "      <td>REACH_FORK</td>\n",
       "      <td>2.540434</td>\n",
       "    </tr>\n",
       "  </tbody>\n",
       "</table>\n",
       "</div>"
      ],
      "text/plain": [
       "   placement    fetch_tool  mean_task_time\n",
       "0          1  ORDER_PICKER        2.345991\n",
       "1          1   PALLET_JACK        1.300282\n",
       "2          1    REACH_FORK        3.000920\n",
       "3          2  ORDER_PICKER        2.362143\n",
       "4          2   PALLET_JACK        1.303231\n",
       "5          2    REACH_FORK        2.792838\n",
       "6          3  ORDER_PICKER        2.330293\n",
       "7          3   PALLET_JACK        1.303399\n",
       "8          3    REACH_FORK        2.762251\n",
       "9          4  ORDER_PICKER        2.330320\n",
       "10         4   PALLET_JACK        1.315566\n",
       "11         4    REACH_FORK        2.744295\n",
       "12         5  ORDER_PICKER        2.329568\n",
       "13         5   PALLET_JACK        1.290157\n",
       "14         5    REACH_FORK        2.262595\n",
       "15         6  ORDER_PICKER        2.333654\n",
       "16         6   PALLET_JACK        1.295686\n",
       "17         6    REACH_FORK        2.049948\n",
       "18         7  ORDER_PICKER        2.335287\n",
       "19         7   PALLET_JACK        1.294949\n",
       "20         7    REACH_FORK        2.200469\n",
       "21   Current  ORDER_PICKER        2.278540\n",
       "22   Current   PALLET_JACK        1.316099\n",
       "23   Current    REACH_FORK        2.540434"
      ]
     },
     "execution_count": 559,
     "metadata": {},
     "output_type": "execute_result"
    }
   ],
   "source": [
    "mean_fetch_time_by_tool = fetch_task_results_df.copy()\n",
    "# drop the t_now, 'date', employee, type_tool, tool num_of_items, num_of_aisles, 'fetch_type', and positions columns:\n",
    "mean_fetch_time_by_tool = mean_fetch_time_by_tool.drop(columns=['t_now', 'date', 'employee', 'type_tool', 'tool', 'num_of_items', 'num_of_aisles', 'positions', 'fetch_type'])\n",
    "# filter out rows where fetch_tool == 'CROSS_DOCK'\n",
    "mean_fetch_time_by_tool = mean_fetch_time_by_tool[mean_fetch_time_by_tool['fetch_tool'] != 'CROSS_DOCK']\n",
    "# group by placement, fetch_tool and calculate the mean of task time\n",
    "mean_fetch_time_by_tool = mean_fetch_time_by_tool.groupby(['placement', 'fetch_tool']).mean().reset_index()\n",
    "# rename the task_time column to mean_task_time\n",
    "mean_fetch_time_by_tool = mean_fetch_time_by_tool.rename(columns={'task_time': 'mean_task_time'})\n",
    "# convert from seconds to minutes\n",
    "mean_fetch_time_by_tool['mean_task_time'] = mean_fetch_time_by_tool['mean_task_time'] / 60\n",
    "mean_fetch_time_by_tool"
   ]
  },
  {
   "cell_type": "code",
   "execution_count": 560,
   "metadata": {},
   "outputs": [
    {
     "data": {
      "application/vnd.plotly.v1+json": {
       "config": {
        "plotlyServerURL": "https://plot.ly"
       },
       "data": [
        {
         "name": "1",
         "type": "bar",
         "x": [
          "ORDER_PICKER",
          "PALLET_JACK",
          "REACH_FORK"
         ],
         "y": [
          2.3459912989434435,
          1.3002820904386188,
          3.000920245398773
         ]
        },
        {
         "name": "2",
         "type": "bar",
         "x": [
          "ORDER_PICKER",
          "PALLET_JACK",
          "REACH_FORK"
         ],
         "y": [
          2.362142515542802,
          1.3032306375695337,
          2.792837746096402
         ]
        },
        {
         "name": "3",
         "type": "bar",
         "x": [
          "ORDER_PICKER",
          "PALLET_JACK",
          "REACH_FORK"
         ],
         "y": [
          2.330293467970969,
          1.3033991518685397,
          2.762250712250712
         ]
        },
        {
         "name": "4",
         "type": "bar",
         "x": [
          "ORDER_PICKER",
          "PALLET_JACK",
          "REACH_FORK"
         ],
         "y": [
          2.330319992536617,
          1.3155659248624074,
          2.7442946058091287
         ]
        },
        {
         "name": "5",
         "type": "bar",
         "x": [
          "ORDER_PICKER",
          "PALLET_JACK",
          "REACH_FORK"
         ],
         "y": [
          2.3295682730923697,
          1.29015745459297,
          2.262595005428882
         ]
        },
        {
         "name": "6",
         "type": "bar",
         "x": [
          "ORDER_PICKER",
          "PALLET_JACK",
          "REACH_FORK"
         ],
         "y": [
          2.3336540084388187,
          1.295686274509804,
          2.0499482401656315
         ]
        },
        {
         "name": "7",
         "type": "bar",
         "x": [
          "ORDER_PICKER",
          "PALLET_JACK",
          "REACH_FORK"
         ],
         "y": [
          2.3352871820784906,
          1.294949494949495,
          2.2004687499999998
         ]
        },
        {
         "name": "Current",
         "type": "bar",
         "x": [
          "ORDER_PICKER",
          "PALLET_JACK",
          "REACH_FORK"
         ],
         "y": [
          2.278540305010893,
          1.3160993516399695,
          2.5404339250493093
         ]
        }
       ],
       "layout": {
        "font": {
         "size": 14
        },
        "legend": {
         "orientation": "h",
         "title": {
          "text": "Placement"
         },
         "x": 1,
         "xanchor": "right",
         "y": -0.2,
         "yanchor": "top"
        },
        "template": {
         "data": {
          "bar": [
           {
            "error_x": {
             "color": "#2a3f5f"
            },
            "error_y": {
             "color": "#2a3f5f"
            },
            "marker": {
             "line": {
              "color": "#E5ECF6",
              "width": 0.5
             },
             "pattern": {
              "fillmode": "overlay",
              "size": 10,
              "solidity": 0.2
             }
            },
            "type": "bar"
           }
          ],
          "barpolar": [
           {
            "marker": {
             "line": {
              "color": "#E5ECF6",
              "width": 0.5
             },
             "pattern": {
              "fillmode": "overlay",
              "size": 10,
              "solidity": 0.2
             }
            },
            "type": "barpolar"
           }
          ],
          "carpet": [
           {
            "aaxis": {
             "endlinecolor": "#2a3f5f",
             "gridcolor": "white",
             "linecolor": "white",
             "minorgridcolor": "white",
             "startlinecolor": "#2a3f5f"
            },
            "baxis": {
             "endlinecolor": "#2a3f5f",
             "gridcolor": "white",
             "linecolor": "white",
             "minorgridcolor": "white",
             "startlinecolor": "#2a3f5f"
            },
            "type": "carpet"
           }
          ],
          "choropleth": [
           {
            "colorbar": {
             "outlinewidth": 0,
             "ticks": ""
            },
            "type": "choropleth"
           }
          ],
          "contour": [
           {
            "colorbar": {
             "outlinewidth": 0,
             "ticks": ""
            },
            "colorscale": [
             [
              0,
              "#0d0887"
             ],
             [
              0.1111111111111111,
              "#46039f"
             ],
             [
              0.2222222222222222,
              "#7201a8"
             ],
             [
              0.3333333333333333,
              "#9c179e"
             ],
             [
              0.4444444444444444,
              "#bd3786"
             ],
             [
              0.5555555555555556,
              "#d8576b"
             ],
             [
              0.6666666666666666,
              "#ed7953"
             ],
             [
              0.7777777777777778,
              "#fb9f3a"
             ],
             [
              0.8888888888888888,
              "#fdca26"
             ],
             [
              1,
              "#f0f921"
             ]
            ],
            "type": "contour"
           }
          ],
          "contourcarpet": [
           {
            "colorbar": {
             "outlinewidth": 0,
             "ticks": ""
            },
            "type": "contourcarpet"
           }
          ],
          "heatmap": [
           {
            "colorbar": {
             "outlinewidth": 0,
             "ticks": ""
            },
            "colorscale": [
             [
              0,
              "#0d0887"
             ],
             [
              0.1111111111111111,
              "#46039f"
             ],
             [
              0.2222222222222222,
              "#7201a8"
             ],
             [
              0.3333333333333333,
              "#9c179e"
             ],
             [
              0.4444444444444444,
              "#bd3786"
             ],
             [
              0.5555555555555556,
              "#d8576b"
             ],
             [
              0.6666666666666666,
              "#ed7953"
             ],
             [
              0.7777777777777778,
              "#fb9f3a"
             ],
             [
              0.8888888888888888,
              "#fdca26"
             ],
             [
              1,
              "#f0f921"
             ]
            ],
            "type": "heatmap"
           }
          ],
          "heatmapgl": [
           {
            "colorbar": {
             "outlinewidth": 0,
             "ticks": ""
            },
            "colorscale": [
             [
              0,
              "#0d0887"
             ],
             [
              0.1111111111111111,
              "#46039f"
             ],
             [
              0.2222222222222222,
              "#7201a8"
             ],
             [
              0.3333333333333333,
              "#9c179e"
             ],
             [
              0.4444444444444444,
              "#bd3786"
             ],
             [
              0.5555555555555556,
              "#d8576b"
             ],
             [
              0.6666666666666666,
              "#ed7953"
             ],
             [
              0.7777777777777778,
              "#fb9f3a"
             ],
             [
              0.8888888888888888,
              "#fdca26"
             ],
             [
              1,
              "#f0f921"
             ]
            ],
            "type": "heatmapgl"
           }
          ],
          "histogram": [
           {
            "marker": {
             "pattern": {
              "fillmode": "overlay",
              "size": 10,
              "solidity": 0.2
             }
            },
            "type": "histogram"
           }
          ],
          "histogram2d": [
           {
            "colorbar": {
             "outlinewidth": 0,
             "ticks": ""
            },
            "colorscale": [
             [
              0,
              "#0d0887"
             ],
             [
              0.1111111111111111,
              "#46039f"
             ],
             [
              0.2222222222222222,
              "#7201a8"
             ],
             [
              0.3333333333333333,
              "#9c179e"
             ],
             [
              0.4444444444444444,
              "#bd3786"
             ],
             [
              0.5555555555555556,
              "#d8576b"
             ],
             [
              0.6666666666666666,
              "#ed7953"
             ],
             [
              0.7777777777777778,
              "#fb9f3a"
             ],
             [
              0.8888888888888888,
              "#fdca26"
             ],
             [
              1,
              "#f0f921"
             ]
            ],
            "type": "histogram2d"
           }
          ],
          "histogram2dcontour": [
           {
            "colorbar": {
             "outlinewidth": 0,
             "ticks": ""
            },
            "colorscale": [
             [
              0,
              "#0d0887"
             ],
             [
              0.1111111111111111,
              "#46039f"
             ],
             [
              0.2222222222222222,
              "#7201a8"
             ],
             [
              0.3333333333333333,
              "#9c179e"
             ],
             [
              0.4444444444444444,
              "#bd3786"
             ],
             [
              0.5555555555555556,
              "#d8576b"
             ],
             [
              0.6666666666666666,
              "#ed7953"
             ],
             [
              0.7777777777777778,
              "#fb9f3a"
             ],
             [
              0.8888888888888888,
              "#fdca26"
             ],
             [
              1,
              "#f0f921"
             ]
            ],
            "type": "histogram2dcontour"
           }
          ],
          "mesh3d": [
           {
            "colorbar": {
             "outlinewidth": 0,
             "ticks": ""
            },
            "type": "mesh3d"
           }
          ],
          "parcoords": [
           {
            "line": {
             "colorbar": {
              "outlinewidth": 0,
              "ticks": ""
             }
            },
            "type": "parcoords"
           }
          ],
          "pie": [
           {
            "automargin": true,
            "type": "pie"
           }
          ],
          "scatter": [
           {
            "fillpattern": {
             "fillmode": "overlay",
             "size": 10,
             "solidity": 0.2
            },
            "type": "scatter"
           }
          ],
          "scatter3d": [
           {
            "line": {
             "colorbar": {
              "outlinewidth": 0,
              "ticks": ""
             }
            },
            "marker": {
             "colorbar": {
              "outlinewidth": 0,
              "ticks": ""
             }
            },
            "type": "scatter3d"
           }
          ],
          "scattercarpet": [
           {
            "marker": {
             "colorbar": {
              "outlinewidth": 0,
              "ticks": ""
             }
            },
            "type": "scattercarpet"
           }
          ],
          "scattergeo": [
           {
            "marker": {
             "colorbar": {
              "outlinewidth": 0,
              "ticks": ""
             }
            },
            "type": "scattergeo"
           }
          ],
          "scattergl": [
           {
            "marker": {
             "colorbar": {
              "outlinewidth": 0,
              "ticks": ""
             }
            },
            "type": "scattergl"
           }
          ],
          "scattermapbox": [
           {
            "marker": {
             "colorbar": {
              "outlinewidth": 0,
              "ticks": ""
             }
            },
            "type": "scattermapbox"
           }
          ],
          "scatterpolar": [
           {
            "marker": {
             "colorbar": {
              "outlinewidth": 0,
              "ticks": ""
             }
            },
            "type": "scatterpolar"
           }
          ],
          "scatterpolargl": [
           {
            "marker": {
             "colorbar": {
              "outlinewidth": 0,
              "ticks": ""
             }
            },
            "type": "scatterpolargl"
           }
          ],
          "scatterternary": [
           {
            "marker": {
             "colorbar": {
              "outlinewidth": 0,
              "ticks": ""
             }
            },
            "type": "scatterternary"
           }
          ],
          "surface": [
           {
            "colorbar": {
             "outlinewidth": 0,
             "ticks": ""
            },
            "colorscale": [
             [
              0,
              "#0d0887"
             ],
             [
              0.1111111111111111,
              "#46039f"
             ],
             [
              0.2222222222222222,
              "#7201a8"
             ],
             [
              0.3333333333333333,
              "#9c179e"
             ],
             [
              0.4444444444444444,
              "#bd3786"
             ],
             [
              0.5555555555555556,
              "#d8576b"
             ],
             [
              0.6666666666666666,
              "#ed7953"
             ],
             [
              0.7777777777777778,
              "#fb9f3a"
             ],
             [
              0.8888888888888888,
              "#fdca26"
             ],
             [
              1,
              "#f0f921"
             ]
            ],
            "type": "surface"
           }
          ],
          "table": [
           {
            "cells": {
             "fill": {
              "color": "#EBF0F8"
             },
             "line": {
              "color": "white"
             }
            },
            "header": {
             "fill": {
              "color": "#C8D4E3"
             },
             "line": {
              "color": "white"
             }
            },
            "type": "table"
           }
          ]
         },
         "layout": {
          "annotationdefaults": {
           "arrowcolor": "#2a3f5f",
           "arrowhead": 0,
           "arrowwidth": 1
          },
          "autotypenumbers": "strict",
          "coloraxis": {
           "colorbar": {
            "outlinewidth": 0,
            "ticks": ""
           }
          },
          "colorscale": {
           "diverging": [
            [
             0,
             "#8e0152"
            ],
            [
             0.1,
             "#c51b7d"
            ],
            [
             0.2,
             "#de77ae"
            ],
            [
             0.3,
             "#f1b6da"
            ],
            [
             0.4,
             "#fde0ef"
            ],
            [
             0.5,
             "#f7f7f7"
            ],
            [
             0.6,
             "#e6f5d0"
            ],
            [
             0.7,
             "#b8e186"
            ],
            [
             0.8,
             "#7fbc41"
            ],
            [
             0.9,
             "#4d9221"
            ],
            [
             1,
             "#276419"
            ]
           ],
           "sequential": [
            [
             0,
             "#0d0887"
            ],
            [
             0.1111111111111111,
             "#46039f"
            ],
            [
             0.2222222222222222,
             "#7201a8"
            ],
            [
             0.3333333333333333,
             "#9c179e"
            ],
            [
             0.4444444444444444,
             "#bd3786"
            ],
            [
             0.5555555555555556,
             "#d8576b"
            ],
            [
             0.6666666666666666,
             "#ed7953"
            ],
            [
             0.7777777777777778,
             "#fb9f3a"
            ],
            [
             0.8888888888888888,
             "#fdca26"
            ],
            [
             1,
             "#f0f921"
            ]
           ],
           "sequentialminus": [
            [
             0,
             "#0d0887"
            ],
            [
             0.1111111111111111,
             "#46039f"
            ],
            [
             0.2222222222222222,
             "#7201a8"
            ],
            [
             0.3333333333333333,
             "#9c179e"
            ],
            [
             0.4444444444444444,
             "#bd3786"
            ],
            [
             0.5555555555555556,
             "#d8576b"
            ],
            [
             0.6666666666666666,
             "#ed7953"
            ],
            [
             0.7777777777777778,
             "#fb9f3a"
            ],
            [
             0.8888888888888888,
             "#fdca26"
            ],
            [
             1,
             "#f0f921"
            ]
           ]
          },
          "colorway": [
           "#636efa",
           "#EF553B",
           "#00cc96",
           "#ab63fa",
           "#FFA15A",
           "#19d3f3",
           "#FF6692",
           "#B6E880",
           "#FF97FF",
           "#FECB52"
          ],
          "font": {
           "color": "#2a3f5f"
          },
          "geo": {
           "bgcolor": "white",
           "lakecolor": "white",
           "landcolor": "#E5ECF6",
           "showlakes": true,
           "showland": true,
           "subunitcolor": "white"
          },
          "hoverlabel": {
           "align": "left"
          },
          "hovermode": "closest",
          "mapbox": {
           "style": "light"
          },
          "paper_bgcolor": "white",
          "plot_bgcolor": "#E5ECF6",
          "polar": {
           "angularaxis": {
            "gridcolor": "white",
            "linecolor": "white",
            "ticks": ""
           },
           "bgcolor": "#E5ECF6",
           "radialaxis": {
            "gridcolor": "white",
            "linecolor": "white",
            "ticks": ""
           }
          },
          "scene": {
           "xaxis": {
            "backgroundcolor": "#E5ECF6",
            "gridcolor": "white",
            "gridwidth": 2,
            "linecolor": "white",
            "showbackground": true,
            "ticks": "",
            "zerolinecolor": "white"
           },
           "yaxis": {
            "backgroundcolor": "#E5ECF6",
            "gridcolor": "white",
            "gridwidth": 2,
            "linecolor": "white",
            "showbackground": true,
            "ticks": "",
            "zerolinecolor": "white"
           },
           "zaxis": {
            "backgroundcolor": "#E5ECF6",
            "gridcolor": "white",
            "gridwidth": 2,
            "linecolor": "white",
            "showbackground": true,
            "ticks": "",
            "zerolinecolor": "white"
           }
          },
          "shapedefaults": {
           "line": {
            "color": "#2a3f5f"
           }
          },
          "ternary": {
           "aaxis": {
            "gridcolor": "white",
            "linecolor": "white",
            "ticks": ""
           },
           "baxis": {
            "gridcolor": "white",
            "linecolor": "white",
            "ticks": ""
           },
           "bgcolor": "#E5ECF6",
           "caxis": {
            "gridcolor": "white",
            "linecolor": "white",
            "ticks": ""
           }
          },
          "title": {
           "x": 0.05
          },
          "xaxis": {
           "automargin": true,
           "gridcolor": "white",
           "linecolor": "white",
           "ticks": "",
           "title": {
            "standoff": 15
           },
           "zerolinecolor": "white",
           "zerolinewidth": 2
          },
          "yaxis": {
           "automargin": true,
           "gridcolor": "white",
           "linecolor": "white",
           "ticks": "",
           "title": {
            "standoff": 15
           },
           "zerolinecolor": "white",
           "zerolinewidth": 2
          }
         }
        },
        "title": {
         "text": "Mean Daily Fetch Time by Tool and Placement"
        },
        "xaxis": {
         "ticktext": [
          "Order Picker",
          "Pallet Jack",
          "Reach Fork"
         ],
         "tickvals": [
          "ORDER_PICKER",
          "PALLET_JACK",
          "REACH_FORK",
          "trolley"
         ],
         "title": {
          "text": "Tool"
         }
        },
        "yaxis": {
         "title": {
          "text": "Mean Daily Fetch Time (m)"
         }
        }
       }
      }
     },
     "metadata": {},
     "output_type": "display_data"
    }
   ],
   "source": [
    "# create one bar plot, showing the mean task time by tool for each placements\n",
    "# give every placement a different color\n",
    "# add a title and legend, put the legend above the plot\n",
    "fig = go.Figure()\n",
    "for placement in mean_fetch_time_by_tool['placement'].unique():\n",
    "    placement_df = mean_fetch_time_by_tool[mean_fetch_time_by_tool['placement'] == placement]\n",
    "    fig.add_trace(go.Bar(x=placement_df['fetch_tool'], y=placement_df['mean_task_time'], name=placement))\n",
    "fig.update_layout(title='Mean Daily Fetch Time by Tool and Placement', xaxis_title='Tool', yaxis_title='Mean Daily Fetch Time (m)', legend_title='Placement', legend=dict(orientation='h', yanchor='top', y=-0.2, xanchor='right', x=1), font=dict(size=14))\n",
    "# capitalize the column names \n",
    "fig.update_xaxes(ticktext=['Order Picker', 'Pallet Jack', 'Reach Fork'], tickvals=['ORDER_PICKER', 'PALLET_JACK', 'REACH_FORK', 'trolley'])\n",
    "fig.show()\n",
    "\n",
    "# export the fig to a png file under the ./graphs/ folder\n",
    "fig.write_image('./graphs/mean_daily_fetch_time_by_tool_and_placement.png', width=800, height=400)"
   ]
  },
  {
   "cell_type": "code",
   "execution_count": 561,
   "metadata": {},
   "outputs": [
    {
     "data": {
      "text/html": [
       "<div>\n",
       "<style scoped>\n",
       "    .dataframe tbody tr th:only-of-type {\n",
       "        vertical-align: middle;\n",
       "    }\n",
       "\n",
       "    .dataframe tbody tr th {\n",
       "        vertical-align: top;\n",
       "    }\n",
       "\n",
       "    .dataframe thead th {\n",
       "        text-align: right;\n",
       "    }\n",
       "</style>\n",
       "<table border=\"1\" class=\"dataframe\">\n",
       "  <thead>\n",
       "    <tr style=\"text-align: right;\">\n",
       "      <th>fetch_tool</th>\n",
       "      <th>ORDER_PICKER</th>\n",
       "      <th>PALLET_JACK</th>\n",
       "      <th>REACH_FORK</th>\n",
       "    </tr>\n",
       "    <tr>\n",
       "      <th>placement</th>\n",
       "      <th></th>\n",
       "      <th></th>\n",
       "      <th></th>\n",
       "    </tr>\n",
       "  </thead>\n",
       "  <tbody>\n",
       "    <tr>\n",
       "      <th>1</th>\n",
       "      <td>2.345991</td>\n",
       "      <td>1.300282</td>\n",
       "      <td>3.000920</td>\n",
       "    </tr>\n",
       "    <tr>\n",
       "      <th>2</th>\n",
       "      <td>2.362143</td>\n",
       "      <td>1.303231</td>\n",
       "      <td>2.792838</td>\n",
       "    </tr>\n",
       "    <tr>\n",
       "      <th>3</th>\n",
       "      <td>2.330293</td>\n",
       "      <td>1.303399</td>\n",
       "      <td>2.762251</td>\n",
       "    </tr>\n",
       "    <tr>\n",
       "      <th>4</th>\n",
       "      <td>2.330320</td>\n",
       "      <td>1.315566</td>\n",
       "      <td>2.744295</td>\n",
       "    </tr>\n",
       "    <tr>\n",
       "      <th>5</th>\n",
       "      <td>2.329568</td>\n",
       "      <td>1.290157</td>\n",
       "      <td>2.262595</td>\n",
       "    </tr>\n",
       "    <tr>\n",
       "      <th>6</th>\n",
       "      <td>2.333654</td>\n",
       "      <td>1.295686</td>\n",
       "      <td>2.049948</td>\n",
       "    </tr>\n",
       "    <tr>\n",
       "      <th>7</th>\n",
       "      <td>2.335287</td>\n",
       "      <td>1.294949</td>\n",
       "      <td>2.200469</td>\n",
       "    </tr>\n",
       "    <tr>\n",
       "      <th>Current</th>\n",
       "      <td>2.278540</td>\n",
       "      <td>1.316099</td>\n",
       "      <td>2.540434</td>\n",
       "    </tr>\n",
       "  </tbody>\n",
       "</table>\n",
       "</div>"
      ],
      "text/plain": [
       "fetch_tool  ORDER_PICKER  PALLET_JACK  REACH_FORK\n",
       "placement                                        \n",
       "1               2.345991     1.300282    3.000920\n",
       "2               2.362143     1.303231    2.792838\n",
       "3               2.330293     1.303399    2.762251\n",
       "4               2.330320     1.315566    2.744295\n",
       "5               2.329568     1.290157    2.262595\n",
       "6               2.333654     1.295686    2.049948\n",
       "7               2.335287     1.294949    2.200469\n",
       "Current         2.278540     1.316099    2.540434"
      ]
     },
     "execution_count": 561,
     "metadata": {},
     "output_type": "execute_result"
    }
   ],
   "source": [
    "# take the mean_fetch_time_by_tool df and transform it so the placement is the index and the tools are the columns\n",
    "mean_fetch_time_by_tool_heatmap = mean_fetch_time_by_tool.pivot(index='placement', columns='fetch_tool', values='mean_task_time')\n",
    "mean_fetch_time_by_tool_heatmap"
   ]
  },
  {
   "cell_type": "code",
   "execution_count": 562,
   "metadata": {},
   "outputs": [],
   "source": [
    "# export as a csv file under the current directory\n",
    "mean_fetch_time_by_tool_heatmap.to_csv('./mean_fetch_time_by_placement_and_tool.csv')"
   ]
  },
  {
   "cell_type": "code",
   "execution_count": 563,
   "metadata": {},
   "outputs": [
    {
     "data": {
      "text/html": [
       "<div>\n",
       "<style scoped>\n",
       "    .dataframe tbody tr th:only-of-type {\n",
       "        vertical-align: middle;\n",
       "    }\n",
       "\n",
       "    .dataframe tbody tr th {\n",
       "        vertical-align: top;\n",
       "    }\n",
       "\n",
       "    .dataframe thead th {\n",
       "        text-align: right;\n",
       "    }\n",
       "</style>\n",
       "<table border=\"1\" class=\"dataframe\">\n",
       "  <thead>\n",
       "    <tr style=\"text-align: right;\">\n",
       "      <th>fetch_type</th>\n",
       "      <th>floor_percentage</th>\n",
       "      <th>high_percentage</th>\n",
       "    </tr>\n",
       "    <tr>\n",
       "      <th>placement</th>\n",
       "      <th></th>\n",
       "      <th></th>\n",
       "    </tr>\n",
       "  </thead>\n",
       "  <tbody>\n",
       "    <tr>\n",
       "      <th>1</th>\n",
       "      <td>0.807628</td>\n",
       "      <td>0.192372</td>\n",
       "    </tr>\n",
       "    <tr>\n",
       "      <th>2</th>\n",
       "      <td>0.781790</td>\n",
       "      <td>0.218210</td>\n",
       "    </tr>\n",
       "    <tr>\n",
       "      <th>3</th>\n",
       "      <td>0.802519</td>\n",
       "      <td>0.197481</td>\n",
       "    </tr>\n",
       "    <tr>\n",
       "      <th>4</th>\n",
       "      <td>0.777857</td>\n",
       "      <td>0.222143</td>\n",
       "    </tr>\n",
       "    <tr>\n",
       "      <th>5</th>\n",
       "      <td>0.775357</td>\n",
       "      <td>0.224643</td>\n",
       "    </tr>\n",
       "    <tr>\n",
       "      <th>6</th>\n",
       "      <td>0.775464</td>\n",
       "      <td>0.224536</td>\n",
       "    </tr>\n",
       "    <tr>\n",
       "      <th>7</th>\n",
       "      <td>0.775642</td>\n",
       "      <td>0.224358</td>\n",
       "    </tr>\n",
       "    <tr>\n",
       "      <th>Current</th>\n",
       "      <td>0.772347</td>\n",
       "      <td>0.227653</td>\n",
       "    </tr>\n",
       "  </tbody>\n",
       "</table>\n",
       "</div>"
      ],
      "text/plain": [
       "fetch_type  floor_percentage  high_percentage\n",
       "placement                                    \n",
       "1                   0.807628         0.192372\n",
       "2                   0.781790         0.218210\n",
       "3                   0.802519         0.197481\n",
       "4                   0.777857         0.222143\n",
       "5                   0.775357         0.224643\n",
       "6                   0.775464         0.224536\n",
       "7                   0.775642         0.224358\n",
       "Current             0.772347         0.227653"
      ]
     },
     "execution_count": 563,
     "metadata": {},
     "output_type": "execute_result"
    }
   ],
   "source": [
    "floor_vs_high_df = fetch_task_results_df.copy()\n",
    "# keep only the placement and fetch_type columns\n",
    "floor_vs_high_df = floor_vs_high_df[['placement', 'fetch_type']]\n",
    "# for each placement, calculate the percentage of fetches that are floor vs high\n",
    "floor_vs_high_df = floor_vs_high_df.groupby('placement').apply(lambda x: x['fetch_type'].value_counts(normalize=True))\n",
    "# add '_percentage' to the column names\n",
    "floor_vs_high_df = floor_vs_high_df.rename(columns={'floor': 'floor_percentage', 'high': 'high_percentage'})\n",
    "# change the values to percentages\n",
    "floor_vs_high_df"
   ]
  },
  {
   "cell_type": "code",
   "execution_count": 564,
   "metadata": {},
   "outputs": [],
   "source": [
    "# export to csv\n",
    "floor_vs_high_df.to_csv('./floor_vs_high_percentages_by_placement.csv')"
   ]
  },
  {
   "cell_type": "code",
   "execution_count": 565,
   "metadata": {},
   "outputs": [
    {
     "data": {
      "application/vnd.plotly.v1+json": {
       "config": {
        "plotlyServerURL": "https://plot.ly"
       },
       "data": [
        {
         "name": "1",
         "type": "bar",
         "x": [
          "floor_percentage",
          "high_percentage"
         ],
         "y": [
          0.8076284379865075,
          0.19237156201349248
         ]
        },
        {
         "name": "2",
         "type": "bar",
         "x": [
          "floor_percentage",
          "high_percentage"
         ],
         "y": [
          0.7817902420284287,
          0.21820975797157127
         ]
        },
        {
         "name": "3",
         "type": "bar",
         "x": [
          "floor_percentage",
          "high_percentage"
         ],
         "y": [
          0.8025194114133681,
          0.19748058858663192
         ]
        },
        {
         "name": "4",
         "type": "bar",
         "x": [
          "floor_percentage",
          "high_percentage"
         ],
         "y": [
          0.7778569080749425,
          0.22214309192505752
         ]
        },
        {
         "name": "5",
         "type": "bar",
         "x": [
          "floor_percentage",
          "high_percentage"
         ],
         "y": [
          0.7753566542896229,
          0.22464334571037717
         ]
        },
        {
         "name": "6",
         "type": "bar",
         "x": [
          "floor_percentage",
          "high_percentage"
         ],
         "y": [
          0.775464320625611,
          0.22453567937438906
         ]
        },
        {
         "name": "7",
         "type": "bar",
         "x": [
          "floor_percentage",
          "high_percentage"
         ],
         "y": [
          0.7756416512149897,
          0.22435834878501024
         ]
        },
        {
         "name": "Current",
         "type": "bar",
         "x": [
          "floor_percentage",
          "high_percentage"
         ],
         "y": [
          0.7723474696515844,
          0.22765253034841557
         ]
        }
       ],
       "layout": {
        "font": {
         "size": 14
        },
        "legend": {
         "orientation": "h",
         "title": {
          "text": "Placement"
         },
         "x": 1,
         "xanchor": "right",
         "y": -0.2,
         "yanchor": "top"
        },
        "template": {
         "data": {
          "bar": [
           {
            "error_x": {
             "color": "#2a3f5f"
            },
            "error_y": {
             "color": "#2a3f5f"
            },
            "marker": {
             "line": {
              "color": "#E5ECF6",
              "width": 0.5
             },
             "pattern": {
              "fillmode": "overlay",
              "size": 10,
              "solidity": 0.2
             }
            },
            "type": "bar"
           }
          ],
          "barpolar": [
           {
            "marker": {
             "line": {
              "color": "#E5ECF6",
              "width": 0.5
             },
             "pattern": {
              "fillmode": "overlay",
              "size": 10,
              "solidity": 0.2
             }
            },
            "type": "barpolar"
           }
          ],
          "carpet": [
           {
            "aaxis": {
             "endlinecolor": "#2a3f5f",
             "gridcolor": "white",
             "linecolor": "white",
             "minorgridcolor": "white",
             "startlinecolor": "#2a3f5f"
            },
            "baxis": {
             "endlinecolor": "#2a3f5f",
             "gridcolor": "white",
             "linecolor": "white",
             "minorgridcolor": "white",
             "startlinecolor": "#2a3f5f"
            },
            "type": "carpet"
           }
          ],
          "choropleth": [
           {
            "colorbar": {
             "outlinewidth": 0,
             "ticks": ""
            },
            "type": "choropleth"
           }
          ],
          "contour": [
           {
            "colorbar": {
             "outlinewidth": 0,
             "ticks": ""
            },
            "colorscale": [
             [
              0,
              "#0d0887"
             ],
             [
              0.1111111111111111,
              "#46039f"
             ],
             [
              0.2222222222222222,
              "#7201a8"
             ],
             [
              0.3333333333333333,
              "#9c179e"
             ],
             [
              0.4444444444444444,
              "#bd3786"
             ],
             [
              0.5555555555555556,
              "#d8576b"
             ],
             [
              0.6666666666666666,
              "#ed7953"
             ],
             [
              0.7777777777777778,
              "#fb9f3a"
             ],
             [
              0.8888888888888888,
              "#fdca26"
             ],
             [
              1,
              "#f0f921"
             ]
            ],
            "type": "contour"
           }
          ],
          "contourcarpet": [
           {
            "colorbar": {
             "outlinewidth": 0,
             "ticks": ""
            },
            "type": "contourcarpet"
           }
          ],
          "heatmap": [
           {
            "colorbar": {
             "outlinewidth": 0,
             "ticks": ""
            },
            "colorscale": [
             [
              0,
              "#0d0887"
             ],
             [
              0.1111111111111111,
              "#46039f"
             ],
             [
              0.2222222222222222,
              "#7201a8"
             ],
             [
              0.3333333333333333,
              "#9c179e"
             ],
             [
              0.4444444444444444,
              "#bd3786"
             ],
             [
              0.5555555555555556,
              "#d8576b"
             ],
             [
              0.6666666666666666,
              "#ed7953"
             ],
             [
              0.7777777777777778,
              "#fb9f3a"
             ],
             [
              0.8888888888888888,
              "#fdca26"
             ],
             [
              1,
              "#f0f921"
             ]
            ],
            "type": "heatmap"
           }
          ],
          "heatmapgl": [
           {
            "colorbar": {
             "outlinewidth": 0,
             "ticks": ""
            },
            "colorscale": [
             [
              0,
              "#0d0887"
             ],
             [
              0.1111111111111111,
              "#46039f"
             ],
             [
              0.2222222222222222,
              "#7201a8"
             ],
             [
              0.3333333333333333,
              "#9c179e"
             ],
             [
              0.4444444444444444,
              "#bd3786"
             ],
             [
              0.5555555555555556,
              "#d8576b"
             ],
             [
              0.6666666666666666,
              "#ed7953"
             ],
             [
              0.7777777777777778,
              "#fb9f3a"
             ],
             [
              0.8888888888888888,
              "#fdca26"
             ],
             [
              1,
              "#f0f921"
             ]
            ],
            "type": "heatmapgl"
           }
          ],
          "histogram": [
           {
            "marker": {
             "pattern": {
              "fillmode": "overlay",
              "size": 10,
              "solidity": 0.2
             }
            },
            "type": "histogram"
           }
          ],
          "histogram2d": [
           {
            "colorbar": {
             "outlinewidth": 0,
             "ticks": ""
            },
            "colorscale": [
             [
              0,
              "#0d0887"
             ],
             [
              0.1111111111111111,
              "#46039f"
             ],
             [
              0.2222222222222222,
              "#7201a8"
             ],
             [
              0.3333333333333333,
              "#9c179e"
             ],
             [
              0.4444444444444444,
              "#bd3786"
             ],
             [
              0.5555555555555556,
              "#d8576b"
             ],
             [
              0.6666666666666666,
              "#ed7953"
             ],
             [
              0.7777777777777778,
              "#fb9f3a"
             ],
             [
              0.8888888888888888,
              "#fdca26"
             ],
             [
              1,
              "#f0f921"
             ]
            ],
            "type": "histogram2d"
           }
          ],
          "histogram2dcontour": [
           {
            "colorbar": {
             "outlinewidth": 0,
             "ticks": ""
            },
            "colorscale": [
             [
              0,
              "#0d0887"
             ],
             [
              0.1111111111111111,
              "#46039f"
             ],
             [
              0.2222222222222222,
              "#7201a8"
             ],
             [
              0.3333333333333333,
              "#9c179e"
             ],
             [
              0.4444444444444444,
              "#bd3786"
             ],
             [
              0.5555555555555556,
              "#d8576b"
             ],
             [
              0.6666666666666666,
              "#ed7953"
             ],
             [
              0.7777777777777778,
              "#fb9f3a"
             ],
             [
              0.8888888888888888,
              "#fdca26"
             ],
             [
              1,
              "#f0f921"
             ]
            ],
            "type": "histogram2dcontour"
           }
          ],
          "mesh3d": [
           {
            "colorbar": {
             "outlinewidth": 0,
             "ticks": ""
            },
            "type": "mesh3d"
           }
          ],
          "parcoords": [
           {
            "line": {
             "colorbar": {
              "outlinewidth": 0,
              "ticks": ""
             }
            },
            "type": "parcoords"
           }
          ],
          "pie": [
           {
            "automargin": true,
            "type": "pie"
           }
          ],
          "scatter": [
           {
            "fillpattern": {
             "fillmode": "overlay",
             "size": 10,
             "solidity": 0.2
            },
            "type": "scatter"
           }
          ],
          "scatter3d": [
           {
            "line": {
             "colorbar": {
              "outlinewidth": 0,
              "ticks": ""
             }
            },
            "marker": {
             "colorbar": {
              "outlinewidth": 0,
              "ticks": ""
             }
            },
            "type": "scatter3d"
           }
          ],
          "scattercarpet": [
           {
            "marker": {
             "colorbar": {
              "outlinewidth": 0,
              "ticks": ""
             }
            },
            "type": "scattercarpet"
           }
          ],
          "scattergeo": [
           {
            "marker": {
             "colorbar": {
              "outlinewidth": 0,
              "ticks": ""
             }
            },
            "type": "scattergeo"
           }
          ],
          "scattergl": [
           {
            "marker": {
             "colorbar": {
              "outlinewidth": 0,
              "ticks": ""
             }
            },
            "type": "scattergl"
           }
          ],
          "scattermapbox": [
           {
            "marker": {
             "colorbar": {
              "outlinewidth": 0,
              "ticks": ""
             }
            },
            "type": "scattermapbox"
           }
          ],
          "scatterpolar": [
           {
            "marker": {
             "colorbar": {
              "outlinewidth": 0,
              "ticks": ""
             }
            },
            "type": "scatterpolar"
           }
          ],
          "scatterpolargl": [
           {
            "marker": {
             "colorbar": {
              "outlinewidth": 0,
              "ticks": ""
             }
            },
            "type": "scatterpolargl"
           }
          ],
          "scatterternary": [
           {
            "marker": {
             "colorbar": {
              "outlinewidth": 0,
              "ticks": ""
             }
            },
            "type": "scatterternary"
           }
          ],
          "surface": [
           {
            "colorbar": {
             "outlinewidth": 0,
             "ticks": ""
            },
            "colorscale": [
             [
              0,
              "#0d0887"
             ],
             [
              0.1111111111111111,
              "#46039f"
             ],
             [
              0.2222222222222222,
              "#7201a8"
             ],
             [
              0.3333333333333333,
              "#9c179e"
             ],
             [
              0.4444444444444444,
              "#bd3786"
             ],
             [
              0.5555555555555556,
              "#d8576b"
             ],
             [
              0.6666666666666666,
              "#ed7953"
             ],
             [
              0.7777777777777778,
              "#fb9f3a"
             ],
             [
              0.8888888888888888,
              "#fdca26"
             ],
             [
              1,
              "#f0f921"
             ]
            ],
            "type": "surface"
           }
          ],
          "table": [
           {
            "cells": {
             "fill": {
              "color": "#EBF0F8"
             },
             "line": {
              "color": "white"
             }
            },
            "header": {
             "fill": {
              "color": "#C8D4E3"
             },
             "line": {
              "color": "white"
             }
            },
            "type": "table"
           }
          ]
         },
         "layout": {
          "annotationdefaults": {
           "arrowcolor": "#2a3f5f",
           "arrowhead": 0,
           "arrowwidth": 1
          },
          "autotypenumbers": "strict",
          "coloraxis": {
           "colorbar": {
            "outlinewidth": 0,
            "ticks": ""
           }
          },
          "colorscale": {
           "diverging": [
            [
             0,
             "#8e0152"
            ],
            [
             0.1,
             "#c51b7d"
            ],
            [
             0.2,
             "#de77ae"
            ],
            [
             0.3,
             "#f1b6da"
            ],
            [
             0.4,
             "#fde0ef"
            ],
            [
             0.5,
             "#f7f7f7"
            ],
            [
             0.6,
             "#e6f5d0"
            ],
            [
             0.7,
             "#b8e186"
            ],
            [
             0.8,
             "#7fbc41"
            ],
            [
             0.9,
             "#4d9221"
            ],
            [
             1,
             "#276419"
            ]
           ],
           "sequential": [
            [
             0,
             "#0d0887"
            ],
            [
             0.1111111111111111,
             "#46039f"
            ],
            [
             0.2222222222222222,
             "#7201a8"
            ],
            [
             0.3333333333333333,
             "#9c179e"
            ],
            [
             0.4444444444444444,
             "#bd3786"
            ],
            [
             0.5555555555555556,
             "#d8576b"
            ],
            [
             0.6666666666666666,
             "#ed7953"
            ],
            [
             0.7777777777777778,
             "#fb9f3a"
            ],
            [
             0.8888888888888888,
             "#fdca26"
            ],
            [
             1,
             "#f0f921"
            ]
           ],
           "sequentialminus": [
            [
             0,
             "#0d0887"
            ],
            [
             0.1111111111111111,
             "#46039f"
            ],
            [
             0.2222222222222222,
             "#7201a8"
            ],
            [
             0.3333333333333333,
             "#9c179e"
            ],
            [
             0.4444444444444444,
             "#bd3786"
            ],
            [
             0.5555555555555556,
             "#d8576b"
            ],
            [
             0.6666666666666666,
             "#ed7953"
            ],
            [
             0.7777777777777778,
             "#fb9f3a"
            ],
            [
             0.8888888888888888,
             "#fdca26"
            ],
            [
             1,
             "#f0f921"
            ]
           ]
          },
          "colorway": [
           "#636efa",
           "#EF553B",
           "#00cc96",
           "#ab63fa",
           "#FFA15A",
           "#19d3f3",
           "#FF6692",
           "#B6E880",
           "#FF97FF",
           "#FECB52"
          ],
          "font": {
           "color": "#2a3f5f"
          },
          "geo": {
           "bgcolor": "white",
           "lakecolor": "white",
           "landcolor": "#E5ECF6",
           "showlakes": true,
           "showland": true,
           "subunitcolor": "white"
          },
          "hoverlabel": {
           "align": "left"
          },
          "hovermode": "closest",
          "mapbox": {
           "style": "light"
          },
          "paper_bgcolor": "white",
          "plot_bgcolor": "#E5ECF6",
          "polar": {
           "angularaxis": {
            "gridcolor": "white",
            "linecolor": "white",
            "ticks": ""
           },
           "bgcolor": "#E5ECF6",
           "radialaxis": {
            "gridcolor": "white",
            "linecolor": "white",
            "ticks": ""
           }
          },
          "scene": {
           "xaxis": {
            "backgroundcolor": "#E5ECF6",
            "gridcolor": "white",
            "gridwidth": 2,
            "linecolor": "white",
            "showbackground": true,
            "ticks": "",
            "zerolinecolor": "white"
           },
           "yaxis": {
            "backgroundcolor": "#E5ECF6",
            "gridcolor": "white",
            "gridwidth": 2,
            "linecolor": "white",
            "showbackground": true,
            "ticks": "",
            "zerolinecolor": "white"
           },
           "zaxis": {
            "backgroundcolor": "#E5ECF6",
            "gridcolor": "white",
            "gridwidth": 2,
            "linecolor": "white",
            "showbackground": true,
            "ticks": "",
            "zerolinecolor": "white"
           }
          },
          "shapedefaults": {
           "line": {
            "color": "#2a3f5f"
           }
          },
          "ternary": {
           "aaxis": {
            "gridcolor": "white",
            "linecolor": "white",
            "ticks": ""
           },
           "baxis": {
            "gridcolor": "white",
            "linecolor": "white",
            "ticks": ""
           },
           "bgcolor": "#E5ECF6",
           "caxis": {
            "gridcolor": "white",
            "linecolor": "white",
            "ticks": ""
           }
          },
          "title": {
           "x": 0.05
          },
          "xaxis": {
           "automargin": true,
           "gridcolor": "white",
           "linecolor": "white",
           "ticks": "",
           "title": {
            "standoff": 15
           },
           "zerolinecolor": "white",
           "zerolinewidth": 2
          },
          "yaxis": {
           "automargin": true,
           "gridcolor": "white",
           "linecolor": "white",
           "ticks": "",
           "title": {
            "standoff": 15
           },
           "zerolinecolor": "white",
           "zerolinewidth": 2
          }
         }
        },
        "title": {
         "text": "Percentage of Floor vs High Fetches by Placement"
        },
        "xaxis": {
         "ticktext": [
          "Floor",
          "High"
         ],
         "tickvals": [
          "floor_percentage",
          "high_percentage"
         ],
         "title": {
          "text": "Fetch Type"
         }
        },
        "yaxis": {
         "tickformat": ".0%",
         "title": {
          "text": "Percentage"
         }
        }
       }
      }
     },
     "metadata": {},
     "output_type": "display_data"
    }
   ],
   "source": [
    "# create a bar plot showing the percentage of floor vs high fetches for each placement\n",
    "fig = go.Figure()\n",
    "for placement in floor_vs_high_df.index.get_level_values(0).unique():\n",
    "    placement_df = floor_vs_high_df.loc[placement]\n",
    "    fig.add_trace(go.Bar(x=placement_df.index, y=placement_df.values, name=placement))\n",
    "fig.update_layout(title='Percentage of Floor vs High Fetches by Placement', xaxis_title='Fetch Type', yaxis_title='Percentage', legend_title='Placement', legend=dict(orientation='h', yanchor='top', y=-0.2, xanchor='right', x=1), font=dict(size=14))\n",
    "# capitalize the column names\n",
    "fig.update_xaxes(ticktext=['Floor', 'High'], tickvals=['floor_percentage', 'high_percentage'])\n",
    "# add % to the y axis ticks\n",
    "fig.update_yaxes(tickformat='.0%')\n",
    "fig.show()\n",
    "\n",
    "# export the fig to a png file under the ./graphs/ folder\n",
    "fig.write_image('./graphs/floor_vs_high_percentages_by_placement.png', width=800, height=400)"
   ]
  },
  {
   "cell_type": "code",
   "execution_count": 566,
   "metadata": {},
   "outputs": [
    {
     "data": {
      "text/html": [
       "<div>\n",
       "<style scoped>\n",
       "    .dataframe tbody tr th:only-of-type {\n",
       "        vertical-align: middle;\n",
       "    }\n",
       "\n",
       "    .dataframe tbody tr th {\n",
       "        vertical-align: top;\n",
       "    }\n",
       "\n",
       "    .dataframe thead th {\n",
       "        text-align: right;\n",
       "    }\n",
       "</style>\n",
       "<table border=\"1\" class=\"dataframe\">\n",
       "  <thead>\n",
       "    <tr style=\"text-align: right;\">\n",
       "      <th></th>\n",
       "      <th></th>\n",
       "      <th>mean_total_daily_task_time</th>\n",
       "    </tr>\n",
       "    <tr>\n",
       "      <th>placement</th>\n",
       "      <th>employee</th>\n",
       "      <th></th>\n",
       "    </tr>\n",
       "  </thead>\n",
       "  <tbody>\n",
       "    <tr>\n",
       "      <th rowspan=\"5\" valign=\"top\">1</th>\n",
       "      <th>1</th>\n",
       "      <td>140.462500</td>\n",
       "    </tr>\n",
       "    <tr>\n",
       "      <th>2</th>\n",
       "      <td>84.185185</td>\n",
       "    </tr>\n",
       "    <tr>\n",
       "      <th>3</th>\n",
       "      <td>38.959259</td>\n",
       "    </tr>\n",
       "    <tr>\n",
       "      <th>4</th>\n",
       "      <td>157.699537</td>\n",
       "    </tr>\n",
       "    <tr>\n",
       "      <th>5</th>\n",
       "      <td>81.930556</td>\n",
       "    </tr>\n",
       "    <tr>\n",
       "      <th rowspan=\"5\" valign=\"top\">2</th>\n",
       "      <th>1</th>\n",
       "      <td>134.122857</td>\n",
       "    </tr>\n",
       "    <tr>\n",
       "      <th>2</th>\n",
       "      <td>78.410000</td>\n",
       "    </tr>\n",
       "    <tr>\n",
       "      <th>3</th>\n",
       "      <td>33.692857</td>\n",
       "    </tr>\n",
       "    <tr>\n",
       "      <th>4</th>\n",
       "      <td>167.092381</td>\n",
       "    </tr>\n",
       "    <tr>\n",
       "      <th>5</th>\n",
       "      <td>91.712857</td>\n",
       "    </tr>\n",
       "    <tr>\n",
       "      <th rowspan=\"5\" valign=\"top\">3</th>\n",
       "      <th>1</th>\n",
       "      <td>141.668095</td>\n",
       "    </tr>\n",
       "    <tr>\n",
       "      <th>2</th>\n",
       "      <td>81.193333</td>\n",
       "    </tr>\n",
       "    <tr>\n",
       "      <th>3</th>\n",
       "      <td>37.808095</td>\n",
       "    </tr>\n",
       "    <tr>\n",
       "      <th>4</th>\n",
       "      <td>157.350000</td>\n",
       "    </tr>\n",
       "    <tr>\n",
       "      <th>5</th>\n",
       "      <td>81.673810</td>\n",
       "    </tr>\n",
       "    <tr>\n",
       "      <th rowspan=\"5\" valign=\"top\">4</th>\n",
       "      <th>1</th>\n",
       "      <td>133.878095</td>\n",
       "    </tr>\n",
       "    <tr>\n",
       "      <th>2</th>\n",
       "      <td>77.220952</td>\n",
       "    </tr>\n",
       "    <tr>\n",
       "      <th>3</th>\n",
       "      <td>33.989048</td>\n",
       "    </tr>\n",
       "    <tr>\n",
       "      <th>4</th>\n",
       "      <td>169.759524</td>\n",
       "    </tr>\n",
       "    <tr>\n",
       "      <th>5</th>\n",
       "      <td>93.186190</td>\n",
       "    </tr>\n",
       "    <tr>\n",
       "      <th rowspan=\"5\" valign=\"top\">5</th>\n",
       "      <th>1</th>\n",
       "      <td>148.915873</td>\n",
       "    </tr>\n",
       "    <tr>\n",
       "      <th>2</th>\n",
       "      <td>89.209524</td>\n",
       "    </tr>\n",
       "    <tr>\n",
       "      <th>3</th>\n",
       "      <td>52.140476</td>\n",
       "    </tr>\n",
       "    <tr>\n",
       "      <th>4</th>\n",
       "      <td>157.745238</td>\n",
       "    </tr>\n",
       "    <tr>\n",
       "      <th>5</th>\n",
       "      <td>82.927778</td>\n",
       "    </tr>\n",
       "    <tr>\n",
       "      <th rowspan=\"5\" valign=\"top\">6</th>\n",
       "      <th>1</th>\n",
       "      <td>149.761905</td>\n",
       "    </tr>\n",
       "    <tr>\n",
       "      <th>2</th>\n",
       "      <td>92.710317</td>\n",
       "    </tr>\n",
       "    <tr>\n",
       "      <th>3</th>\n",
       "      <td>47.907143</td>\n",
       "    </tr>\n",
       "    <tr>\n",
       "      <th>4</th>\n",
       "      <td>157.085714</td>\n",
       "    </tr>\n",
       "    <tr>\n",
       "      <th>5</th>\n",
       "      <td>82.055556</td>\n",
       "    </tr>\n",
       "    <tr>\n",
       "      <th rowspan=\"5\" valign=\"top\">7</th>\n",
       "      <th>1</th>\n",
       "      <td>150.436508</td>\n",
       "    </tr>\n",
       "    <tr>\n",
       "      <th>2</th>\n",
       "      <td>93.016667</td>\n",
       "    </tr>\n",
       "    <tr>\n",
       "      <th>3</th>\n",
       "      <td>48.065079</td>\n",
       "    </tr>\n",
       "    <tr>\n",
       "      <th>4</th>\n",
       "      <td>154.950000</td>\n",
       "    </tr>\n",
       "    <tr>\n",
       "      <th>5</th>\n",
       "      <td>85.119048</td>\n",
       "    </tr>\n",
       "    <tr>\n",
       "      <th rowspan=\"5\" valign=\"top\">Current</th>\n",
       "      <th>1</th>\n",
       "      <td>132.171296</td>\n",
       "    </tr>\n",
       "    <tr>\n",
       "      <th>2</th>\n",
       "      <td>74.203704</td>\n",
       "    </tr>\n",
       "    <tr>\n",
       "      <th>3</th>\n",
       "      <td>32.562037</td>\n",
       "    </tr>\n",
       "    <tr>\n",
       "      <th>4</th>\n",
       "      <td>161.596759</td>\n",
       "    </tr>\n",
       "    <tr>\n",
       "      <th>5</th>\n",
       "      <td>100.137963</td>\n",
       "    </tr>\n",
       "  </tbody>\n",
       "</table>\n",
       "</div>"
      ],
      "text/plain": [
       "                    mean_total_daily_task_time\n",
       "placement employee                            \n",
       "1         1                         140.462500\n",
       "          2                          84.185185\n",
       "          3                          38.959259\n",
       "          4                         157.699537\n",
       "          5                          81.930556\n",
       "2         1                         134.122857\n",
       "          2                          78.410000\n",
       "          3                          33.692857\n",
       "          4                         167.092381\n",
       "          5                          91.712857\n",
       "3         1                         141.668095\n",
       "          2                          81.193333\n",
       "          3                          37.808095\n",
       "          4                         157.350000\n",
       "          5                          81.673810\n",
       "4         1                         133.878095\n",
       "          2                          77.220952\n",
       "          3                          33.989048\n",
       "          4                         169.759524\n",
       "          5                          93.186190\n",
       "5         1                         148.915873\n",
       "          2                          89.209524\n",
       "          3                          52.140476\n",
       "          4                         157.745238\n",
       "          5                          82.927778\n",
       "6         1                         149.761905\n",
       "          2                          92.710317\n",
       "          3                          47.907143\n",
       "          4                         157.085714\n",
       "          5                          82.055556\n",
       "7         1                         150.436508\n",
       "          2                          93.016667\n",
       "          3                          48.065079\n",
       "          4                         154.950000\n",
       "          5                          85.119048\n",
       "Current   1                         132.171296\n",
       "          2                          74.203704\n",
       "          3                          32.562037\n",
       "          4                         161.596759\n",
       "          5                         100.137963"
      ]
     },
     "execution_count": 566,
     "metadata": {},
     "output_type": "execute_result"
    }
   ],
   "source": [
    "mean_total_daily_fetch_time_by_employee_df = fetch_task_results_df.copy()\n",
    "# drop all rows where employee == 0\n",
    "mean_total_daily_fetch_time_by_employee_df = mean_total_daily_fetch_time_by_employee_df[mean_total_daily_fetch_time_by_employee_df['employee'] != 0]\n",
    "mean_total_daily_fetch_time_by_employee_df = mean_total_daily_fetch_time_by_employee_df[~pd.to_datetime(mean_total_daily_fetch_time_by_employee_df['date']).dt.dayofweek.isin([4,5])]\n",
    "# keep only the placement, date, employee, task_time\n",
    "mean_total_daily_fetch_time_by_employee_df = mean_total_daily_fetch_time_by_employee_df[['placement', 'date', 'employee', 'task_time']]\n",
    "# group by placement, date, employee and calculate the sum of task time\n",
    "mean_total_daily_fetch_time_by_employee_df = mean_total_daily_fetch_time_by_employee_df.groupby(['placement', 'date', 'employee']).sum().reset_index()\n",
    "# group by placement, employee and calculate the mean of task time\n",
    "mean_total_daily_fetch_time_by_employee_df = mean_total_daily_fetch_time_by_employee_df.groupby(['placement', 'employee'])[['task_time']].mean()\n",
    "# rename the task_time column to mean_toal_daily_task_time\n",
    "mean_total_daily_fetch_time_by_employee_df = mean_total_daily_fetch_time_by_employee_df.rename(columns={'task_time': 'mean_total_daily_task_time'})\n",
    "# convert from seconds to minutes\n",
    "mean_total_daily_fetch_time_by_employee_df['mean_total_daily_task_time'] = mean_total_daily_fetch_time_by_employee_df['mean_total_daily_task_time'] / 60\n",
    "mean_total_daily_fetch_time_by_employee_df"
   ]
  }
 ],
 "metadata": {
  "kernelspec": {
   "display_name": "venv",
   "language": "python",
   "name": "python3"
  },
  "language_info": {
   "codemirror_mode": {
    "name": "ipython",
    "version": 3
   },
   "file_extension": ".py",
   "mimetype": "text/x-python",
   "name": "python",
   "nbconvert_exporter": "python",
   "pygments_lexer": "ipython3",
   "version": "3.10.11"
  },
  "orig_nbformat": 4
 },
 "nbformat": 4,
 "nbformat_minor": 2
}
